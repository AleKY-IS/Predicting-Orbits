{
 "cells": [
  {
   "cell_type": "code",
   "execution_count": 1,
   "id": "significant-inspiration",
   "metadata": {},
   "outputs": [],
   "source": [
    "# Load DataFrame and Libs\n",
    "\n",
    "import pandas as pd\n",
    "import numpy as np\n",
    "import matplotlib.pyplot as plt\n",
    "#import seaborn as sns\n",
    "#sns.set_style('whitegrid')\n",
    "plt.style.use(\"fivethirtyeight\")\n",
    "%matplotlib inline\n",
    "from sklearn.preprocessing import MinMaxScaler\n",
    "from keras.models import Sequential\n",
    "from keras.layers import Dense, LSTM\n",
    "\n",
    "df = pd.read_csv('Dataframes/3rdBodyPerturbationPoliastro.csv')\n",
    "df_v = pd.read_csv('Dataframes/3rdBodyPerturbationPoliastro_vv.csv')\n",
    "\n",
    "df['x_vv']=df_v.vv_x\n",
    "df['y_vv']=df_v.vv_y\n",
    "df['z_vv']=df_v.vv_z"
   ]
  },
  {
   "cell_type": "code",
   "execution_count": 2,
   "id": "expressed-steel",
   "metadata": {},
   "outputs": [
    {
     "data": {
      "text/html": [
       "<div>\n",
       "<style scoped>\n",
       "    .dataframe tbody tr th:only-of-type {\n",
       "        vertical-align: middle;\n",
       "    }\n",
       "\n",
       "    .dataframe tbody tr th {\n",
       "        vertical-align: top;\n",
       "    }\n",
       "\n",
       "    .dataframe thead th {\n",
       "        text-align: right;\n",
       "    }\n",
       "</style>\n",
       "<table border=\"1\" class=\"dataframe\">\n",
       "  <thead>\n",
       "    <tr style=\"text-align: right;\">\n",
       "      <th></th>\n",
       "      <th>x</th>\n",
       "      <th>y</th>\n",
       "      <th>z</th>\n",
       "      <th>x_vv</th>\n",
       "      <th>y_vv</th>\n",
       "      <th>z_vv</th>\n",
       "    </tr>\n",
       "  </thead>\n",
       "  <tbody>\n",
       "    <tr>\n",
       "      <th>0</th>\n",
       "      <td>42159.783600</td>\n",
       "      <td>0.000000</td>\n",
       "      <td>0.000000</td>\n",
       "      <td>0.000000</td>\n",
       "      <td>3.074505</td>\n",
       "      <td>0.053666</td>\n",
       "    </tr>\n",
       "    <tr>\n",
       "      <th>1</th>\n",
       "      <td>39159.545914</td>\n",
       "      <td>15563.916303</td>\n",
       "      <td>266.913399</td>\n",
       "      <td>-1.142984</td>\n",
       "      <td>2.852848</td>\n",
       "      <td>0.048528</td>\n",
       "    </tr>\n",
       "    <tr>\n",
       "      <th>2</th>\n",
       "      <td>30572.229294</td>\n",
       "      <td>28909.053086</td>\n",
       "      <td>496.928223</td>\n",
       "      <td>-2.127756</td>\n",
       "      <td>2.228986</td>\n",
       "      <td>0.039518</td>\n",
       "    </tr>\n",
       "    <tr>\n",
       "      <th>3</th>\n",
       "      <td>17596.068412</td>\n",
       "      <td>38144.740319</td>\n",
       "      <td>671.356184</td>\n",
       "      <td>-2.813645</td>\n",
       "      <td>1.287415</td>\n",
       "      <td>0.027234</td>\n",
       "    </tr>\n",
       "    <tr>\n",
       "      <th>4</th>\n",
       "      <td>2068.446366</td>\n",
       "      <td>41949.706443</td>\n",
       "      <td>775.646554</td>\n",
       "      <td>-3.098444</td>\n",
       "      <td>0.161675</td>\n",
       "      <td>0.012698</td>\n",
       "    </tr>\n",
       "    <tr>\n",
       "      <th>...</th>\n",
       "      <td>...</td>\n",
       "      <td>...</td>\n",
       "      <td>...</td>\n",
       "      <td>...</td>\n",
       "      <td>...</td>\n",
       "      <td>...</td>\n",
       "    </tr>\n",
       "    <tr>\n",
       "      <th>995</th>\n",
       "      <td>38132.961517</td>\n",
       "      <td>21370.880108</td>\n",
       "      <td>-7532.333000</td>\n",
       "      <td>-0.876644</td>\n",
       "      <td>2.199413</td>\n",
       "      <td>1.750026</td>\n",
       "    </tr>\n",
       "    <tr>\n",
       "      <th>996</th>\n",
       "      <td>31399.515894</td>\n",
       "      <td>31233.289707</td>\n",
       "      <td>1828.575655</td>\n",
       "      <td>-1.692745</td>\n",
       "      <td>1.562118</td>\n",
       "      <td>1.820311</td>\n",
       "    </tr>\n",
       "    <tr>\n",
       "      <th>997</th>\n",
       "      <td>20906.077447</td>\n",
       "      <td>37238.565267</td>\n",
       "      <td>10967.804062</td>\n",
       "      <td>-2.312211</td>\n",
       "      <td>0.726117</td>\n",
       "      <td>1.664753</td>\n",
       "    </tr>\n",
       "    <tr>\n",
       "      <th>998</th>\n",
       "      <td>7871.245318</td>\n",
       "      <td>38575.122415</td>\n",
       "      <td>18731.818721</td>\n",
       "      <td>-2.661184</td>\n",
       "      <td>-0.221639</td>\n",
       "      <td>1.293445</td>\n",
       "    </tr>\n",
       "    <tr>\n",
       "      <th>999</th>\n",
       "      <td>-6142.526530</td>\n",
       "      <td>34919.272230</td>\n",
       "      <td>24066.202237</td>\n",
       "      <td>-2.681132</td>\n",
       "      <td>-1.179765</td>\n",
       "      <td>0.734721</td>\n",
       "    </tr>\n",
       "  </tbody>\n",
       "</table>\n",
       "<p>1000 rows × 6 columns</p>\n",
       "</div>"
      ],
      "text/plain": [
       "                x             y             z      x_vv      y_vv      z_vv\n",
       "0    42159.783600      0.000000      0.000000  0.000000  3.074505  0.053666\n",
       "1    39159.545914  15563.916303    266.913399 -1.142984  2.852848  0.048528\n",
       "2    30572.229294  28909.053086    496.928223 -2.127756  2.228986  0.039518\n",
       "3    17596.068412  38144.740319    671.356184 -2.813645  1.287415  0.027234\n",
       "4     2068.446366  41949.706443    775.646554 -3.098444  0.161675  0.012698\n",
       "..            ...           ...           ...       ...       ...       ...\n",
       "995  38132.961517  21370.880108  -7532.333000 -0.876644  2.199413  1.750026\n",
       "996  31399.515894  31233.289707   1828.575655 -1.692745  1.562118  1.820311\n",
       "997  20906.077447  37238.565267  10967.804062 -2.312211  0.726117  1.664753\n",
       "998   7871.245318  38575.122415  18731.818721 -2.661184 -0.221639  1.293445\n",
       "999  -6142.526530  34919.272230  24066.202237 -2.681132 -1.179765  0.734721\n",
       "\n",
       "[1000 rows x 6 columns]"
      ]
     },
     "execution_count": 2,
     "metadata": {},
     "output_type": "execute_result"
    }
   ],
   "source": [
    "# Full 6D r,v elements\n",
    "\n",
    "df"
   ]
  },
  {
   "cell_type": "code",
   "execution_count": 3,
   "id": "fifty-isolation",
   "metadata": {},
   "outputs": [],
   "source": [
    "# convert an array of values into a dataset matrix\n",
    "\n",
    "def create_dataset(dataset, look_back):\n",
    "    dataX = []\n",
    "    dataY = []\n",
    "    for i in range(len(dataset) - look_back):\n",
    "        a = dataset[i:(i + look_back), :]\n",
    "        dataX.append(a)\n",
    "        dataY.append(dataset[i + look_back, predicted_feature]) # 2 stands for prediction of Z!!! (3rd col)\n",
    "    return np.array(dataX), np.array(dataY)"
   ]
  },
  {
   "cell_type": "code",
   "execution_count": 4,
   "id": "about-lighting",
   "metadata": {},
   "outputs": [],
   "source": [
    "# Function\n",
    "\n",
    "def train_vector(df, predicted_feature):\n",
    "    \n",
    "    # load the dataset\n",
    "    dataset = df.values\n",
    "    \n",
    "    # split into train and test sets\n",
    "    train_size = int(len(dataset) * 0.8) \n",
    "    test_size = len(dataset) - train_size\n",
    "    train=dataset[0 : train_size]\n",
    "    test=dataset[train_size - 60 : ]\n",
    "    \n",
    "    #Scale the data\n",
    "    scaler = MinMaxScaler()\n",
    "    train = scaler.fit_transform(train)\n",
    "    test = scaler.transform(test)\n",
    "    # reshape into X=t and Y=t+1\n",
    "    look_back = 60 # this is the window\n",
    "    trainX, trainY = create_dataset(train, look_back)  \n",
    "    testX, testY = create_dataset(test, look_back)\n",
    "    # reshape input to be  [length of train/test data, window size (def=60), features]\n",
    "    trainX = np.reshape(trainX, (trainX.shape[0], look_back, 6))\n",
    "    testX = np.reshape(testX, (testX.shape[0],look_back, 6))\n",
    "    \n",
    "    # Build the LSTM model\n",
    "    # Note: replace LSTM with GRU or RNN if you want to try those\n",
    "    model = Sequential()\n",
    "    model.add(LSTM(128, return_sequences=True, input_shape= (look_back, 6)))\n",
    "    model.add(LSTM(64, return_sequences=False))\n",
    "    model.add(Dense(25))\n",
    "    model.add(Dense(1))\n",
    "    # Compile the model\n",
    "    model.compile(optimizer='adam', loss='mean_squared_error')\n",
    "    # Train the model\n",
    "    history=model.fit(trainX, trainY, batch_size=256, epochs=100)\n",
    "\n",
    "    predictions = model.predict(testX)\n",
    "    predict_ext = np.zeros((len(predictions), 6))\n",
    "    predict_ext[:,predicted_feature] = predictions[:,0]\n",
    "    predictions = scaler.inverse_transform(predict_ext)[:,predicted_feature]\n",
    "    \n",
    "    testY_extended = np.zeros((len(testY),6))\n",
    "    testY_extended[:,predicted_feature]=testY\n",
    "    testY=scaler.inverse_transform(testY_extended)[:,predicted_feature]\n",
    "    \n",
    "    rmse = np.sqrt(np.mean(((predictions - testY) ** 2)))\n",
    "    print(f'RMSE for feature {predicted_feature} is: ' + str(rmse))\n",
    "    \n",
    "    pred=np.reshape(predictions, (predictions.shape[0]))\n",
    "    pred_s=pd.Series(pred)\n",
    "    df_pred[str(predicted_feature)]=pred_s\n",
    "    \n",
    "    #Output dataframe of predictions in 6 dimensions r,v\n",
    "    return df_pred"
   ]
  },
  {
   "cell_type": "code",
   "execution_count": 5,
   "id": "charming-member",
   "metadata": {},
   "outputs": [
    {
     "ename": "NameError",
     "evalue": "name 'predicted_feature' is not defined",
     "output_type": "error",
     "traceback": [
      "\u001b[1;31m---------------------------------------------------------------------------\u001b[0m",
      "\u001b[1;31mNameError\u001b[0m                                 Traceback (most recent call last)",
      "\u001b[1;32m<ipython-input-5-624916dee945>\u001b[0m in \u001b[0;36m<module>\u001b[1;34m\u001b[0m\n\u001b[0;32m      1\u001b[0m \u001b[1;31m# Call\u001b[0m\u001b[1;33m\u001b[0m\u001b[1;33m\u001b[0m\u001b[1;33m\u001b[0m\u001b[0m\n\u001b[0;32m      2\u001b[0m \u001b[1;33m\u001b[0m\u001b[0m\n\u001b[1;32m----> 3\u001b[1;33m \u001b[0mtrain_vector\u001b[0m\u001b[1;33m(\u001b[0m\u001b[0mdf\u001b[0m\u001b[1;33m,\u001b[0m \u001b[1;36m0\u001b[0m\u001b[1;33m)\u001b[0m\u001b[1;33m\u001b[0m\u001b[1;33m\u001b[0m\u001b[0m\n\u001b[0m",
      "\u001b[1;32m<ipython-input-4-79fd4b0ab77b>\u001b[0m in \u001b[0;36mtrain_vector\u001b[1;34m(df, predicted_feature)\u001b[0m\n\u001b[0;32m     18\u001b[0m     \u001b[1;31m# reshape into X=t and Y=t+1\u001b[0m\u001b[1;33m\u001b[0m\u001b[1;33m\u001b[0m\u001b[1;33m\u001b[0m\u001b[0m\n\u001b[0;32m     19\u001b[0m     \u001b[0mlook_back\u001b[0m \u001b[1;33m=\u001b[0m \u001b[1;36m60\u001b[0m \u001b[1;31m# this is the window\u001b[0m\u001b[1;33m\u001b[0m\u001b[1;33m\u001b[0m\u001b[0m\n\u001b[1;32m---> 20\u001b[1;33m     \u001b[0mtrainX\u001b[0m\u001b[1;33m,\u001b[0m \u001b[0mtrainY\u001b[0m \u001b[1;33m=\u001b[0m \u001b[0mcreate_dataset\u001b[0m\u001b[1;33m(\u001b[0m\u001b[0mtrain\u001b[0m\u001b[1;33m,\u001b[0m \u001b[0mlook_back\u001b[0m\u001b[1;33m)\u001b[0m\u001b[1;33m\u001b[0m\u001b[1;33m\u001b[0m\u001b[0m\n\u001b[0m\u001b[0;32m     21\u001b[0m     \u001b[0mtestX\u001b[0m\u001b[1;33m,\u001b[0m \u001b[0mtestY\u001b[0m \u001b[1;33m=\u001b[0m \u001b[0mcreate_dataset\u001b[0m\u001b[1;33m(\u001b[0m\u001b[0mtest\u001b[0m\u001b[1;33m,\u001b[0m \u001b[0mlook_back\u001b[0m\u001b[1;33m)\u001b[0m\u001b[1;33m\u001b[0m\u001b[1;33m\u001b[0m\u001b[0m\n\u001b[0;32m     22\u001b[0m     \u001b[1;31m# reshape input to be  [length of train/test data, window size (def=60), features]\u001b[0m\u001b[1;33m\u001b[0m\u001b[1;33m\u001b[0m\u001b[1;33m\u001b[0m\u001b[0m\n",
      "\u001b[1;32m<ipython-input-3-24d7db7517f9>\u001b[0m in \u001b[0;36mcreate_dataset\u001b[1;34m(dataset, look_back)\u001b[0m\n\u001b[0;32m      7\u001b[0m         \u001b[0ma\u001b[0m \u001b[1;33m=\u001b[0m \u001b[0mdataset\u001b[0m\u001b[1;33m[\u001b[0m\u001b[0mi\u001b[0m\u001b[1;33m:\u001b[0m\u001b[1;33m(\u001b[0m\u001b[0mi\u001b[0m \u001b[1;33m+\u001b[0m \u001b[0mlook_back\u001b[0m\u001b[1;33m)\u001b[0m\u001b[1;33m,\u001b[0m \u001b[1;33m:\u001b[0m\u001b[1;33m]\u001b[0m\u001b[1;33m\u001b[0m\u001b[1;33m\u001b[0m\u001b[0m\n\u001b[0;32m      8\u001b[0m         \u001b[0mdataX\u001b[0m\u001b[1;33m.\u001b[0m\u001b[0mappend\u001b[0m\u001b[1;33m(\u001b[0m\u001b[0ma\u001b[0m\u001b[1;33m)\u001b[0m\u001b[1;33m\u001b[0m\u001b[1;33m\u001b[0m\u001b[0m\n\u001b[1;32m----> 9\u001b[1;33m         \u001b[0mdataY\u001b[0m\u001b[1;33m.\u001b[0m\u001b[0mappend\u001b[0m\u001b[1;33m(\u001b[0m\u001b[0mdataset\u001b[0m\u001b[1;33m[\u001b[0m\u001b[0mi\u001b[0m \u001b[1;33m+\u001b[0m \u001b[0mlook_back\u001b[0m\u001b[1;33m,\u001b[0m \u001b[0mpredicted_feature\u001b[0m\u001b[1;33m]\u001b[0m\u001b[1;33m)\u001b[0m \u001b[1;31m# 2 stands for prediction of Z!!! (3rd col)\u001b[0m\u001b[1;33m\u001b[0m\u001b[1;33m\u001b[0m\u001b[0m\n\u001b[0m\u001b[0;32m     10\u001b[0m     \u001b[1;32mreturn\u001b[0m \u001b[0mnp\u001b[0m\u001b[1;33m.\u001b[0m\u001b[0marray\u001b[0m\u001b[1;33m(\u001b[0m\u001b[0mdataX\u001b[0m\u001b[1;33m)\u001b[0m\u001b[1;33m,\u001b[0m \u001b[0mnp\u001b[0m\u001b[1;33m.\u001b[0m\u001b[0marray\u001b[0m\u001b[1;33m(\u001b[0m\u001b[0mdataY\u001b[0m\u001b[1;33m)\u001b[0m\u001b[1;33m\u001b[0m\u001b[1;33m\u001b[0m\u001b[0m\n",
      "\u001b[1;31mNameError\u001b[0m: name 'predicted_feature' is not defined"
     ]
    }
   ],
   "source": [
    "# Call\n",
    "\n",
    "train_vector(df, 0)"
   ]
  },
  {
   "cell_type": "code",
   "execution_count": null,
   "id": "twenty-launch",
   "metadata": {
    "scrolled": true
   },
   "outputs": [],
   "source": [
    "# Call for full 6D training\n",
    "\n",
    "# Init empty predictions DF\n",
    "df_pred= pd.DataFrame(columns=['0', '1', '2', '3', '4', '5'])\n",
    "\n",
    "for predicted_feature in range(0,6):\n",
    "    train_vector(df, predicted_feature)\n",
    "\n",
    "#Rename predictions df columns from numerals\n",
    "df_pred.columns=['x', 'y', 'z', 'x_vv', 'y_vv', 'z_vv']\n",
    "df_pred"
   ]
  },
  {
   "cell_type": "markdown",
   "id": "narrative-reynolds",
   "metadata": {},
   "source": [
    "### Compare and plot results/errors SEPARATELY"
   ]
  },
  {
   "cell_type": "code",
   "execution_count": null,
   "id": "imposed-america",
   "metadata": {},
   "outputs": [],
   "source": [
    "train_size = int(len(df) * 0.8) \n",
    "\n",
    "test_df = df[train_size:]\n",
    "train_df = df[:train_size]\n",
    "\n",
    "test_df"
   ]
  },
  {
   "cell_type": "code",
   "execution_count": null,
   "id": "photographic-interaction",
   "metadata": {},
   "outputs": [],
   "source": [
    "df_pred.index=test_df.index"
   ]
  },
  {
   "cell_type": "code",
   "execution_count": null,
   "id": "equipped-retirement",
   "metadata": {
    "scrolled": true
   },
   "outputs": [],
   "source": [
    "for feature in list(test_df.columns):\n",
    "    \n",
    "    plt.figure(figsize=(16,8))\n",
    "\n",
    "    plt.plot(train_df[feature])\n",
    "    plt.plot(test_df[feature])\n",
    "    plt.plot(df_pred[feature])\n",
    "\n",
    "    plt.title(f'Feature {feature}')\n",
    "    plt.xlabel('Time', fontsize=18)\n",
    "    plt.ylabel('Coord [m]', fontsize=18)\n",
    "    plt.legend(['Train', 'Test', 'Predictions'], loc='lower right')\n",
    "    plt.show()\n"
   ]
  },
  {
   "cell_type": "code",
   "execution_count": null,
   "id": "metropolitan-sunglasses",
   "metadata": {
    "scrolled": true
   },
   "outputs": [],
   "source": [
    "# ABSOLUTE ERRORS:\n",
    "\n",
    "for feature in list(test_df.columns):\n",
    "    \n",
    "    plt.figure(figsize=(16,8))\n",
    "\n",
    "    plt.plot(abs(df_pred[feature]-test_df[feature])/max(test_df[feature]))\n",
    "\n",
    "    plt.title(f'Feature {feature} absolute error plot:')\n",
    "    plt.xlabel('Time', fontsize=18)\n",
    "    plt.ylabel('Absolute Error [/]', fontsize=18)\n",
    "    plt.show()"
   ]
  },
  {
   "cell_type": "code",
   "execution_count": null,
   "id": "incredible-surprise",
   "metadata": {
    "scrolled": true
   },
   "outputs": [],
   "source": [
    "# RELATIVE ERRORS\n",
    "\n",
    "for feature in list(test_df.columns):\n",
    "    \n",
    "    plt.figure(figsize=(16,8))\n",
    "\n",
    "    plt.plot(abs(df_pred[feature]-test_df[feature])/test_df[feature])\n",
    "\n",
    "    plt.title(f'Feature {feature} relative error plot:')\n",
    "    plt.xlabel('Time', fontsize=18)\n",
    "    plt.ylabel('Relative Error [/]', fontsize=18)\n",
    "    plt.show()"
   ]
  },
  {
   "cell_type": "markdown",
   "id": "demanding-chase",
   "metadata": {},
   "source": [
    "## Compare and Plot 3D trajectories/errors:"
   ]
  },
  {
   "cell_type": "markdown",
   "id": "vulnerable-description",
   "metadata": {},
   "source": [
    "### 1. For 3D Position coordinates"
   ]
  },
  {
   "cell_type": "code",
   "execution_count": null,
   "id": "domestic-protocol",
   "metadata": {},
   "outputs": [],
   "source": [
    "fig = plt.figure()\n",
    "plt.figure(figsize=(50,20))\n",
    "\n",
    "plt.axes(projection=\"3d\")\n",
    "x_line = df_pred['x']\n",
    "y_line = df_pred['y']\n",
    "z_line = df_pred['z']\n",
    "plt.plot(x_line, y_line, z_line, 'red')\n",
    "\n",
    "x_line2 = test_df['x']\n",
    "y_line2 = test_df['y']\n",
    "z_line2 = test_df['z']\n",
    "plt.plot(x_line2, y_line2, z_line2, 'yellow')\n",
    "\n",
    "plt.legend(['Predictions', 'Test'], loc='lower right')\n",
    "plt.show()"
   ]
  },
  {
   "cell_type": "markdown",
   "id": "finnish-corpus",
   "metadata": {},
   "source": [
    "### 2. For 3D velocity coordinates"
   ]
  },
  {
   "cell_type": "code",
   "execution_count": null,
   "id": "satellite-amsterdam",
   "metadata": {},
   "outputs": [],
   "source": [
    "fig = plt.figure()\n",
    "plt.figure(figsize=(50,20))\n",
    "\n",
    "plt.axes(projection=\"3d\")\n",
    "x_line = df_pred['x_vv']\n",
    "y_line = df_pred['y_vv']\n",
    "z_line = df_pred['z_vv']\n",
    "plt.plot(x_line, y_line, z_line, 'red')\n",
    "\n",
    "x_line2 = test_df['x_vv']\n",
    "y_line2 = test_df['y_vv']\n",
    "z_line2 = test_df['z_vv']\n",
    "plt.plot(x_line2, y_line2, z_line2, 'yellow')\n",
    "\n",
    "plt.legend(['Predictions', 'Test'], loc='lower right')\n",
    "plt.show()"
   ]
  },
  {
   "cell_type": "markdown",
   "id": "cellular-deposit",
   "metadata": {},
   "source": [
    "## 3D Errors"
   ]
  },
  {
   "cell_type": "markdown",
   "id": "caring-region",
   "metadata": {},
   "source": [
    "### 1. Distance Error\n",
    "\n",
    "https://www.engineeringtoolbox.com/distance-relationship-between-two-points-d_1854.html"
   ]
  },
  {
   "cell_type": "code",
   "execution_count": null,
   "id": "simple-village",
   "metadata": {},
   "outputs": [],
   "source": [
    "# Init empty DF for errors\n",
    "df_err= pd.DataFrame(columns=['x_test', 'y_test', 'z_test', 'x_pred', 'y_pred', 'z_pred'])\n",
    "\n",
    "df_err['x_test']=test_df['x']\n",
    "df_err['y_test']=test_df['y']\n",
    "df_err['z_test']=test_df['z']\n",
    "\n",
    "df_err['x_pred']=df_pred['x']\n",
    "df_err['y_pred']=df_pred['y']\n",
    "df_err['z_pred']=df_pred['z']\n",
    "\n",
    "df_err"
   ]
  },
  {
   "cell_type": "code",
   "execution_count": null,
   "id": "tired-russell",
   "metadata": {},
   "outputs": [],
   "source": [
    "import math\n",
    "\n",
    "# Difference in distance in 3D (Position)\n",
    "\n",
    "df_err['distance_error'] = ( (df_err.x_test-df_err.x_pred)**2 + (df_err.y_test-df_err.y_pred)**2 + (df_err.z_test-df_err.z_pred)**2 )**(1/2)\n",
    "df_err['distance_error'].apply(lambda x: float(x))\n",
    "df_err"
   ]
  },
  {
   "cell_type": "code",
   "execution_count": null,
   "id": "convinced-joseph",
   "metadata": {},
   "outputs": [],
   "source": [
    "plt.figure(figsize=(16,8))\n",
    "plt.plot(df_err.distance_error)\n",
    "plt.title('Distance errors for 3D position vectors')\n",
    "plt.xlabel('Time', fontsize=18)\n",
    "plt.ylabel('Distance Error (m)', fontsize=18)\n",
    "plt.show()"
   ]
  },
  {
   "cell_type": "markdown",
   "id": "lovely-attraction",
   "metadata": {},
   "source": [
    "### 2. Absolute errors"
   ]
  },
  {
   "cell_type": "code",
   "execution_count": null,
   "id": "convertible-better",
   "metadata": {},
   "outputs": [],
   "source": []
  },
  {
   "cell_type": "code",
   "execution_count": null,
   "id": "scenic-slide",
   "metadata": {},
   "outputs": [],
   "source": []
  },
  {
   "cell_type": "markdown",
   "id": "private-eugene",
   "metadata": {},
   "source": [
    "### Trying to make better/interactive plots :)"
   ]
  },
  {
   "cell_type": "code",
   "execution_count": null,
   "id": "suitable-amount",
   "metadata": {},
   "outputs": [],
   "source": [
    "from plotly import __version__\n",
    "%matplotlib inline\n",
    "import cufflinks as cf\n",
    "from plotly.offline import download_plotlyjs, init_notebook_mode, plot, iplot\n",
    "init_notebook_mode(connected=True)\n",
    "import plotly.graph_objects as go\n",
    "import plotly.io as pio\n",
    "\n",
    "init_notebook_mode(connected=True)\n",
    "cf.go_offline()"
   ]
  },
  {
   "cell_type": "code",
   "execution_count": null,
   "id": "continued-thesis",
   "metadata": {},
   "outputs": [],
   "source": [
    "fig = plt.figure()\n",
    "plt.figure(figsize=(50,20))\n",
    "\n",
    "plt.axes(projection=\"3d\")\n",
    "x_line = df_pred['x']\n",
    "y_line = df_pred['y']\n",
    "z_line = df_pred['z']\n",
    "plt.iplot(x_line, y_line, z_line, 'red')\n",
    "\n",
    "x_line2 = test_df['x']\n",
    "y_line2 = test_df['y']\n",
    "z_line2 = test_df['z']\n",
    "plt.iplot(x_line2, y_line2, z_line2, 'yellow')\n",
    "\n",
    "plt.legend(['Predictions', 'Test'], loc='lower right')\n",
    "plt.show()"
   ]
  },
  {
   "cell_type": "code",
   "execution_count": null,
   "id": "informational-emphasis",
   "metadata": {},
   "outputs": [],
   "source": [
    "import plotly.express as px\n",
    "\n",
    "fig = px.line_3d(df_pred, x=\"x\", y=\"y\", z=\"z\")\n",
    "fig = px.line_3d(test_df, x=\"x\", y=\"y\", z=\"z\")\n",
    "fig.show()"
   ]
  },
  {
   "cell_type": "code",
   "execution_count": null,
   "id": "plastic-parking",
   "metadata": {},
   "outputs": [],
   "source": []
  },
  {
   "cell_type": "code",
   "execution_count": null,
   "id": "written-mechanics",
   "metadata": {},
   "outputs": [],
   "source": []
  }
 ],
 "metadata": {
  "kernelspec": {
   "display_name": "Python 3",
   "language": "python",
   "name": "python3"
  },
  "language_info": {
   "codemirror_mode": {
    "name": "ipython",
    "version": 3
   },
   "file_extension": ".py",
   "mimetype": "text/x-python",
   "name": "python",
   "nbconvert_exporter": "python",
   "pygments_lexer": "ipython3",
   "version": "3.7.9"
  }
 },
 "nbformat": 4,
 "nbformat_minor": 5
}
