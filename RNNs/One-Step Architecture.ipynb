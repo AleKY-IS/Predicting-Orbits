{
 "cells": [
  {
   "cell_type": "code",
   "execution_count": 1,
   "id": "featured-nashville",
   "metadata": {},
   "outputs": [],
   "source": [
    "import pandas as pd\n",
    "import numpy as np\n",
    "from sklearn.preprocessing import MinMaxScaler\n",
    "import matplotlib.pyplot as plt\n",
    "import tensorflow as tf\n",
    "import os\n",
    "from sklearn.metrics import mean_squared_error\n",
    "import math\n",
    "import warnings\n",
    "warnings.filterwarnings(\"ignore\")"
   ]
  },
  {
   "cell_type": "code",
   "execution_count": 2,
   "id": "flush-nylon",
   "metadata": {},
   "outputs": [
    {
     "data": {
      "text/html": [
       "<div>\n",
       "<style scoped>\n",
       "    .dataframe tbody tr th:only-of-type {\n",
       "        vertical-align: middle;\n",
       "    }\n",
       "\n",
       "    .dataframe tbody tr th {\n",
       "        vertical-align: top;\n",
       "    }\n",
       "\n",
       "    .dataframe thead th {\n",
       "        text-align: right;\n",
       "    }\n",
       "</style>\n",
       "<table border=\"1\" class=\"dataframe\">\n",
       "  <thead>\n",
       "    <tr style=\"text-align: right;\">\n",
       "      <th></th>\n",
       "      <th>x</th>\n",
       "      <th>y</th>\n",
       "      <th>z</th>\n",
       "      <th>x_vv</th>\n",
       "      <th>y_vv</th>\n",
       "      <th>z_vv</th>\n",
       "    </tr>\n",
       "  </thead>\n",
       "  <tbody>\n",
       "    <tr>\n",
       "      <th>0</th>\n",
       "      <td>42159.783600</td>\n",
       "      <td>0.000000</td>\n",
       "      <td>0.000000</td>\n",
       "      <td>0.000000</td>\n",
       "      <td>3.074505</td>\n",
       "      <td>0.053666</td>\n",
       "    </tr>\n",
       "    <tr>\n",
       "      <th>1</th>\n",
       "      <td>39159.545914</td>\n",
       "      <td>15563.916303</td>\n",
       "      <td>266.913399</td>\n",
       "      <td>-1.142984</td>\n",
       "      <td>2.852848</td>\n",
       "      <td>0.048528</td>\n",
       "    </tr>\n",
       "    <tr>\n",
       "      <th>2</th>\n",
       "      <td>30572.229294</td>\n",
       "      <td>28909.053086</td>\n",
       "      <td>496.928223</td>\n",
       "      <td>-2.127756</td>\n",
       "      <td>2.228986</td>\n",
       "      <td>0.039518</td>\n",
       "    </tr>\n",
       "    <tr>\n",
       "      <th>3</th>\n",
       "      <td>17596.068412</td>\n",
       "      <td>38144.740319</td>\n",
       "      <td>671.356184</td>\n",
       "      <td>-2.813645</td>\n",
       "      <td>1.287415</td>\n",
       "      <td>0.027234</td>\n",
       "    </tr>\n",
       "    <tr>\n",
       "      <th>4</th>\n",
       "      <td>2068.446366</td>\n",
       "      <td>41949.706443</td>\n",
       "      <td>775.646554</td>\n",
       "      <td>-3.098444</td>\n",
       "      <td>0.161675</td>\n",
       "      <td>0.012698</td>\n",
       "    </tr>\n",
       "    <tr>\n",
       "      <th>...</th>\n",
       "      <td>...</td>\n",
       "      <td>...</td>\n",
       "      <td>...</td>\n",
       "      <td>...</td>\n",
       "      <td>...</td>\n",
       "      <td>...</td>\n",
       "    </tr>\n",
       "    <tr>\n",
       "      <th>995</th>\n",
       "      <td>38132.961517</td>\n",
       "      <td>21370.880108</td>\n",
       "      <td>-7532.333000</td>\n",
       "      <td>-0.876644</td>\n",
       "      <td>2.199413</td>\n",
       "      <td>1.750026</td>\n",
       "    </tr>\n",
       "    <tr>\n",
       "      <th>996</th>\n",
       "      <td>31399.515894</td>\n",
       "      <td>31233.289707</td>\n",
       "      <td>1828.575655</td>\n",
       "      <td>-1.692745</td>\n",
       "      <td>1.562118</td>\n",
       "      <td>1.820311</td>\n",
       "    </tr>\n",
       "    <tr>\n",
       "      <th>997</th>\n",
       "      <td>20906.077447</td>\n",
       "      <td>37238.565267</td>\n",
       "      <td>10967.804062</td>\n",
       "      <td>-2.312211</td>\n",
       "      <td>0.726117</td>\n",
       "      <td>1.664753</td>\n",
       "    </tr>\n",
       "    <tr>\n",
       "      <th>998</th>\n",
       "      <td>7871.245318</td>\n",
       "      <td>38575.122415</td>\n",
       "      <td>18731.818721</td>\n",
       "      <td>-2.661184</td>\n",
       "      <td>-0.221639</td>\n",
       "      <td>1.293445</td>\n",
       "    </tr>\n",
       "    <tr>\n",
       "      <th>999</th>\n",
       "      <td>-6142.526530</td>\n",
       "      <td>34919.272230</td>\n",
       "      <td>24066.202237</td>\n",
       "      <td>-2.681132</td>\n",
       "      <td>-1.179765</td>\n",
       "      <td>0.734721</td>\n",
       "    </tr>\n",
       "  </tbody>\n",
       "</table>\n",
       "<p>1000 rows × 6 columns</p>\n",
       "</div>"
      ],
      "text/plain": [
       "                x             y             z      x_vv      y_vv      z_vv\n",
       "0    42159.783600      0.000000      0.000000  0.000000  3.074505  0.053666\n",
       "1    39159.545914  15563.916303    266.913399 -1.142984  2.852848  0.048528\n",
       "2    30572.229294  28909.053086    496.928223 -2.127756  2.228986  0.039518\n",
       "3    17596.068412  38144.740319    671.356184 -2.813645  1.287415  0.027234\n",
       "4     2068.446366  41949.706443    775.646554 -3.098444  0.161675  0.012698\n",
       "..            ...           ...           ...       ...       ...       ...\n",
       "995  38132.961517  21370.880108  -7532.333000 -0.876644  2.199413  1.750026\n",
       "996  31399.515894  31233.289707   1828.575655 -1.692745  1.562118  1.820311\n",
       "997  20906.077447  37238.565267  10967.804062 -2.312211  0.726117  1.664753\n",
       "998   7871.245318  38575.122415  18731.818721 -2.661184 -0.221639  1.293445\n",
       "999  -6142.526530  34919.272230  24066.202237 -2.681132 -1.179765  0.734721\n",
       "\n",
       "[1000 rows x 6 columns]"
      ]
     },
     "execution_count": 2,
     "metadata": {},
     "output_type": "execute_result"
    }
   ],
   "source": [
    "# Load DataFrame and Libs\n",
    "\n",
    "import pandas as pd\n",
    "import numpy as np\n",
    "import matplotlib.pyplot as plt\n",
    "#import seaborn as sns\n",
    "#sns.set_style('whitegrid')\n",
    "plt.style.use(\"fivethirtyeight\")\n",
    "%matplotlib inline\n",
    "from sklearn.preprocessing import MinMaxScaler\n",
    "from keras.models import Sequential\n",
    "from keras.layers import Dense, LSTM\n",
    "\n",
    "df = pd.read_csv('Dataframes/3rdBodyPerturbationPoliastro.csv')\n",
    "df_v = pd.read_csv('Dataframes/3rdBodyPerturbationPoliastro_vv.csv')\n",
    "\n",
    "df['x_vv']=df_v.vv_x\n",
    "df['y_vv']=df_v.vv_y\n",
    "df['z_vv']=df_v.vv_z\n",
    "\n",
    "df"
   ]
  },
  {
   "cell_type": "code",
   "execution_count": 3,
   "id": "explicit-champion",
   "metadata": {},
   "outputs": [],
   "source": [
    "# Train-test split\n",
    "\n",
    "train_size = int(len(df) * 0.8) \n",
    "\n",
    "train_df,test_df = df[1:train_size], df[train_size:] "
   ]
  },
  {
   "cell_type": "code",
   "execution_count": 4,
   "id": "corporate-demonstration",
   "metadata": {},
   "outputs": [
    {
     "data": {
      "text/html": [
       "<div>\n",
       "<style scoped>\n",
       "    .dataframe tbody tr th:only-of-type {\n",
       "        vertical-align: middle;\n",
       "    }\n",
       "\n",
       "    .dataframe tbody tr th {\n",
       "        vertical-align: top;\n",
       "    }\n",
       "\n",
       "    .dataframe thead th {\n",
       "        text-align: right;\n",
       "    }\n",
       "</style>\n",
       "<table border=\"1\" class=\"dataframe\">\n",
       "  <thead>\n",
       "    <tr style=\"text-align: right;\">\n",
       "      <th></th>\n",
       "      <th>x</th>\n",
       "      <th>y</th>\n",
       "      <th>z</th>\n",
       "      <th>x_vv</th>\n",
       "      <th>y_vv</th>\n",
       "      <th>z_vv</th>\n",
       "    </tr>\n",
       "  </thead>\n",
       "  <tbody>\n",
       "    <tr>\n",
       "      <th>800</th>\n",
       "      <td>-38640.279625</td>\n",
       "      <td>-2764.935183</td>\n",
       "      <td>17604.980941</td>\n",
       "      <td>-0.242379</td>\n",
       "      <td>-2.869481</td>\n",
       "      <td>-1.032661</td>\n",
       "    </tr>\n",
       "    <tr>\n",
       "      <th>801</th>\n",
       "      <td>-37222.004154</td>\n",
       "      <td>-17134.306183</td>\n",
       "      <td>11135.984105</td>\n",
       "      <td>0.783117</td>\n",
       "      <td>-2.603604</td>\n",
       "      <td>-1.431914</td>\n",
       "    </tr>\n",
       "    <tr>\n",
       "      <th>802</th>\n",
       "      <td>-30699.416577</td>\n",
       "      <td>-29154.049729</td>\n",
       "      <td>3087.546466</td>\n",
       "      <td>1.701144</td>\n",
       "      <td>-1.974296</td>\n",
       "      <td>-1.633559</td>\n",
       "    </tr>\n",
       "    <tr>\n",
       "      <th>803</th>\n",
       "      <td>-19981.800403</td>\n",
       "      <td>-37148.488205</td>\n",
       "      <td>-5420.909441</td>\n",
       "      <td>2.380643</td>\n",
       "      <td>-1.071344</td>\n",
       "      <td>-1.607049</td>\n",
       "    </tr>\n",
       "    <tr>\n",
       "      <th>804</th>\n",
       "      <td>-6568.003292</td>\n",
       "      <td>-40025.406603</td>\n",
       "      <td>-13203.492438</td>\n",
       "      <td>2.729043</td>\n",
       "      <td>-0.025797</td>\n",
       "      <td>-1.357603</td>\n",
       "    </tr>\n",
       "    <tr>\n",
       "      <th>...</th>\n",
       "      <td>...</td>\n",
       "      <td>...</td>\n",
       "      <td>...</td>\n",
       "      <td>...</td>\n",
       "      <td>...</td>\n",
       "      <td>...</td>\n",
       "    </tr>\n",
       "    <tr>\n",
       "      <th>995</th>\n",
       "      <td>38132.961517</td>\n",
       "      <td>21370.880108</td>\n",
       "      <td>-7532.333000</td>\n",
       "      <td>-0.876644</td>\n",
       "      <td>2.199413</td>\n",
       "      <td>1.750026</td>\n",
       "    </tr>\n",
       "    <tr>\n",
       "      <th>996</th>\n",
       "      <td>31399.515894</td>\n",
       "      <td>31233.289707</td>\n",
       "      <td>1828.575655</td>\n",
       "      <td>-1.692745</td>\n",
       "      <td>1.562118</td>\n",
       "      <td>1.820311</td>\n",
       "    </tr>\n",
       "    <tr>\n",
       "      <th>997</th>\n",
       "      <td>20906.077447</td>\n",
       "      <td>37238.565267</td>\n",
       "      <td>10967.804062</td>\n",
       "      <td>-2.312211</td>\n",
       "      <td>0.726117</td>\n",
       "      <td>1.664753</td>\n",
       "    </tr>\n",
       "    <tr>\n",
       "      <th>998</th>\n",
       "      <td>7871.245318</td>\n",
       "      <td>38575.122415</td>\n",
       "      <td>18731.818721</td>\n",
       "      <td>-2.661184</td>\n",
       "      <td>-0.221639</td>\n",
       "      <td>1.293445</td>\n",
       "    </tr>\n",
       "    <tr>\n",
       "      <th>999</th>\n",
       "      <td>-6142.526530</td>\n",
       "      <td>34919.272230</td>\n",
       "      <td>24066.202237</td>\n",
       "      <td>-2.681132</td>\n",
       "      <td>-1.179765</td>\n",
       "      <td>0.734721</td>\n",
       "    </tr>\n",
       "  </tbody>\n",
       "</table>\n",
       "<p>200 rows × 6 columns</p>\n",
       "</div>"
      ],
      "text/plain": [
       "                x             y             z      x_vv      y_vv      z_vv\n",
       "800 -38640.279625  -2764.935183  17604.980941 -0.242379 -2.869481 -1.032661\n",
       "801 -37222.004154 -17134.306183  11135.984105  0.783117 -2.603604 -1.431914\n",
       "802 -30699.416577 -29154.049729   3087.546466  1.701144 -1.974296 -1.633559\n",
       "803 -19981.800403 -37148.488205  -5420.909441  2.380643 -1.071344 -1.607049\n",
       "804  -6568.003292 -40025.406603 -13203.492438  2.729043 -0.025797 -1.357603\n",
       "..            ...           ...           ...       ...       ...       ...\n",
       "995  38132.961517  21370.880108  -7532.333000 -0.876644  2.199413  1.750026\n",
       "996  31399.515894  31233.289707   1828.575655 -1.692745  1.562118  1.820311\n",
       "997  20906.077447  37238.565267  10967.804062 -2.312211  0.726117  1.664753\n",
       "998   7871.245318  38575.122415  18731.818721 -2.661184 -0.221639  1.293445\n",
       "999  -6142.526530  34919.272230  24066.202237 -2.681132 -1.179765  0.734721\n",
       "\n",
       "[200 rows x 6 columns]"
      ]
     },
     "execution_count": 4,
     "metadata": {},
     "output_type": "execute_result"
    }
   ],
   "source": [
    "test_df"
   ]
  },
  {
   "cell_type": "code",
   "execution_count": 5,
   "id": "neither-medium",
   "metadata": {},
   "outputs": [],
   "source": [
    "# Scaling\n",
    "\n",
    "train = train_df\n",
    "scalers={}\n",
    "for i in train_df.columns:\n",
    "    scaler = MinMaxScaler(feature_range=(-1,1))\n",
    "    s_s = scaler.fit_transform(train[i].values.reshape(-1,1))\n",
    "    s_s=np.reshape(s_s,len(s_s))\n",
    "    scalers['scaler_'+ i] = scaler\n",
    "    train[i]=s_s\n",
    "test = test_df\n",
    "for i in train_df.columns:\n",
    "    scaler = scalers['scaler_'+i]\n",
    "    s_s = scaler.transform(test[i].values.reshape(-1,1))\n",
    "    s_s=np.reshape(s_s,len(s_s))\n",
    "    scalers['scaler_'+i] = scaler\n",
    "    test[i]=s_s"
   ]
  },
  {
   "cell_type": "code",
   "execution_count": 6,
   "id": "stupid-documentary",
   "metadata": {},
   "outputs": [],
   "source": [
    "# Now we will make a function that will use a sliding window approach to transform our series into samples \n",
    "# of input past observations and output future observations to use supervised learning algorithms.\n",
    "\n",
    "# FUNCTION\n",
    "def split_series(series, n_past, n_future):\n",
    "    # n_past ==> no of past observations\n",
    "    # n_future ==> no of future observations \n",
    "    X, y = list(), list()\n",
    "    for window_start in range(len(series)):\n",
    "        past_end = window_start + n_past\n",
    "        future_end = past_end + n_future\n",
    "        if future_end > len(series):\n",
    "            break\n",
    "        # slicing the past and future parts of the window\n",
    "        past, future = series[window_start:past_end, :], series[past_end:future_end, :]\n",
    "        X.append(past)\n",
    "        y.append(future)\n",
    "    return np.array(X), np.array(y)"
   ]
  },
  {
   "cell_type": "code",
   "execution_count": 7,
   "id": "limited-guest",
   "metadata": {},
   "outputs": [],
   "source": [
    "# Convert train and test data:\n",
    "\n",
    "# Variables\n",
    "n_past = 60\n",
    "n_future = 5\n",
    "n_features = 6\n",
    "\n",
    "# CALLS\n",
    "X_train, y_train = split_series(train.values, n_past, n_future)\n",
    "X_train = X_train.reshape((X_train.shape[0], X_train.shape[1], n_features))\n",
    "y_train = y_train.reshape((y_train.shape[0], y_train.shape[1], n_features))\n",
    "\n",
    "X_test, y_test = split_series(test.values, n_past, n_future)\n",
    "X_test = X_test.reshape((X_test.shape[0], X_test.shape[1], n_features))\n",
    "y_test = y_test.reshape((y_test.shape[0], y_test.shape[1], n_features))"
   ]
  },
  {
   "cell_type": "code",
   "execution_count": 8,
   "id": "white-macedonia",
   "metadata": {},
   "outputs": [
    {
     "data": {
      "text/plain": [
       "(735, 60, 6)"
      ]
     },
     "execution_count": 8,
     "metadata": {},
     "output_type": "execute_result"
    }
   ],
   "source": [
    "X_train.shape"
   ]
  },
  {
   "cell_type": "code",
   "execution_count": 9,
   "id": "revolutionary-absolute",
   "metadata": {},
   "outputs": [
    {
     "data": {
      "text/plain": [
       "(136, 60, 6)"
      ]
     },
     "execution_count": 9,
     "metadata": {},
     "output_type": "execute_result"
    }
   ],
   "source": [
    "X_test.shape"
   ]
  },
  {
   "cell_type": "code",
   "execution_count": 10,
   "id": "rolled-package",
   "metadata": {},
   "outputs": [
    {
     "data": {
      "text/plain": [
       "(735, 5, 6)"
      ]
     },
     "execution_count": 10,
     "metadata": {},
     "output_type": "execute_result"
    }
   ],
   "source": [
    "y_train.shape"
   ]
  },
  {
   "cell_type": "code",
   "execution_count": 11,
   "id": "sought-consideration",
   "metadata": {},
   "outputs": [
    {
     "data": {
      "text/plain": [
       "(136, 5, 6)"
      ]
     },
     "execution_count": 11,
     "metadata": {},
     "output_type": "execute_result"
    }
   ],
   "source": [
    "y_test.shape"
   ]
  },
  {
   "cell_type": "markdown",
   "id": "logical-headline",
   "metadata": {},
   "source": [
    "# Multivariate model"
   ]
  },
  {
   "cell_type": "code",
   "execution_count": 18,
   "id": "thermal-logan",
   "metadata": {},
   "outputs": [],
   "source": [
    "# Doesn't work like this but technically its the same as the stuff below (?) -- For simplicity look at this"
   ]
  },
  {
   "cell_type": "raw",
   "id": "perceived-infrared",
   "metadata": {},
   "source": [
    "from keras.models import Sequential\n",
    "from keras.layers import Dense, LSTM, RepeatVector, TimeDistributed\n",
    "\n",
    "# Build the LSTM model\n",
    "# Note: replace LSTM with GRU or RNN if you want to try those\n",
    "model = Sequential()\n",
    "model.add(LSTM(128, input_shape=(n_past, n_features)))\n",
    "model.add(RepeatVector(n_future))\n",
    "model.add(LSTM(128, return_sequences=True))\n",
    "model.add(TimeDistributed(Dense(1)))\n",
    "\n",
    "# Compile the model\n",
    "model.compile(optimizer='adam', loss='huber')\n",
    "\n",
    "# Train the model\n",
    "history=model.fit(X_train, y_train, batch_size=256, epochs=100, validation_data=(X_test,y_test))\n",
    "\n",
    "# Plot Training Loss\n",
    "plt.plot(history.history['loss']) # add validation loss\n",
    "plt.title('model loss')\n",
    "plt.ylabel('period')\n",
    "plt.xlabel('epoch')\n",
    "plt.legend(['training'], loc='upper right')\n",
    "plt.show()"
   ]
  },
  {
   "cell_type": "raw",
   "id": "alone-communication",
   "metadata": {},
   "source": [
    "pred = model.predict(X_test)\n",
    "pred.shape"
   ]
  },
  {
   "cell_type": "markdown",
   "id": "illegal-vacuum",
   "metadata": {},
   "source": [
    "# Model 1: E1D1 ==> Sequence to Sequence Model with one encoder layer and one decoder layer."
   ]
  },
  {
   "cell_type": "code",
   "execution_count": null,
   "id": "responsible-grenada",
   "metadata": {
    "scrolled": true
   },
   "outputs": [],
   "source": [
    "# E1D1\n",
    "# n_features ==> no of features at each timestep in the data.\n",
    "\n",
    "encoder_inputs = tf.keras.layers.Input(shape=(n_past, n_features))\n",
    "encoder_l1 = tf.keras.layers.LSTM(128, return_state=True)\n",
    "encoder_outputs1 = encoder_l1(encoder_inputs)\n",
    "encoder_states1 = encoder_outputs1[1:]\n",
    "\n",
    "decoder_inputs = tf.keras.layers.RepeatVector(n_future)(encoder_outputs1[0])\n",
    "decoder_l1 = tf.keras.layers.LSTM(128, return_sequences=True)(decoder_inputs,initial_state = encoder_states1)\n",
    "decoder_outputs1 = tf.keras.layers.TimeDistributed(tf.keras.layers.Dense(n_features))(decoder_l1)\n",
    "\n",
    "model = tf.keras.models.Model(encoder_inputs,decoder_outputs1)\n",
    "\n",
    "model.compile(optimizer=tf.keras.optimizers.Adam(), loss = tf.keras.losses.Huber())\n",
    "\n",
    "history = model.fit(\n",
    "                    X_train, y_train, \n",
    "                    batch_size=256, \n",
    "                    epochs=100, \n",
    "                    validation_data=(X_test,y_test)\n",
    "                   )"
   ]
  },
  {
   "cell_type": "code",
   "execution_count": null,
   "id": "smaller-undergraduate",
   "metadata": {},
   "outputs": [],
   "source": [
    "pred = model.predict(X_test)\n",
    "pred.shape"
   ]
  },
  {
   "cell_type": "code",
   "execution_count": null,
   "id": "hazardous-demonstration",
   "metadata": {},
   "outputs": [],
   "source": [
    "for index,i in enumerate(train_df.columns):\n",
    "    scaler = scalers['scaler_'+i]\n",
    "    pred[:,:,index]=scaler.inverse_transform(pred[:,:,index])\n",
    "    #y_train[:,:,index]=scaler.inverse_transform(y_train[:,:,index])\n",
    "    y_test[:,:,index]=scaler.inverse_transform(y_test[:,:,index])\n",
    "y_test.shape"
   ]
  },
  {
   "cell_type": "code",
   "execution_count": null,
   "id": "supposed-difference",
   "metadata": {},
   "outputs": [],
   "source": [
    "y_test[:,-1,0]"
   ]
  },
  {
   "cell_type": "code",
   "execution_count": null,
   "id": "warming-frost",
   "metadata": {},
   "outputs": [],
   "source": [
    "pred[:,-1,0]"
   ]
  },
  {
   "cell_type": "code",
   "execution_count": null,
   "id": "individual-contact",
   "metadata": {},
   "outputs": [],
   "source": [
    "for index,i in enumerate(train_df.columns):\n",
    "    #print(index)\n",
    "    print('Feature: '+str(i))\n",
    "    for j in range(0,n_future):\n",
    "        print(\"Step <\",j,\"> RMSE: \",math.sqrt(mean_squared_error(y_test[:,j-1,index],pred[:,j-1,index])))\n",
    "        print()"
   ]
  },
  {
   "cell_type": "code",
   "execution_count": null,
   "id": "prime-notice",
   "metadata": {},
   "outputs": [],
   "source": []
  }
 ],
 "metadata": {
  "kernelspec": {
   "display_name": "Python 3",
   "language": "python",
   "name": "python3"
  },
  "language_info": {
   "codemirror_mode": {
    "name": "ipython",
    "version": 3
   },
   "file_extension": ".py",
   "mimetype": "text/x-python",
   "name": "python",
   "nbconvert_exporter": "python",
   "pygments_lexer": "ipython3",
   "version": "3.7.9"
  }
 },
 "nbformat": 4,
 "nbformat_minor": 5
}
