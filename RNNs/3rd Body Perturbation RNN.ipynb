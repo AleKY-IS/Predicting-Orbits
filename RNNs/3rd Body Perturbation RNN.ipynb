{
 "cells": [
  {
   "cell_type": "code",
   "execution_count": 1,
   "id": "tight-directive",
   "metadata": {},
   "outputs": [
    {
     "data": {
      "text/html": [
       "<div>\n",
       "<style scoped>\n",
       "    .dataframe tbody tr th:only-of-type {\n",
       "        vertical-align: middle;\n",
       "    }\n",
       "\n",
       "    .dataframe tbody tr th {\n",
       "        vertical-align: top;\n",
       "    }\n",
       "\n",
       "    .dataframe thead th {\n",
       "        text-align: right;\n",
       "    }\n",
       "</style>\n",
       "<table border=\"1\" class=\"dataframe\">\n",
       "  <thead>\n",
       "    <tr style=\"text-align: right;\">\n",
       "      <th></th>\n",
       "      <th>x</th>\n",
       "      <th>y</th>\n",
       "      <th>z</th>\n",
       "    </tr>\n",
       "  </thead>\n",
       "  <tbody>\n",
       "    <tr>\n",
       "      <th>0</th>\n",
       "      <td>42159.783600</td>\n",
       "      <td>0.000000</td>\n",
       "      <td>0.000000</td>\n",
       "    </tr>\n",
       "    <tr>\n",
       "      <th>1</th>\n",
       "      <td>39159.545914</td>\n",
       "      <td>15563.916303</td>\n",
       "      <td>266.913399</td>\n",
       "    </tr>\n",
       "    <tr>\n",
       "      <th>2</th>\n",
       "      <td>30572.229294</td>\n",
       "      <td>28909.053086</td>\n",
       "      <td>496.928223</td>\n",
       "    </tr>\n",
       "    <tr>\n",
       "      <th>3</th>\n",
       "      <td>17596.068412</td>\n",
       "      <td>38144.740319</td>\n",
       "      <td>671.356184</td>\n",
       "    </tr>\n",
       "    <tr>\n",
       "      <th>4</th>\n",
       "      <td>2068.446366</td>\n",
       "      <td>41949.706443</td>\n",
       "      <td>775.646554</td>\n",
       "    </tr>\n",
       "    <tr>\n",
       "      <th>...</th>\n",
       "      <td>...</td>\n",
       "      <td>...</td>\n",
       "      <td>...</td>\n",
       "    </tr>\n",
       "    <tr>\n",
       "      <th>995</th>\n",
       "      <td>38132.961517</td>\n",
       "      <td>21370.880108</td>\n",
       "      <td>-7532.333000</td>\n",
       "    </tr>\n",
       "    <tr>\n",
       "      <th>996</th>\n",
       "      <td>31399.515894</td>\n",
       "      <td>31233.289707</td>\n",
       "      <td>1828.575655</td>\n",
       "    </tr>\n",
       "    <tr>\n",
       "      <th>997</th>\n",
       "      <td>20906.077447</td>\n",
       "      <td>37238.565267</td>\n",
       "      <td>10967.804062</td>\n",
       "    </tr>\n",
       "    <tr>\n",
       "      <th>998</th>\n",
       "      <td>7871.245318</td>\n",
       "      <td>38575.122415</td>\n",
       "      <td>18731.818721</td>\n",
       "    </tr>\n",
       "    <tr>\n",
       "      <th>999</th>\n",
       "      <td>-6142.526530</td>\n",
       "      <td>34919.272230</td>\n",
       "      <td>24066.202237</td>\n",
       "    </tr>\n",
       "  </tbody>\n",
       "</table>\n",
       "<p>1000 rows × 3 columns</p>\n",
       "</div>"
      ],
      "text/plain": [
       "                x             y             z\n",
       "0    42159.783600      0.000000      0.000000\n",
       "1    39159.545914  15563.916303    266.913399\n",
       "2    30572.229294  28909.053086    496.928223\n",
       "3    17596.068412  38144.740319    671.356184\n",
       "4     2068.446366  41949.706443    775.646554\n",
       "..            ...           ...           ...\n",
       "995  38132.961517  21370.880108  -7532.333000\n",
       "996  31399.515894  31233.289707   1828.575655\n",
       "997  20906.077447  37238.565267  10967.804062\n",
       "998   7871.245318  38575.122415  18731.818721\n",
       "999  -6142.526530  34919.272230  24066.202237\n",
       "\n",
       "[1000 rows x 3 columns]"
      ]
     },
     "execution_count": 1,
     "metadata": {},
     "output_type": "execute_result"
    }
   ],
   "source": [
    "import pandas as pd\n",
    "import numpy as np\n",
    "import matplotlib.pyplot as plt\n",
    "import seaborn as sns\n",
    "#sns.set_style('whitegrid')\n",
    "plt.style.use(\"fivethirtyeight\")\n",
    "%matplotlib inline\n",
    "\n",
    "df = pd.read_csv('Dataframes/3rdBodyPerturbationPoliastro.csv')\n",
    "\n",
    "df"
   ]
  },
  {
   "cell_type": "markdown",
   "id": "minor-communications",
   "metadata": {},
   "source": [
    "Now we want to predict X values (can change for Y, Z):"
   ]
  },
  {
   "cell_type": "code",
   "execution_count": 2,
   "id": "referenced-horizon",
   "metadata": {},
   "outputs": [
    {
     "data": {
      "text/plain": [
       "800"
      ]
     },
     "execution_count": 2,
     "metadata": {},
     "output_type": "execute_result"
    }
   ],
   "source": [
    "#Create a new dataframe with only the x column\n",
    "data = df.filter(['x']) # CHANGE FOR Y,Z\n",
    "\n",
    "#Convert the dataframe to a numpy array\n",
    "dataset = data.values\n",
    "\n",
    "#Get the number of rows to train the model on\n",
    "training_data_len = int(np.ceil( len(dataset) * 0.8 ))\n",
    "\n",
    "training_data_len"
   ]
  },
  {
   "cell_type": "code",
   "execution_count": 3,
   "id": "similar-anime",
   "metadata": {},
   "outputs": [],
   "source": [
    "train=dataset[0 : training_data_len]\n",
    "test=dataset[training_data_len - 60 : ]"
   ]
  },
  {
   "cell_type": "code",
   "execution_count": 4,
   "id": "sorted-asbestos",
   "metadata": {},
   "outputs": [],
   "source": [
    "#Scale the data\n",
    "from sklearn.preprocessing import MinMaxScaler\n",
    "\n",
    "scaler = MinMaxScaler()\n",
    "train_data = scaler.fit_transform(train)\n",
    "test_data=scaler.transform(test)"
   ]
  },
  {
   "cell_type": "code",
   "execution_count": 5,
   "id": "close-evans",
   "metadata": {},
   "outputs": [],
   "source": [
    "#Create the training data set\n",
    "#Create the scaled training data set\n",
    "#train_data = scaled_data[0:int(training_data_len), :]\n",
    "#Split the data into x_train and y_train data sets\n",
    "x_train = []\n",
    "y_train = []\n",
    "\n",
    "for i in range(60, len(train_data)):\n",
    "    x_train.append(train_data[i-60:i, 0])\n",
    "    y_train.append(train_data[i, 0])\n",
    "        \n",
    "# Convert the x_train and y_train to numpy arrays \n",
    "x_train, y_train = np.array(x_train), np.array(y_train)\n",
    "\n",
    "#Reshape the data\n",
    "x_train = np.reshape(x_train, (x_train.shape[0], x_train.shape[1], 1))"
   ]
  },
  {
   "cell_type": "code",
   "execution_count": 6,
   "id": "early-feature",
   "metadata": {},
   "outputs": [],
   "source": [
    "#Create the testing data set\n",
    "#Create a new array containing scaled values\n",
    "#test_data = scaled_data[training_data_len - 60: , :]\n",
    "#Create the data sets x_test and y_test\n",
    "\n",
    "x_test = []\n",
    "#y_test = dataset[training_data_len:, :]\n",
    "y_test = dataset[training_data_len : ]\n",
    "for i in range(60, len(test_data)):\n",
    "    x_test.append(test_data[i-60:i, 0])\n",
    "\n",
    "# Convert the data to a numpy array\n",
    "x_test = np.array(x_test)\n",
    "\n",
    "# Reshape the data\n",
    "x_test = np.reshape(x_test, (x_test.shape[0], x_test.shape[1], 1 ))\n"
   ]
  },
  {
   "cell_type": "code",
   "execution_count": 7,
   "id": "fabulous-breast",
   "metadata": {},
   "outputs": [
    {
     "data": {
      "text/plain": [
       "(740, 60, 1)"
      ]
     },
     "execution_count": 7,
     "metadata": {},
     "output_type": "execute_result"
    }
   ],
   "source": [
    "x_train.shape"
   ]
  },
  {
   "cell_type": "code",
   "execution_count": 8,
   "id": "photographic-assessment",
   "metadata": {},
   "outputs": [
    {
     "data": {
      "text/plain": [
       "(200, 60, 1)"
      ]
     },
     "execution_count": 8,
     "metadata": {},
     "output_type": "execute_result"
    }
   ],
   "source": [
    "x_test.shape"
   ]
  },
  {
   "cell_type": "code",
   "execution_count": 9,
   "id": "owned-motion",
   "metadata": {},
   "outputs": [
    {
     "data": {
      "text/plain": [
       "(200, 1)"
      ]
     },
     "execution_count": 9,
     "metadata": {},
     "output_type": "execute_result"
    }
   ],
   "source": [
    "y_test.shape"
   ]
  },
  {
   "cell_type": "markdown",
   "id": "southern-causing",
   "metadata": {},
   "source": [
    "Model 1:"
   ]
  },
  {
   "cell_type": "code",
   "execution_count": null,
   "id": "typical-shame",
   "metadata": {},
   "outputs": [
    {
     "name": "stdout",
     "output_type": "stream",
     "text": [
      "Epoch 1/100\n",
      "3/3 [==============================] - 0s 142ms/step - loss: 0.2623\n",
      "Epoch 2/100\n",
      "3/3 [==============================] - 0s 159ms/step - loss: 0.1448\n",
      "Epoch 3/100\n",
      "3/3 [==============================] - 0s 165ms/step - loss: 0.1468\n",
      "Epoch 4/100\n",
      "3/3 [==============================] - 0s 143ms/step - loss: 0.1336\n",
      "Epoch 5/100\n",
      "3/3 [==============================] - 0s 136ms/step - loss: 0.1322\n",
      "Epoch 6/100\n",
      "3/3 [==============================] - 0s 148ms/step - loss: 0.1193\n",
      "Epoch 7/100\n",
      "3/3 [==============================] - 0s 153ms/step - loss: 0.1101\n",
      "Epoch 8/100\n",
      "3/3 [==============================] - 0s 126ms/step - loss: 0.1047\n",
      "Epoch 9/100\n",
      "3/3 [==============================] - 0s 132ms/step - loss: 0.0926\n",
      "Epoch 10/100\n",
      "3/3 [==============================] - 0s 139ms/step - loss: 0.0806\n",
      "Epoch 11/100\n",
      "3/3 [==============================] - 0s 136ms/step - loss: 0.0617\n",
      "Epoch 12/100\n",
      "3/3 [==============================] - 0s 138ms/step - loss: 0.0363\n",
      "Epoch 13/100\n",
      "3/3 [==============================] - 0s 146ms/step - loss: 0.0106\n",
      "Epoch 14/100\n",
      "3/3 [==============================] - 0s 149ms/step - loss: 0.0104\n",
      "Epoch 15/100\n",
      "3/3 [==============================] - 0s 138ms/step - loss: 0.0103\n",
      "Epoch 16/100\n",
      "3/3 [==============================] - 0s 145ms/step - loss: 0.0031\n",
      "Epoch 17/100\n",
      "3/3 [==============================] - 0s 159ms/step - loss: 0.0037\n",
      "Epoch 18/100\n",
      "3/3 [==============================] - 1s 170ms/step - loss: 0.0044\n",
      "Epoch 19/100\n",
      "3/3 [==============================] - 0s 146ms/step - loss: 0.0027\n",
      "Epoch 20/100\n",
      "3/3 [==============================] - 0s 154ms/step - loss: 0.0012\n",
      "Epoch 21/100\n",
      "3/3 [==============================] - 0s 139ms/step - loss: 0.0013\n",
      "Epoch 22/100\n",
      "3/3 [==============================] - 0s 165ms/step - loss: 0.0015\n",
      "Epoch 23/100\n",
      "3/3 [==============================] - 0s 149ms/step - loss: 9.1627e-04\n",
      "Epoch 24/100\n",
      "3/3 [==============================] - 0s 155ms/step - loss: 6.3194e-04\n",
      "Epoch 25/100\n",
      "3/3 [==============================] - 0s 129ms/step - loss: 7.8144e-04\n",
      "Epoch 26/100\n",
      "3/3 [==============================] - 0s 133ms/step - loss: 7.3719e-04\n",
      "Epoch 27/100\n",
      "3/3 [==============================] - 0s 129ms/step - loss: 5.0525e-04\n",
      "Epoch 28/100\n",
      "3/3 [==============================] - 0s 143ms/step - loss: 4.6962e-04\n",
      "Epoch 29/100\n",
      "3/3 [==============================] - 0s 143ms/step - loss: 5.3728e-04\n",
      "Epoch 30/100\n",
      "3/3 [==============================] - 0s 141ms/step - loss: 4.8577e-04\n",
      "Epoch 31/100\n",
      "3/3 [==============================] - 0s 147ms/step - loss: 4.1819e-04\n",
      "Epoch 32/100\n",
      "3/3 [==============================] - 0s 133ms/step - loss: 4.3727e-04\n",
      "Epoch 33/100\n",
      "3/3 [==============================] - 0s 135ms/step - loss: 4.3098e-04\n",
      "Epoch 34/100\n",
      "3/3 [==============================] - 0s 146ms/step - loss: 3.9158e-04\n",
      "Epoch 35/100\n",
      "3/3 [==============================] - 0s 148ms/step - loss: 3.9078e-04\n",
      "Epoch 36/100\n",
      "3/3 [==============================] - 0s 141ms/step - loss: 3.8855e-04\n",
      "Epoch 37/100\n",
      "3/3 [==============================] - 0s 145ms/step - loss: 3.6985e-04\n",
      "Epoch 38/100\n",
      "3/3 [==============================] - 0s 139ms/step - loss: 3.6725e-04\n",
      "Epoch 39/100\n",
      "3/3 [==============================] - 0s 147ms/step - loss: 3.6762e-04\n",
      "Epoch 40/100\n",
      "3/3 [==============================] - 0s 150ms/step - loss: 3.4939e-04\n",
      "Epoch 41/100\n",
      "3/3 [==============================] - 0s 144ms/step - loss: 3.5281e-04\n",
      "Epoch 42/100\n",
      "3/3 [==============================] - 0s 144ms/step - loss: 3.5548e-04\n",
      "Epoch 43/100\n",
      "3/3 [==============================] - 0s 135ms/step - loss: 3.5075e-04\n",
      "Epoch 44/100\n",
      "3/3 [==============================] - 0s 139ms/step - loss: 3.4143e-04\n",
      "Epoch 45/100\n",
      "3/3 [==============================] - 0s 149ms/step - loss: 3.4438e-04\n",
      "Epoch 46/100\n",
      "3/3 [==============================] - 0s 150ms/step - loss: 3.2696e-04\n",
      "Epoch 47/100\n",
      "3/3 [==============================] - 0s 143ms/step - loss: 3.2795e-04\n",
      "Epoch 48/100\n",
      "3/3 [==============================] - 0s 150ms/step - loss: 3.2635e-04\n",
      "Epoch 49/100\n",
      "3/3 [==============================] - 0s 140ms/step - loss: 3.1606e-04 0s - loss: 3.3329e-\n",
      "Epoch 50/100\n",
      "3/3 [==============================] - 0s 146ms/step - loss: 3.1101e-04\n",
      "Epoch 51/100\n",
      "3/3 [==============================] - 0s 150ms/step - loss: 3.1119e-04\n",
      "Epoch 52/100\n",
      "3/3 [==============================] - 0s 144ms/step - loss: 3.0160e-04\n",
      "Epoch 53/100\n",
      "3/3 [==============================] - 0s 143ms/step - loss: 2.9876e-04\n",
      "Epoch 54/100\n",
      "3/3 [==============================] - 0s 147ms/step - loss: 2.9616e-04 0s - loss: 2.9616e-0\n",
      "Epoch 55/100\n",
      "3/3 [==============================] - 0s 134ms/step - loss: 2.9146e-04\n",
      "Epoch 56/100\n",
      "3/3 [==============================] - 0s 139ms/step - loss: 2.8696e-04\n",
      "Epoch 57/100\n",
      "3/3 [==============================] - 0s 138ms/step - loss: 2.8271e-04\n",
      "Epoch 58/100\n",
      "3/3 [==============================] - 0s 140ms/step - loss: 2.7937e-04\n",
      "Epoch 59/100\n",
      "3/3 [==============================] - 0s 132ms/step - loss: 2.7601e-04\n",
      "Epoch 60/100\n",
      "3/3 [==============================] - 0s 141ms/step - loss: 2.7128e-04\n",
      "Epoch 61/100\n",
      "3/3 [==============================] - 0s 134ms/step - loss: 2.6679e-04 0s - loss: 2.6679e-0\n",
      "Epoch 62/100\n",
      "3/3 [==============================] - 0s 147ms/step - loss: 2.6268e-04\n",
      "Epoch 63/100\n",
      "3/3 [==============================] - 0s 147ms/step - loss: 2.5916e-04\n",
      "Epoch 64/100\n",
      "3/3 [==============================] - 0s 146ms/step - loss: 2.5882e-04\n",
      "Epoch 65/100\n",
      "3/3 [==============================] - 0s 148ms/step - loss: 2.5287e-04\n",
      "Epoch 66/100\n",
      "3/3 [==============================] - 0s 136ms/step - loss: 2.4775e-04\n",
      "Epoch 67/100\n",
      "3/3 [==============================] - 0s 146ms/step - loss: 2.4614e-04\n",
      "Epoch 68/100\n",
      "3/3 [==============================] - 0s 150ms/step - loss: 2.4200e-04\n",
      "Epoch 69/100\n",
      "3/3 [==============================] - 0s 147ms/step - loss: 2.4155e-04\n",
      "Epoch 70/100\n",
      "3/3 [==============================] - 0s 138ms/step - loss: 2.3581e-04\n",
      "Epoch 71/100\n",
      "3/3 [==============================] - 0s 146ms/step - loss: 2.3254e-04\n",
      "Epoch 72/100\n",
      "3/3 [==============================] - 0s 132ms/step - loss: 2.2960e-04\n",
      "Epoch 73/100\n",
      "3/3 [==============================] - 0s 140ms/step - loss: 2.2815e-04\n",
      "Epoch 74/100\n",
      "3/3 [==============================] - 0s 137ms/step - loss: 2.2494e-04\n",
      "Epoch 75/100\n",
      "3/3 [==============================] - 0s 144ms/step - loss: 2.2652e-04\n",
      "Epoch 76/100\n",
      "3/3 [==============================] - 0s 139ms/step - loss: 2.2006e-04\n",
      "Epoch 77/100\n",
      "3/3 [==============================] - 0s 140ms/step - loss: 2.1970e-04\n",
      "Epoch 78/100\n",
      "3/3 [==============================] - 0s 133ms/step - loss: 2.1489e-04\n",
      "Epoch 79/100\n",
      "3/3 [==============================] - 0s 141ms/step - loss: 2.0953e-04\n",
      "Epoch 80/100\n",
      "3/3 [==============================] - 0s 143ms/step - loss: 2.0531e-04\n",
      "Epoch 81/100\n",
      "3/3 [==============================] - 0s 137ms/step - loss: 2.0349e-04\n",
      "Epoch 82/100\n",
      "3/3 [==============================] - 0s 138ms/step - loss: 1.9903e-04\n",
      "Epoch 83/100\n",
      "3/3 [==============================] - 0s 150ms/step - loss: 1.9904e-04\n",
      "Epoch 84/100\n",
      "3/3 [==============================] - 0s 147ms/step - loss: 1.9711e-04\n",
      "Epoch 85/100\n",
      "3/3 [==============================] - 0s 141ms/step - loss: 1.9286e-04\n",
      "Epoch 86/100\n",
      "3/3 [==============================] - 0s 157ms/step - loss: 1.8927e-04\n",
      "Epoch 87/100\n",
      "3/3 [==============================] - 0s 153ms/step - loss: 1.8775e-04 0s - loss: 1.8775e-0\n",
      "Epoch 88/100\n",
      "3/3 [==============================] - 0s 153ms/step - loss: 1.8487e-04\n",
      "Epoch 89/100\n",
      "3/3 [==============================] - 0s 141ms/step - loss: 1.8087e-04\n",
      "Epoch 90/100\n",
      "3/3 [==============================] - 0s 150ms/step - loss: 1.7686e-04\n",
      "Epoch 91/100\n",
      "3/3 [==============================] - 0s 152ms/step - loss: 1.7738e-04\n",
      "Epoch 92/100\n",
      "2/3 [===================>..........] - ETA: 0s - loss: 1.8250e-04"
     ]
    }
   ],
   "source": [
    "from keras.models import Sequential\n",
    "from keras.layers import Dense, LSTM\n",
    "\n",
    "#Build the LSTM model\n",
    "# Note: replace LSTM with GRU or RNN if you want to try those\n",
    "model = Sequential()\n",
    "model.add(LSTM(128, return_sequences=True, input_shape= (x_train.shape[1], 1))) # input_shape = (60,1)\n",
    "model.add(LSTM(64, return_sequences=False))\n",
    "model.add(Dense(25))\n",
    "model.add(Dense(1))\n",
    "\n",
    "# Compile the model\n",
    "model.compile(optimizer='adam', loss='mean_squared_error')\n",
    "\n",
    "#Train the model\n",
    "model.fit(x_train, y_train, batch_size=256, epochs=100) #add validation set?\n",
    "\n",
    "# Plot losses\n",
    "losses = pd.DataFrame(model.history.history)\n",
    "losses[['loss']].plot()"
   ]
  },
  {
   "cell_type": "markdown",
   "id": "dramatic-convert",
   "metadata": {},
   "source": [
    "Model 2:"
   ]
  },
  {
   "cell_type": "raw",
   "id": "careful-difficulty",
   "metadata": {},
   "source": [
    "from keras.models import Sequential\n",
    "from keras.layers import Dense, LSTM, Dropout\n",
    "\n",
    "# The LSTM architecture\n",
    "model = Sequential()\n",
    "# First LSTM layer with Dropout regularisation\n",
    "model.add(LSTM(units=50, return_sequences=True, input_shape=(x_train.shape[1],1)))\n",
    "model.add(Dropout(0.2))\n",
    "# Second LSTM layer\n",
    "model.add(LSTM(units=50, return_sequences=True))\n",
    "model.add(Dropout(0.2))\n",
    "# Third LSTM layer\n",
    "model.add(LSTM(units=50, return_sequences=True))\n",
    "model.add(Dropout(0.2))\n",
    "# Fourth LSTM layer\n",
    "model.add(LSTM(units=50))\n",
    "model.add(Dropout(0.2))\n",
    "# The output layer\n",
    "model.add(Dense(units=1))\n",
    "\n",
    "# Compiling the RNN\n",
    "model.compile(optimizer='rmsprop',loss='mean_squared_error')\n",
    "# Fitting to the training set\n",
    "model.fit(x_train,y_train,epochs=50,batch_size=32)"
   ]
  },
  {
   "cell_type": "code",
   "execution_count": null,
   "id": "covered-clinton",
   "metadata": {},
   "outputs": [],
   "source": [
    "# Get the models predicted price values \n",
    "predictions = model.predict(x_test)\n",
    "predictions = scaler.inverse_transform(predictions)\n",
    "\n",
    "# Get the root mean squared error (RMSE)\n",
    "rmse = np.sqrt(np.mean(((predictions - y_test) ** 2)))\n",
    "rmse"
   ]
  },
  {
   "cell_type": "markdown",
   "id": "unavailable-stylus",
   "metadata": {},
   "source": [
    "**How to write output DATAFRAME:**"
   ]
  },
  {
   "cell_type": "raw",
   "id": "consolidated-trance",
   "metadata": {},
   "source": [
    "pred=np.reshape(predictions, (predictions.shape[0]))\n",
    "pred.shape"
   ]
  },
  {
   "cell_type": "raw",
   "id": "unexpected-nicholas",
   "metadata": {},
   "source": [
    "pred_s=pd.Series(pred)\n",
    "pred_s"
   ]
  },
  {
   "cell_type": "raw",
   "id": "ongoing-samoa",
   "metadata": {},
   "source": [
    "df_pred= pd.DataFrame(columns=['x', 'y', 'z', 'x_vv', 'y_vv', 'z_vv'])\n",
    "df_pred['x']=pred_s\n",
    "df_pred"
   ]
  },
  {
   "cell_type": "raw",
   "id": "measured-banner",
   "metadata": {},
   "source": [
    "x_test.shape"
   ]
  },
  {
   "cell_type": "markdown",
   "id": "cordless-lobby",
   "metadata": {},
   "source": [
    "### Plot:"
   ]
  },
  {
   "cell_type": "code",
   "execution_count": null,
   "id": "worth-bacon",
   "metadata": {},
   "outputs": [],
   "source": [
    "# Plot the data\n",
    "train = data[:training_data_len]\n",
    "valid = data[training_data_len:]\n",
    "valid['Predictions'] = predictions\n",
    "# Visualize the data\n",
    "plt.figure(figsize=(16,8))\n",
    "plt.title('Model')\n",
    "plt.xlabel('Date', fontsize=18)\n",
    "plt.ylabel('X-Coord', fontsize=18)\n",
    "plt.plot(train['x'])\n",
    "plt.plot(valid[['x', 'Predictions']])\n",
    "plt.legend(['Train', 'Val', 'Predictions'], loc='lower right')\n",
    "plt.show()"
   ]
  },
  {
   "cell_type": "markdown",
   "id": "expired-frost",
   "metadata": {},
   "source": [
    "### Errors:"
   ]
  },
  {
   "cell_type": "code",
   "execution_count": null,
   "id": "organic-republican",
   "metadata": {},
   "outputs": [],
   "source": [
    "valid['Error']=abs(valid.Predictions-valid.x)/6738 # the normalization ct is taken as ISS semi-major axis"
   ]
  },
  {
   "cell_type": "code",
   "execution_count": null,
   "id": "agricultural-basics",
   "metadata": {},
   "outputs": [],
   "source": [
    "valid.Error.plot()"
   ]
  },
  {
   "cell_type": "code",
   "execution_count": null,
   "id": "endangered-central",
   "metadata": {},
   "outputs": [],
   "source": []
  }
 ],
 "metadata": {
  "kernelspec": {
   "display_name": "Python 3",
   "language": "python",
   "name": "python3"
  },
  "language_info": {
   "codemirror_mode": {
    "name": "ipython",
    "version": 3
   },
   "file_extension": ".py",
   "mimetype": "text/x-python",
   "name": "python",
   "nbconvert_exporter": "python",
   "pygments_lexer": "ipython3",
   "version": "3.7.9"
  }
 },
 "nbformat": 4,
 "nbformat_minor": 5
}
