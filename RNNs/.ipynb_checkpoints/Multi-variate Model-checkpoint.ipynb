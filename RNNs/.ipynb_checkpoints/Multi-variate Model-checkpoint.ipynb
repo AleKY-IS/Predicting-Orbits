{
 "cells": [
  {
   "cell_type": "code",
   "execution_count": null,
   "id": "significant-inspiration",
   "metadata": {},
   "outputs": [],
   "source": [
    "# Load DataFrame and Libs\n",
    "\n",
    "import pandas as pd\n",
    "import numpy as np\n",
    "import matplotlib.pyplot as plt\n",
    "#import seaborn as sns\n",
    "#sns.set_style('whitegrid')\n",
    "plt.style.use(\"fivethirtyeight\")\n",
    "%matplotlib inline\n",
    "from sklearn.preprocessing import MinMaxScaler\n",
    "from keras.models import Sequential\n",
    "from keras.layers import Dense, LSTM\n",
    "\n",
    "df = pd.read_csv('Dataframes/3rdBodyPerturbationPoliastro_HIGHTOL.csv')\n",
    "df_v = pd.read_csv('Dataframes/3rdBodyPerturbationPoliastro_vv_HIGHTOL.csv')\n",
    "\n",
    "df['x_vv']=df_v.vv_x\n",
    "df['y_vv']=df_v.vv_y\n",
    "df['z_vv']=df_v.vv_z"
   ]
  },
  {
   "cell_type": "code",
   "execution_count": null,
   "id": "expressed-steel",
   "metadata": {},
   "outputs": [],
   "source": [
    "# Full 6D r,v elements\n",
    "\n",
    "df"
   ]
  },
  {
   "cell_type": "code",
   "execution_count": null,
   "id": "fifty-isolation",
   "metadata": {},
   "outputs": [],
   "source": [
    "# convert an array of values into a dataset matrix\n",
    "\n",
    "def create_dataset(dataset, look_back):\n",
    "    dataX = []\n",
    "    dataY = []\n",
    "    for i in range(len(dataset) - look_back):\n",
    "        a = dataset[i:(i + look_back), :]\n",
    "        dataX.append(a)\n",
    "        dataY.append(dataset[i + look_back, predicted_feature]) # 2 stands for prediction of Z!!! (3rd col)\n",
    "    return np.array(dataX), np.array(dataY)"
   ]
  },
  {
   "cell_type": "code",
   "execution_count": null,
   "id": "about-lighting",
   "metadata": {},
   "outputs": [],
   "source": [
    "# Function\n",
    "\n",
    "def train_vector(df, predicted_feature):\n",
    "    \n",
    "    # load the dataset\n",
    "    dataset = df.values\n",
    "    \n",
    "    # split into train and test sets\n",
    "    train_size = int(len(dataset) * 0.8) \n",
    "    test_size = len(dataset) - train_size\n",
    "    train=dataset[0 : train_size]\n",
    "    test=dataset[train_size - 60 : ]\n",
    "    \n",
    "    #Scale the data\n",
    "    scaler = MinMaxScaler()\n",
    "    train = scaler.fit_transform(train)\n",
    "    test = scaler.transform(test)\n",
    "    # reshape into X=t and Y=t+1\n",
    "    look_back = 60 # this is the window\n",
    "    trainX, trainY = create_dataset(train, look_back)  \n",
    "    testX, testY = create_dataset(test, look_back)\n",
    "    # reshape input to be  [length of train/test data, window size (def=60), features]\n",
    "    trainX = np.reshape(trainX, (trainX.shape[0], look_back, 6))\n",
    "    testX = np.reshape(testX, (testX.shape[0],look_back, 6))\n",
    "    \n",
    "    # Build the LSTM model\n",
    "    # Note: replace LSTM with GRU or RNN if you want to try those\n",
    "    model = Sequential()\n",
    "    model.add(LSTM(128, return_sequences=True, input_shape= (look_back, 6)))\n",
    "    model.add(LSTM(64, return_sequences=False))\n",
    "    model.add(Dense(25))\n",
    "    model.add(Dense(1))\n",
    "    # Compile the model\n",
    "    model.compile(optimizer='adam', loss='mean_squared_error')\n",
    "    # Train the model\n",
    "    history=model.fit(trainX, trainY, batch_size=256, epochs=100)\n",
    "\n",
    "    predictions = model.predict(testX)\n",
    "    predict_ext = np.zeros((len(predictions), 6))\n",
    "    predict_ext[:,predicted_feature] = predictions[:,0]\n",
    "    predictions = scaler.inverse_transform(predict_ext)[:,predicted_feature]\n",
    "    \n",
    "    testY_extended = np.zeros((len(testY),6))\n",
    "    testY_extended[:,predicted_feature]=testY\n",
    "    testY=scaler.inverse_transform(testY_extended)[:,predicted_feature]\n",
    "    \n",
    "    rmse = np.sqrt(np.mean(((predictions - testY) ** 2)))\n",
    "    print(f'RMSE for feature {predicted_feature} is: ' + str(rmse))\n",
    "    \n",
    "    pred=np.reshape(predictions, (predictions.shape[0]))\n",
    "    pred_s=pd.Series(pred)\n",
    "    df_pred[str(predicted_feature)]=pred_s\n",
    "    \n",
    "    #Output dataframe of predictions in 6 dimensions r,v\n",
    "    return df_pred"
   ]
  },
  {
   "cell_type": "raw",
   "id": "bibliographic-greensboro",
   "metadata": {},
   "source": [
    "# Call\n",
    "\n",
    "train_vector(df, 0)"
   ]
  },
  {
   "cell_type": "code",
   "execution_count": null,
   "id": "twenty-launch",
   "metadata": {
    "scrolled": true
   },
   "outputs": [],
   "source": [
    "%%time\n",
    "# Call for full 6D training\n",
    "\n",
    "# Init empty predictions DF\n",
    "df_pred= pd.DataFrame(columns=['0', '1', '2', '3', '4', '5'])\n",
    "\n",
    "for predicted_feature in range(0,6):\n",
    "    train_vector(df, predicted_feature)\n",
    "\n",
    "#Rename predictions df columns from numerals\n",
    "df_pred.columns=['x', 'y', 'z', 'x_vv', 'y_vv', 'z_vv']\n",
    "df_pred"
   ]
  },
  {
   "cell_type": "markdown",
   "id": "narrative-reynolds",
   "metadata": {},
   "source": [
    "### Compare and plot results/errors SEPARATELY"
   ]
  },
  {
   "cell_type": "code",
   "execution_count": null,
   "id": "imposed-america",
   "metadata": {},
   "outputs": [],
   "source": [
    "train_size = int(len(df) * 0.8) \n",
    "\n",
    "test_df = df[train_size:]\n",
    "train_df = df[:train_size]\n",
    "\n",
    "test_df"
   ]
  },
  {
   "cell_type": "code",
   "execution_count": null,
   "id": "photographic-interaction",
   "metadata": {},
   "outputs": [],
   "source": [
    "df_pred.index=test_df.index"
   ]
  },
  {
   "cell_type": "code",
   "execution_count": null,
   "id": "equipped-retirement",
   "metadata": {
    "scrolled": true
   },
   "outputs": [],
   "source": [
    "for feature in list(test_df.columns):\n",
    "    \n",
    "    plt.figure(figsize=(16,8))\n",
    "\n",
    "    plt.plot(train_df[feature])\n",
    "    plt.plot(test_df[feature])\n",
    "    plt.plot(df_pred[feature])\n",
    "\n",
    "    plt.title(f'Predicted vs. Test data for feature {feature}', fontsize=18)\n",
    "    plt.xlabel('Step', fontsize=18)\n",
    "    plt.ylabel('Coordinate [km]', fontsize=18)\n",
    "    plt.legend(['Train', 'Test', 'Prediction'], loc='lower left', fontsize=15)\n",
    "    plt.show()\n"
   ]
  },
  {
   "cell_type": "markdown",
   "id": "random-sharp",
   "metadata": {},
   "source": [
    "## RMSE:"
   ]
  },
  {
   "cell_type": "code",
   "execution_count": null,
   "id": "accompanied-reasoning",
   "metadata": {},
   "outputs": [],
   "source": [
    "print('RMSE for all Features:')\n",
    "print()\n",
    "\n",
    "for i in list(test_df.columns):\n",
    "    print(i)\n",
    "    rmse = np.sqrt(np.mean(((test_df[i] - df_pred[i]) ** 2)))\n",
    "    print(rmse)"
   ]
  },
  {
   "cell_type": "markdown",
   "id": "maritime-georgia",
   "metadata": {},
   "source": [
    "## Absolute errors:"
   ]
  },
  {
   "cell_type": "code",
   "execution_count": null,
   "id": "metropolitan-sunglasses",
   "metadata": {
    "scrolled": true
   },
   "outputs": [],
   "source": [
    "# ABSOLUTE ERRORS:\n",
    "\n",
    "for feature in list(test_df.columns):\n",
    "    \n",
    "    plt.figure(figsize=(16,8))\n",
    "\n",
    "    plt.plot(abs(df_pred[feature]-test_df[feature])/max(test_df[feature]))\n",
    "\n",
    "    plt.title(f'Absolute Error plot for Feature {feature}:', fontsize=18)\n",
    "    plt.xlabel('Step', fontsize=18)\n",
    "    plt.ylabel('Absolute Error [/]', fontsize=18)\n",
    "    plt.show()"
   ]
  },
  {
   "cell_type": "code",
   "execution_count": null,
   "id": "hawaiian-volunteer",
   "metadata": {},
   "outputs": [],
   "source": [
    "# AVG ABSOLUTE ERRORS:\n",
    "\n",
    "print('Mean Absolute Errors:')\n",
    "print()\n",
    "for i in list(test_df.columns):\n",
    "    print(i)\n",
    "    abs_err=abs(df_pred[i]-test_df[i])/max(test_df[i])\n",
    "    print(abs_err.mean())"
   ]
  },
  {
   "cell_type": "markdown",
   "id": "aquatic-grill",
   "metadata": {},
   "source": [
    "## Relative errors:"
   ]
  },
  {
   "cell_type": "code",
   "execution_count": null,
   "id": "incredible-surprise",
   "metadata": {
    "scrolled": true
   },
   "outputs": [],
   "source": [
    "# RELATIVE ERRORS\n",
    "\n",
    "for feature in list(test_df.columns):\n",
    "    \n",
    "    plt.figure(figsize=(16,8))\n",
    "\n",
    "    plt.plot(abs(df_pred[feature]-test_df[feature])/test_df[feature])\n",
    "\n",
    "    plt.title(f'Feature {feature} Relative Error Plot:')\n",
    "    plt.xlabel('Step', fontsize=18)\n",
    "    plt.ylabel('Relative Error [%]', fontsize=18)\n",
    "    plt.show()"
   ]
  },
  {
   "cell_type": "code",
   "execution_count": null,
   "id": "inappropriate-faith",
   "metadata": {},
   "outputs": [],
   "source": [
    "# AVG RELATIVE ERRORS:\n",
    "\n",
    "print('Mean Relative Errors as PERCENTAGE:')\n",
    "print()\n",
    "for i in list(test_df.columns):\n",
    "    print(i)\n",
    "    abs_err=abs(df_pred[i]-test_df[i])/test_df[i]*100\n",
    "    print(abs_err.mean())"
   ]
  },
  {
   "cell_type": "raw",
   "id": "automotive-korean",
   "metadata": {
    "scrolled": true
   },
   "source": [
    "# ABSOLUTE ERRORS:\n",
    "\n",
    "for feature in list(test_df.columns):\n",
    "    \n",
    "    plt.figure(figsize=(16,8))\n",
    "\n",
    "    plt.plot(abs(df_pred[feature]-test_df[feature])/max(test_df[feature]))\n",
    "\n",
    "    plt.title(f'Feature {feature} absolute error plot:')\n",
    "    plt.xlabel('Time', fontsize=18)\n",
    "    plt.ylabel('Absolute Error [/]', fontsize=18)\n",
    "    plt.show()"
   ]
  },
  {
   "cell_type": "raw",
   "id": "empty-superintendent",
   "metadata": {
    "scrolled": true
   },
   "source": [
    "# RELATIVE ERRORS\n",
    "\n",
    "for feature in list(test_df.columns):\n",
    "    \n",
    "    plt.figure(figsize=(16,8))\n",
    "\n",
    "    plt.plot(abs(df_pred[feature]-test_df[feature])/test_df[feature])\n",
    "\n",
    "    plt.title(f'Feature {feature} relative error plot:')\n",
    "    plt.xlabel('Time', fontsize=18)\n",
    "    plt.ylabel('Relative Error [/]', fontsize=18)\n",
    "    plt.show()"
   ]
  },
  {
   "cell_type": "markdown",
   "id": "demanding-chase",
   "metadata": {},
   "source": [
    "## Compare and Plot 3D trajectories/errors:"
   ]
  },
  {
   "cell_type": "markdown",
   "id": "vulnerable-description",
   "metadata": {},
   "source": [
    "### 1. For 3D Position coordinates"
   ]
  },
  {
   "cell_type": "code",
   "execution_count": null,
   "id": "domestic-protocol",
   "metadata": {},
   "outputs": [],
   "source": [
    "fig = plt.figure()\n",
    "plt.figure(figsize=(50,20))\n",
    "\n",
    "plt.axes(projection=\"3d\")\n",
    "x_line = df_pred['x']\n",
    "y_line = df_pred['y']\n",
    "z_line = df_pred['z']\n",
    "plt.plot(x_line, y_line, z_line, 'red')\n",
    "\n",
    "x_line2 = test_df['x']\n",
    "y_line2 = test_df['y']\n",
    "z_line2 = test_df['z']\n",
    "plt.plot(x_line2, y_line2, z_line2, 'yellow')\n",
    "\n",
    "plt.title('Predicted vs. Test Orbit 3D Propagation', fontsize=18)\n",
    "plt.xlabel('x [km]', fontsize=18)\n",
    "plt.ylabel('y [km]', fontsize=18)\n",
    "#plt.zlabel('z [m]', fontsize=18)\n",
    "plt.legend(['Predictions', 'Test'], loc='lower right', fontsize=18)\n",
    "plt.show()"
   ]
  },
  {
   "cell_type": "markdown",
   "id": "finnish-corpus",
   "metadata": {},
   "source": [
    "### 2. For 3D velocity coordinates"
   ]
  },
  {
   "cell_type": "code",
   "execution_count": null,
   "id": "satellite-amsterdam",
   "metadata": {},
   "outputs": [],
   "source": [
    "fig = plt.figure()\n",
    "plt.figure(figsize=(50,20))\n",
    "\n",
    "plt.axes(projection=\"3d\")\n",
    "x_line = df_pred['x_vv']\n",
    "y_line = df_pred['y_vv']\n",
    "z_line = df_pred['z_vv']\n",
    "plt.plot(x_line, y_line, z_line, 'red')\n",
    "\n",
    "x_line2 = test_df['x_vv']\n",
    "y_line2 = test_df['y_vv']\n",
    "z_line2 = test_df['z_vv']\n",
    "plt.plot(x_line2, y_line2, z_line2, 'yellow')\n",
    "\n",
    "plt.legend(['Predictions', 'Test'], loc='lower right')\n",
    "plt.show()"
   ]
  },
  {
   "cell_type": "markdown",
   "id": "cellular-deposit",
   "metadata": {},
   "source": [
    "## 3D Errors"
   ]
  },
  {
   "cell_type": "markdown",
   "id": "caring-region",
   "metadata": {},
   "source": [
    "### 1. Distance Error\n",
    "\n",
    "https://www.engineeringtoolbox.com/distance-relationship-between-two-points-d_1854.html"
   ]
  },
  {
   "cell_type": "code",
   "execution_count": null,
   "id": "simple-village",
   "metadata": {},
   "outputs": [],
   "source": [
    "# Init empty DF for errors\n",
    "df_err= pd.DataFrame(columns=['x_test', 'y_test', 'z_test', 'x_pred', 'y_pred', 'z_pred'])\n",
    "\n",
    "df_err['x_test']=test_df['x']\n",
    "df_err['y_test']=test_df['y']\n",
    "df_err['z_test']=test_df['z']\n",
    "\n",
    "df_err['x_pred']=df_pred['x']\n",
    "df_err['y_pred']=df_pred['y']\n",
    "df_err['z_pred']=df_pred['z']\n",
    "\n",
    "df_err"
   ]
  },
  {
   "cell_type": "code",
   "execution_count": null,
   "id": "tired-russell",
   "metadata": {},
   "outputs": [],
   "source": [
    "import math\n",
    "\n",
    "# Difference in distance in 3D (Position)\n",
    "\n",
    "df_err['distance_error'] = ( (df_err.x_test-df_err.x_pred)**2 + (df_err.y_test-df_err.y_pred)**2 + (df_err.z_test-df_err.z_pred)**2 )**(1/2)\n",
    "df_err['distance_error'].apply(lambda x: float(x))\n",
    "df_err"
   ]
  },
  {
   "cell_type": "code",
   "execution_count": null,
   "id": "convinced-joseph",
   "metadata": {},
   "outputs": [],
   "source": [
    "plt.figure(figsize=(16,8))\n",
    "plt.plot(df_err.distance_error)\n",
    "plt.title('Distance error for 3D position vectors (r):')\n",
    "plt.xlabel('Step', fontsize=18)\n",
    "plt.ylabel('Distance Error [km]', fontsize=18)\n",
    "plt.show()"
   ]
  }
 ],
 "metadata": {
  "kernelspec": {
   "display_name": "Python 3",
   "language": "python",
   "name": "python3"
  },
  "language_info": {
   "codemirror_mode": {
    "name": "ipython",
    "version": 3
   },
   "file_extension": ".py",
   "mimetype": "text/x-python",
   "name": "python",
   "nbconvert_exporter": "python",
   "pygments_lexer": "ipython3",
   "version": "3.7.9"
  }
 },
 "nbformat": 4,
 "nbformat_minor": 5
}
