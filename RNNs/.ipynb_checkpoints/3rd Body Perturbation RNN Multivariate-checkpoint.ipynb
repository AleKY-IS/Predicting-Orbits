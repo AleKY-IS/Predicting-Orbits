{
 "cells": [
  {
   "cell_type": "code",
   "execution_count": null,
   "id": "dental-groove",
   "metadata": {},
   "outputs": [],
   "source": [
    "import pandas as pd\n",
    "import numpy as np\n",
    "import matplotlib.pyplot as plt\n",
    "#import seaborn as sns\n",
    "#sns.set_style('whitegrid')\n",
    "plt.style.use(\"fivethirtyeight\")\n",
    "%matplotlib inline\n",
    "\n",
    "df = pd.read_csv('Dataframes/3rdBodyPerturbationPoliastro.csv')\n",
    "\n",
    "df"
   ]
  },
  {
   "cell_type": "markdown",
   "id": "olive-magic",
   "metadata": {},
   "source": [
    "Now we want to predict X values (can change for Y, Z):"
   ]
  },
  {
   "cell_type": "code",
   "execution_count": null,
   "id": "young-guyana",
   "metadata": {},
   "outputs": [],
   "source": [
    "#Create a new dataframe with only the x column\n",
    "data = df.filter(['x']) # CHANGE FOR Y,Z\n",
    "\n",
    "#Convert the dataframe to a numpy array\n",
    "dataset = data.values\n",
    "\n",
    "#Get the number of rows to train the model on\n",
    "training_data_len = int(np.ceil( len(dataset) * 0.8 ))\n",
    "\n",
    "training_data_len"
   ]
  },
  {
   "cell_type": "code",
   "execution_count": null,
   "id": "floating-malaysia",
   "metadata": {},
   "outputs": [],
   "source": [
    "#Scale the data\n",
    "from sklearn.preprocessing import MinMaxScaler\n",
    "\n",
    "scaler = MinMaxScaler()\n",
    "scaled_data = scaler.fit_transform(dataset)"
   ]
  },
  {
   "cell_type": "code",
   "execution_count": null,
   "id": "important-thread",
   "metadata": {},
   "outputs": [],
   "source": [
    "# Set roll-back window\n",
    "window = 60 # default was set to 60 before"
   ]
  },
  {
   "cell_type": "code",
   "execution_count": null,
   "id": "nearby-arrival",
   "metadata": {},
   "outputs": [],
   "source": [
    "#Create the training data set\n",
    "#Create the scaled training data set\n",
    "train_data = scaled_data[0:int(training_data_len), :]\n",
    "\n",
    "#Split the data into x_train and y_train data sets\n",
    "x_train = []\n",
    "y_train = []\n",
    "\n",
    "for i in range(window, len(train_data)):\n",
    "    x_train.append(train_data[i-window:i, 0])\n",
    "    y_train.append(train_data[i, 0])\n",
    "\n",
    "# Convert the x_train and y_train to numpy arrays \n",
    "x_train, y_train = np.array(x_train), np.array(y_train)\n",
    "\n",
    "#Reshape the data\n",
    "x_train = np.reshape(x_train, (x_train.shape[0], x_train.shape[1], 1))\n",
    "x_train.shape"
   ]
  },
  {
   "cell_type": "code",
   "execution_count": null,
   "id": "golden-donor",
   "metadata": {},
   "outputs": [],
   "source": [
    "#Create the testing data set\n",
    "#Create a new array containing scaled values\n",
    "test_data = scaled_data[training_data_len - window: , :]\n",
    "\n",
    "#Create the data sets x_test and y_test\n",
    "x_test = []\n",
    "y_test = dataset[training_data_len:, :]\n",
    "for i in range(window, len(test_data)):\n",
    "    x_test.append(test_data[i-window:i, 0])\n",
    "    \n",
    "# Convert the data to a numpy array\n",
    "x_test = np.array(x_test)\n",
    "\n",
    "# Reshape the data\n",
    "x_test = np.reshape(x_test, (x_test.shape[0], x_test.shape[1], 1))\n",
    "x_test.shape"
   ]
  },
  {
   "cell_type": "markdown",
   "id": "spare-atmosphere",
   "metadata": {},
   "source": [
    "# Model 1: Uni-Variate"
   ]
  },
  {
   "cell_type": "code",
   "execution_count": null,
   "id": "national-thumb",
   "metadata": {},
   "outputs": [],
   "source": [
    "from keras.models import Sequential\n",
    "from keras.layers import Dense, LSTM\n",
    "\n",
    "#Build the LSTM model\n",
    "# Note: replace LSTM with GRU or RNN if you want to try those\n",
    "model = Sequential()\n",
    "model.add(LSTM(128, return_sequences=True, input_shape= (x_train.shape[1], 1))) # input_shape = (60,1)\n",
    "model.add(LSTM(64, return_sequences=False))\n",
    "model.add(Dense(25))\n",
    "model.add(Dense(1))\n",
    "\n",
    "# Compile the model\n",
    "model.compile(optimizer='adam', loss='mean_squared_error')\n",
    "\n",
    "# Train the model\n",
    "history=model.fit(x_train, y_train, batch_size=16, epochs=10)\n",
    "\n",
    "# Plot Training Loss\n",
    "plt.plot(history.history['loss']) # add validation loss\n",
    "plt.title('model loss')\n",
    "plt.ylabel('period')\n",
    "plt.xlabel('epoch')\n",
    "plt.legend(['training'], loc='upper right')\n",
    "plt.show()"
   ]
  },
  {
   "cell_type": "code",
   "execution_count": null,
   "id": "found-transmission",
   "metadata": {},
   "outputs": [],
   "source": [
    "# Get the models predicted price values \n",
    "predictions = model.predict(x_test)\n",
    "predictions = scaler.inverse_transform(predictions)\n",
    "\n",
    "# Get the root mean squared error (RMSE)\n",
    "rmse = np.sqrt(np.mean(((predictions - y_test) ** 2)))\n",
    "rmse"
   ]
  },
  {
   "cell_type": "markdown",
   "id": "functional-penalty",
   "metadata": {},
   "source": [
    "### Plot:"
   ]
  },
  {
   "cell_type": "code",
   "execution_count": null,
   "id": "german-tournament",
   "metadata": {},
   "outputs": [],
   "source": [
    "# Plot the data\n",
    "train = data[:training_data_len]\n",
    "valid = data[training_data_len:]\n",
    "valid['Predictions'] = predictions\n",
    "# Visualize the data\n",
    "plt.figure(figsize=(16,8))\n",
    "plt.title('Model')\n",
    "plt.xlabel('Date', fontsize=18)\n",
    "plt.ylabel('X-Coord', fontsize=18)\n",
    "plt.plot(train['x'])\n",
    "plt.plot(valid[['x', 'Predictions']])\n",
    "plt.legend(['Train', 'Val', 'Predictions'], loc='lower right')\n",
    "plt.show()"
   ]
  },
  {
   "cell_type": "markdown",
   "id": "checked-civilization",
   "metadata": {},
   "source": [
    "### Error plot:"
   ]
  },
  {
   "cell_type": "code",
   "execution_count": null,
   "id": "stainless-funds",
   "metadata": {},
   "outputs": [],
   "source": [
    "valid['Error']=abs(valid.Predictions-valid.x)/6738 # the normalization ct is taken as ISS semi-major axis\n",
    "valid.Error.plot()\n",
    "# add labels and units!!!"
   ]
  },
  {
   "cell_type": "markdown",
   "id": "included-allen",
   "metadata": {},
   "source": [
    "# Model 2: Multi-Variate"
   ]
  },
  {
   "cell_type": "code",
   "execution_count": 1,
   "id": "applicable-collective",
   "metadata": {},
   "outputs": [
    {
     "data": {
      "text/html": [
       "<div>\n",
       "<style scoped>\n",
       "    .dataframe tbody tr th:only-of-type {\n",
       "        vertical-align: middle;\n",
       "    }\n",
       "\n",
       "    .dataframe tbody tr th {\n",
       "        vertical-align: top;\n",
       "    }\n",
       "\n",
       "    .dataframe thead th {\n",
       "        text-align: right;\n",
       "    }\n",
       "</style>\n",
       "<table border=\"1\" class=\"dataframe\">\n",
       "  <thead>\n",
       "    <tr style=\"text-align: right;\">\n",
       "      <th></th>\n",
       "      <th>x</th>\n",
       "      <th>y</th>\n",
       "      <th>z</th>\n",
       "      <th>x_vv</th>\n",
       "      <th>y_vv</th>\n",
       "      <th>z_vv</th>\n",
       "    </tr>\n",
       "  </thead>\n",
       "  <tbody>\n",
       "    <tr>\n",
       "      <th>0</th>\n",
       "      <td>42159.783600</td>\n",
       "      <td>0.000000</td>\n",
       "      <td>0.000000</td>\n",
       "      <td>0.000000</td>\n",
       "      <td>3.074505</td>\n",
       "      <td>0.053666</td>\n",
       "    </tr>\n",
       "    <tr>\n",
       "      <th>1</th>\n",
       "      <td>39159.545914</td>\n",
       "      <td>15563.916303</td>\n",
       "      <td>266.913399</td>\n",
       "      <td>-1.142984</td>\n",
       "      <td>2.852848</td>\n",
       "      <td>0.048528</td>\n",
       "    </tr>\n",
       "    <tr>\n",
       "      <th>2</th>\n",
       "      <td>30572.229294</td>\n",
       "      <td>28909.053086</td>\n",
       "      <td>496.928223</td>\n",
       "      <td>-2.127756</td>\n",
       "      <td>2.228986</td>\n",
       "      <td>0.039518</td>\n",
       "    </tr>\n",
       "    <tr>\n",
       "      <th>3</th>\n",
       "      <td>17596.068412</td>\n",
       "      <td>38144.740319</td>\n",
       "      <td>671.356184</td>\n",
       "      <td>-2.813645</td>\n",
       "      <td>1.287415</td>\n",
       "      <td>0.027234</td>\n",
       "    </tr>\n",
       "    <tr>\n",
       "      <th>4</th>\n",
       "      <td>2068.446366</td>\n",
       "      <td>41949.706443</td>\n",
       "      <td>775.646554</td>\n",
       "      <td>-3.098444</td>\n",
       "      <td>0.161675</td>\n",
       "      <td>0.012698</td>\n",
       "    </tr>\n",
       "    <tr>\n",
       "      <th>...</th>\n",
       "      <td>...</td>\n",
       "      <td>...</td>\n",
       "      <td>...</td>\n",
       "      <td>...</td>\n",
       "      <td>...</td>\n",
       "      <td>...</td>\n",
       "    </tr>\n",
       "    <tr>\n",
       "      <th>995</th>\n",
       "      <td>38132.961517</td>\n",
       "      <td>21370.880108</td>\n",
       "      <td>-7532.333000</td>\n",
       "      <td>-0.876644</td>\n",
       "      <td>2.199413</td>\n",
       "      <td>1.750026</td>\n",
       "    </tr>\n",
       "    <tr>\n",
       "      <th>996</th>\n",
       "      <td>31399.515894</td>\n",
       "      <td>31233.289707</td>\n",
       "      <td>1828.575655</td>\n",
       "      <td>-1.692745</td>\n",
       "      <td>1.562118</td>\n",
       "      <td>1.820311</td>\n",
       "    </tr>\n",
       "    <tr>\n",
       "      <th>997</th>\n",
       "      <td>20906.077447</td>\n",
       "      <td>37238.565267</td>\n",
       "      <td>10967.804062</td>\n",
       "      <td>-2.312211</td>\n",
       "      <td>0.726117</td>\n",
       "      <td>1.664753</td>\n",
       "    </tr>\n",
       "    <tr>\n",
       "      <th>998</th>\n",
       "      <td>7871.245318</td>\n",
       "      <td>38575.122415</td>\n",
       "      <td>18731.818721</td>\n",
       "      <td>-2.661184</td>\n",
       "      <td>-0.221639</td>\n",
       "      <td>1.293445</td>\n",
       "    </tr>\n",
       "    <tr>\n",
       "      <th>999</th>\n",
       "      <td>-6142.526530</td>\n",
       "      <td>34919.272230</td>\n",
       "      <td>24066.202237</td>\n",
       "      <td>-2.681132</td>\n",
       "      <td>-1.179765</td>\n",
       "      <td>0.734721</td>\n",
       "    </tr>\n",
       "  </tbody>\n",
       "</table>\n",
       "<p>1000 rows × 6 columns</p>\n",
       "</div>"
      ],
      "text/plain": [
       "                x             y             z      x_vv      y_vv      z_vv\n",
       "0    42159.783600      0.000000      0.000000  0.000000  3.074505  0.053666\n",
       "1    39159.545914  15563.916303    266.913399 -1.142984  2.852848  0.048528\n",
       "2    30572.229294  28909.053086    496.928223 -2.127756  2.228986  0.039518\n",
       "3    17596.068412  38144.740319    671.356184 -2.813645  1.287415  0.027234\n",
       "4     2068.446366  41949.706443    775.646554 -3.098444  0.161675  0.012698\n",
       "..            ...           ...           ...       ...       ...       ...\n",
       "995  38132.961517  21370.880108  -7532.333000 -0.876644  2.199413  1.750026\n",
       "996  31399.515894  31233.289707   1828.575655 -1.692745  1.562118  1.820311\n",
       "997  20906.077447  37238.565267  10967.804062 -2.312211  0.726117  1.664753\n",
       "998   7871.245318  38575.122415  18731.818721 -2.661184 -0.221639  1.293445\n",
       "999  -6142.526530  34919.272230  24066.202237 -2.681132 -1.179765  0.734721\n",
       "\n",
       "[1000 rows x 6 columns]"
      ]
     },
     "execution_count": 1,
     "metadata": {},
     "output_type": "execute_result"
    }
   ],
   "source": [
    "import pandas as pd\n",
    "import numpy as np\n",
    "import matplotlib.pyplot as plt\n",
    "#import seaborn as sns\n",
    "#sns.set_style('whitegrid')\n",
    "plt.style.use(\"fivethirtyeight\")\n",
    "%matplotlib inline\n",
    "from sklearn.preprocessing import MinMaxScaler\n",
    "from keras.models import Sequential\n",
    "from keras.layers import Dense, LSTM\n",
    "\n",
    "df = pd.read_csv('Dataframes/3rdBodyPerturbationPoliastro.csv')\n",
    "df_v = pd.read_csv('Dataframes/3rdBodyPerturbationPoliastro_vv.csv')\n",
    "\n",
    "df['x_vv']=df_v.vv_x\n",
    "df['y_vv']=df_v.vv_y\n",
    "df['z_vv']=df_v.vv_z\n",
    "\n",
    "df"
   ]
  },
  {
   "cell_type": "code",
   "execution_count": 2,
   "id": "political-stroke",
   "metadata": {},
   "outputs": [],
   "source": [
    "predicted_feature = 0 # input number from 0 to 5, coresponds to x,y,z,vv_x,vv_y,vv_z"
   ]
  },
  {
   "cell_type": "code",
   "execution_count": 3,
   "id": "indie-publication",
   "metadata": {},
   "outputs": [],
   "source": [
    "# convert an array of values into a dataset matrix\n",
    "\n",
    "def create_dataset(dataset, look_back):\n",
    "    dataX = []\n",
    "    dataY = []\n",
    "    for i in range(len(dataset) - look_back):\n",
    "        a = dataset[i:(i + look_back), :]\n",
    "        dataX.append(a)\n",
    "        dataY.append(dataset[i + look_back, predicted_feature]) # 2 stands for prediction of Z!!! (3rd col)\n",
    "    return np.array(dataX), np.array(dataY)"
   ]
  },
  {
   "cell_type": "code",
   "execution_count": 4,
   "id": "racial-boring",
   "metadata": {},
   "outputs": [],
   "source": [
    "# load the dataset\n",
    "dataset = df.values"
   ]
  },
  {
   "cell_type": "code",
   "execution_count": 5,
   "id": "becoming-pledge",
   "metadata": {},
   "outputs": [
    {
     "data": {
      "text/plain": [
       "39159.545913907335"
      ]
     },
     "execution_count": 5,
     "metadata": {},
     "output_type": "execute_result"
    }
   ],
   "source": [
    "dataset[1,0]"
   ]
  },
  {
   "cell_type": "code",
   "execution_count": 6,
   "id": "static-rebecca",
   "metadata": {},
   "outputs": [],
   "source": [
    "# split into train and test sets\n",
    "train_size = int(len(dataset) * 0.8) \n",
    "test_size = len(dataset) - train_size\n",
    "\n",
    "train=dataset[0 : train_size]\n",
    "test=dataset[train_size - 60 : ]"
   ]
  },
  {
   "cell_type": "code",
   "execution_count": 7,
   "id": "sweet-discipline",
   "metadata": {},
   "outputs": [
    {
     "data": {
      "text/plain": [
       "(800, 6)"
      ]
     },
     "execution_count": 7,
     "metadata": {},
     "output_type": "execute_result"
    }
   ],
   "source": [
    "train.shape"
   ]
  },
  {
   "cell_type": "code",
   "execution_count": 8,
   "id": "approximate-utilization",
   "metadata": {},
   "outputs": [],
   "source": [
    "#Scale the data\n",
    "from sklearn.preprocessing import MinMaxScaler\n",
    "scaler = MinMaxScaler()\n",
    "train = scaler.fit_transform(train)\n",
    "test = scaler.transform(test)\n",
    "\n",
    "# reshape into X=t and Y=t+1\n",
    "look_back = 60\n",
    "trainX, trainY = create_dataset(train, look_back)  \n",
    "testX, testY = create_dataset(test, look_back)\n",
    "\n",
    "# reshape input to be  [length of train/test data, window size (def=60), features]\n",
    "trainX = np.reshape(trainX, (trainX.shape[0], look_back, 6))\n",
    "testX = np.reshape(testX, (testX.shape[0],look_back, 6))"
   ]
  },
  {
   "cell_type": "code",
   "execution_count": 9,
   "id": "secret-example",
   "metadata": {},
   "outputs": [
    {
     "data": {
      "text/plain": [
       "(740, 60, 6)"
      ]
     },
     "execution_count": 9,
     "metadata": {},
     "output_type": "execute_result"
    }
   ],
   "source": [
    "trainX.shape"
   ]
  },
  {
   "cell_type": "code",
   "execution_count": 10,
   "id": "engaging-funds",
   "metadata": {},
   "outputs": [
    {
     "data": {
      "text/plain": [
       "(200, 60, 6)"
      ]
     },
     "execution_count": 10,
     "metadata": {},
     "output_type": "execute_result"
    }
   ],
   "source": [
    "testX.shape"
   ]
  },
  {
   "cell_type": "code",
   "execution_count": 11,
   "id": "exposed-stomach",
   "metadata": {},
   "outputs": [
    {
     "data": {
      "text/plain": [
       "(200,)"
      ]
     },
     "execution_count": 11,
     "metadata": {},
     "output_type": "execute_result"
    }
   ],
   "source": [
    "testY.shape"
   ]
  },
  {
   "cell_type": "raw",
   "id": "broad-filename",
   "metadata": {},
   "source": [
    "print(trainX[0]) # (60 x 6 dimensions)"
   ]
  },
  {
   "cell_type": "code",
   "execution_count": 12,
   "id": "twenty-confidence",
   "metadata": {
    "scrolled": true
   },
   "outputs": [
    {
     "name": "stdout",
     "output_type": "stream",
     "text": [
      "Epoch 1/100\n",
      "3/3 [==============================] - 0s 143ms/step - loss: 0.3548\n",
      "Epoch 2/100\n",
      "3/3 [==============================] - 0s 144ms/step - loss: 0.1674\n",
      "Epoch 3/100\n",
      "3/3 [==============================] - 0s 130ms/step - loss: 0.0958\n",
      "Epoch 4/100\n",
      "3/3 [==============================] - 0s 120ms/step - loss: 0.0940\n",
      "Epoch 5/100\n",
      "3/3 [==============================] - 0s 120ms/step - loss: 0.0772\n",
      "Epoch 6/100\n",
      "3/3 [==============================] - 0s 122ms/step - loss: 0.0467\n",
      "Epoch 7/100\n",
      "3/3 [==============================] - 0s 136ms/step - loss: 0.0380\n",
      "Epoch 8/100\n",
      "3/3 [==============================] - 0s 160ms/step - loss: 0.0234\n",
      "Epoch 9/100\n",
      "3/3 [==============================] - 0s 136ms/step - loss: 0.0090\n",
      "Epoch 10/100\n",
      "3/3 [==============================] - 0s 131ms/step - loss: 0.0076\n",
      "Epoch 11/100\n",
      "3/3 [==============================] - 0s 127ms/step - loss: 0.0051\n",
      "Epoch 12/100\n",
      "3/3 [==============================] - 0s 125ms/step - loss: 0.0087\n",
      "Epoch 13/100\n",
      "3/3 [==============================] - 0s 130ms/step - loss: 0.0066\n",
      "Epoch 14/100\n",
      "3/3 [==============================] - 0s 123ms/step - loss: 0.0045\n",
      "Epoch 15/100\n",
      "3/3 [==============================] - 0s 130ms/step - loss: 0.0031\n",
      "Epoch 16/100\n",
      "3/3 [==============================] - 0s 118ms/step - loss: 0.0026\n",
      "Epoch 17/100\n",
      "3/3 [==============================] - 0s 129ms/step - loss: 0.0033\n",
      "Epoch 18/100\n",
      "3/3 [==============================] - 0s 130ms/step - loss: 0.0030\n",
      "Epoch 19/100\n",
      "3/3 [==============================] - 0s 120ms/step - loss: 0.0027\n",
      "Epoch 20/100\n",
      "3/3 [==============================] - 0s 127ms/step - loss: 0.0023\n",
      "Epoch 21/100\n",
      "3/3 [==============================] - 0s 122ms/step - loss: 0.0020\n",
      "Epoch 22/100\n",
      "3/3 [==============================] - 0s 132ms/step - loss: 0.0020\n",
      "Epoch 23/100\n",
      "3/3 [==============================] - 0s 122ms/step - loss: 0.0019\n",
      "Epoch 24/100\n",
      "3/3 [==============================] - 0s 128ms/step - loss: 0.0019\n",
      "Epoch 25/100\n",
      "3/3 [==============================] - 0s 133ms/step - loss: 0.0017\n",
      "Epoch 26/100\n",
      "3/3 [==============================] - 0s 122ms/step - loss: 0.0016\n",
      "Epoch 27/100\n",
      "3/3 [==============================] - 0s 136ms/step - loss: 0.0016\n",
      "Epoch 28/100\n",
      "3/3 [==============================] - 0s 141ms/step - loss: 0.0015\n",
      "Epoch 29/100\n",
      "3/3 [==============================] - 0s 145ms/step - loss: 0.0015\n",
      "Epoch 30/100\n",
      "3/3 [==============================] - 0s 123ms/step - loss: 0.0014\n",
      "Epoch 31/100\n",
      "3/3 [==============================] - 0s 134ms/step - loss: 0.0013\n",
      "Epoch 32/100\n",
      "3/3 [==============================] - 0s 129ms/step - loss: 0.0013\n",
      "Epoch 33/100\n",
      "3/3 [==============================] - 0s 133ms/step - loss: 0.0012\n",
      "Epoch 34/100\n",
      "3/3 [==============================] - 0s 134ms/step - loss: 0.0012\n",
      "Epoch 35/100\n",
      "3/3 [==============================] - 0s 148ms/step - loss: 0.0011\n",
      "Epoch 36/100\n",
      "3/3 [==============================] - 1s 498ms/step - loss: 0.0011\n",
      "Epoch 37/100\n",
      "3/3 [==============================] - 1s 465ms/step - loss: 0.0011\n",
      "Epoch 38/100\n",
      "3/3 [==============================] - 1s 485ms/step - loss: 0.0010\n",
      "Epoch 39/100\n",
      "3/3 [==============================] - 1s 423ms/step - loss: 9.7454e-04\n",
      "Epoch 40/100\n",
      "3/3 [==============================] - 2s 506ms/step - loss: 9.3614e-04\n",
      "Epoch 41/100\n",
      "3/3 [==============================] - 2s 507ms/step - loss: 9.0179e-04\n",
      "Epoch 42/100\n",
      "3/3 [==============================] - 1s 231ms/step - loss: 8.6464e-04\n",
      "Epoch 43/100\n",
      "3/3 [==============================] - 1s 209ms/step - loss: 8.3099e-04\n",
      "Epoch 44/100\n",
      "3/3 [==============================] - 1s 195ms/step - loss: 7.9239e-04\n",
      "Epoch 45/100\n",
      "3/3 [==============================] - 1s 194ms/step - loss: 7.6499e-04\n",
      "Epoch 46/100\n",
      "3/3 [==============================] - 1s 211ms/step - loss: 7.3138e-04\n",
      "Epoch 47/100\n",
      "3/3 [==============================] - 1s 407ms/step - loss: 7.0350e-04\n",
      "Epoch 48/100\n",
      "3/3 [==============================] - 2s 633ms/step - loss: 6.7587e-04\n",
      "Epoch 49/100\n",
      "3/3 [==============================] - 1s 337ms/step - loss: 6.5139e-04\n",
      "Epoch 50/100\n",
      "3/3 [==============================] - 1s 293ms/step - loss: 6.2510e-04\n",
      "Epoch 51/100\n",
      "3/3 [==============================] - 1s 270ms/step - loss: 6.0011e-04\n",
      "Epoch 52/100\n",
      "3/3 [==============================] - 0s 166ms/step - loss: 5.7856e-04\n",
      "Epoch 53/100\n",
      "3/3 [==============================] - 0s 161ms/step - loss: 5.6088e-04\n",
      "Epoch 54/100\n",
      "3/3 [==============================] - 0s 164ms/step - loss: 5.3304e-04\n",
      "Epoch 55/100\n",
      "3/3 [==============================] - 0s 153ms/step - loss: 5.1413e-04\n",
      "Epoch 56/100\n",
      "3/3 [==============================] - 0s 145ms/step - loss: 4.9440e-04\n",
      "Epoch 57/100\n",
      "3/3 [==============================] - 0s 152ms/step - loss: 4.7696e-04\n",
      "Epoch 58/100\n",
      "3/3 [==============================] - 0s 141ms/step - loss: 4.5872e-04\n",
      "Epoch 59/100\n",
      "3/3 [==============================] - 1s 207ms/step - loss: 4.4261e-04\n",
      "Epoch 60/100\n",
      "3/3 [==============================] - 1s 204ms/step - loss: 4.2475e-04\n",
      "Epoch 61/100\n",
      "3/3 [==============================] - 1s 190ms/step - loss: 4.1223e-04\n",
      "Epoch 62/100\n",
      "3/3 [==============================] - 1s 180ms/step - loss: 3.9521e-04\n",
      "Epoch 63/100\n",
      "3/3 [==============================] - 1s 181ms/step - loss: 3.8177e-04\n",
      "Epoch 64/100\n",
      "3/3 [==============================] - 1s 190ms/step - loss: 3.6919e-04\n",
      "Epoch 65/100\n",
      "3/3 [==============================] - 1s 171ms/step - loss: 3.5428e-04\n",
      "Epoch 66/100\n",
      "3/3 [==============================] - 1s 175ms/step - loss: 3.4227e-04\n",
      "Epoch 67/100\n",
      "3/3 [==============================] - 0s 135ms/step - loss: 3.2948e-04\n",
      "Epoch 68/100\n",
      "3/3 [==============================] - 0s 133ms/step - loss: 3.1822e-04\n",
      "Epoch 69/100\n",
      "3/3 [==============================] - 0s 135ms/step - loss: 3.0479e-04\n",
      "Epoch 70/100\n",
      "3/3 [==============================] - 0s 148ms/step - loss: 2.9886e-04\n",
      "Epoch 71/100\n",
      "3/3 [==============================] - 0s 138ms/step - loss: 2.8466e-04\n",
      "Epoch 72/100\n",
      "3/3 [==============================] - 0s 137ms/step - loss: 2.6945e-04\n",
      "Epoch 73/100\n",
      "3/3 [==============================] - 0s 136ms/step - loss: 2.6478e-04\n",
      "Epoch 74/100\n",
      "3/3 [==============================] - 0s 145ms/step - loss: 2.5441e-04\n",
      "Epoch 75/100\n",
      "3/3 [==============================] - 0s 144ms/step - loss: 2.4548e-04\n",
      "Epoch 76/100\n",
      "3/3 [==============================] - 0s 141ms/step - loss: 2.3491e-04\n",
      "Epoch 77/100\n",
      "3/3 [==============================] - 0s 132ms/step - loss: 2.1723e-04\n",
      "Epoch 78/100\n",
      "3/3 [==============================] - 0s 134ms/step - loss: 2.0673e-04\n",
      "Epoch 79/100\n",
      "3/3 [==============================] - 0s 128ms/step - loss: 2.0035e-04\n",
      "Epoch 80/100\n",
      "3/3 [==============================] - 0s 136ms/step - loss: 1.8214e-04\n",
      "Epoch 81/100\n",
      "3/3 [==============================] - 0s 160ms/step - loss: 1.7313e-04\n",
      "Epoch 82/100\n",
      "3/3 [==============================] - 0s 162ms/step - loss: 1.6122e-04\n",
      "Epoch 83/100\n",
      "3/3 [==============================] - 0s 154ms/step - loss: 1.5062e-04\n",
      "Epoch 84/100\n",
      "3/3 [==============================] - 0s 152ms/step - loss: 1.4086e-04\n",
      "Epoch 85/100\n",
      "3/3 [==============================] - 1s 208ms/step - loss: 1.3596e-04\n",
      "Epoch 86/100\n",
      "3/3 [==============================] - 0s 154ms/step - loss: 1.2651e-04\n",
      "Epoch 87/100\n",
      "3/3 [==============================] - 0s 148ms/step - loss: 1.2094e-04\n",
      "Epoch 88/100\n",
      "3/3 [==============================] - 0s 157ms/step - loss: 1.1729e-04\n",
      "Epoch 89/100\n",
      "3/3 [==============================] - 0s 153ms/step - loss: 1.0933e-04\n",
      "Epoch 90/100\n",
      "3/3 [==============================] - 0s 130ms/step - loss: 1.0281e-04\n",
      "Epoch 91/100\n",
      "3/3 [==============================] - 0s 142ms/step - loss: 1.0057e-04\n",
      "Epoch 92/100\n",
      "3/3 [==============================] - 0s 159ms/step - loss: 9.9128e-05\n",
      "Epoch 93/100\n",
      "3/3 [==============================] - 0s 136ms/step - loss: 9.4523e-05\n",
      "Epoch 94/100\n",
      "3/3 [==============================] - 0s 128ms/step - loss: 9.6803e-05\n",
      "Epoch 95/100\n",
      "3/3 [==============================] - 0s 136ms/step - loss: 1.0580e-04\n",
      "Epoch 96/100\n",
      "3/3 [==============================] - 0s 137ms/step - loss: 9.4874e-05\n",
      "Epoch 97/100\n",
      "3/3 [==============================] - 0s 146ms/step - loss: 9.3558e-05\n",
      "Epoch 98/100\n",
      "3/3 [==============================] - 0s 148ms/step - loss: 8.4475e-05\n",
      "Epoch 99/100\n"
     ]
    },
    {
     "name": "stdout",
     "output_type": "stream",
     "text": [
      "3/3 [==============================] - 0s 148ms/step - loss: 8.4801e-05\n",
      "Epoch 100/100\n",
      "3/3 [==============================] - 0s 138ms/step - loss: 8.3399e-05\n"
     ]
    },
    {
     "data": {
      "image/png": "[encoded data removed]",
      "text/plain": [
       "<Figure size 432x288 with 1 Axes>"
      ]
     },
     "metadata": {
      "needs_background": "light"
     },
     "output_type": "display_data"
    }
   ],
   "source": [
    "from keras.models import Sequential\n",
    "from keras.layers import Dense, LSTM\n",
    "\n",
    "# Build the LSTM model\n",
    "# Note: replace LSTM with GRU or RNN if you want to try those\n",
    "model = Sequential()\n",
    "model.add(LSTM(128, return_sequences=True, input_shape= (look_back, 6)))\n",
    "model.add(LSTM(64, return_sequences=False))\n",
    "model.add(Dense(25))\n",
    "model.add(Dense(1))\n",
    "\n",
    "# Compile the model\n",
    "model.compile(optimizer='adam', loss='mean_squared_error')\n",
    "\n",
    "# Train the model\n",
    "history=model.fit(trainX, trainY, batch_size=256, epochs=100)\n",
    "\n",
    "# Plot Training Loss\n",
    "plt.plot(history.history['loss']) # add validation loss\n",
    "plt.title('model loss')\n",
    "plt.ylabel('period')\n",
    "plt.xlabel('epoch')\n",
    "plt.legend(['training'], loc='upper right')\n",
    "plt.show()"
   ]
  },
  {
   "cell_type": "markdown",
   "id": "hired-catalog",
   "metadata": {},
   "source": [
    "**Obs:** 25 Epochs will do for good convergence."
   ]
  },
  {
   "cell_type": "code",
   "execution_count": 13,
   "id": "early-stress",
   "metadata": {},
   "outputs": [],
   "source": [
    "predictions = model.predict(testX)\n",
    "\n",
    "predict_ext = np.zeros((len(predictions), 6))\n",
    "predict_ext[:,predicted_feature] = predictions[:,0]\n",
    "predictions = scaler.inverse_transform(predict_ext)[:,predicted_feature]"
   ]
  },
  {
   "cell_type": "code",
   "execution_count": 14,
   "id": "outer-commonwealth",
   "metadata": {},
   "outputs": [],
   "source": [
    "testY_extended = np.zeros((len(testY),6))\n",
    "testY_extended[:,predicted_feature]=testY\n",
    "testY=scaler.inverse_transform(testY_extended)[:,predicted_feature]"
   ]
  },
  {
   "cell_type": "raw",
   "id": "worth-performance",
   "metadata": {},
   "source": [
    "# Get the models predicted price values \n",
    "predictions = model.predict(testX)\n",
    "#predictions = scaler.inverse_transform(predictions)\n",
    "\n",
    "# Get something which has as many features as dataset\n",
    "predict_ext = np.zeros((len(predictions), 6))\n",
    "# Put the predictions there\n",
    "predict_ext[:,2] = predictions[:,0]\n",
    "# Inverse transform it and select the 3rd column.\n",
    "predictions = scaler.inverse_transform(predict_ext)[:,2]\n",
    "\n",
    "testY_extended = np.zeros((len(testY),6))\n",
    "testY_extended[:,2]=testY\n",
    "testY=scaler.inverse_transform(testY_extended)[:,2]"
   ]
  },
  {
   "cell_type": "code",
   "execution_count": 15,
   "id": "massive-simpson",
   "metadata": {},
   "outputs": [
    {
     "data": {
      "text/plain": [
       "1070.6026971818271"
      ]
     },
     "execution_count": 15,
     "metadata": {},
     "output_type": "execute_result"
    }
   ],
   "source": [
    "# RMSE\n",
    "rmse = np.sqrt(np.mean(((predictions - testY) ** 2)))\n",
    "rmse"
   ]
  },
  {
   "cell_type": "code",
   "execution_count": 16,
   "id": "present-struggle",
   "metadata": {},
   "outputs": [
    {
     "data": {
      "text/html": [
       "<div>\n",
       "<style scoped>\n",
       "    .dataframe tbody tr th:only-of-type {\n",
       "        vertical-align: middle;\n",
       "    }\n",
       "\n",
       "    .dataframe tbody tr th {\n",
       "        vertical-align: top;\n",
       "    }\n",
       "\n",
       "    .dataframe thead th {\n",
       "        text-align: right;\n",
       "    }\n",
       "</style>\n",
       "<table border=\"1\" class=\"dataframe\">\n",
       "  <thead>\n",
       "    <tr style=\"text-align: right;\">\n",
       "      <th></th>\n",
       "      <th>x</th>\n",
       "      <th>y</th>\n",
       "      <th>z</th>\n",
       "      <th>x_vv</th>\n",
       "      <th>y_vv</th>\n",
       "      <th>z_vv</th>\n",
       "    </tr>\n",
       "  </thead>\n",
       "  <tbody>\n",
       "    <tr>\n",
       "      <th>800</th>\n",
       "      <td>-38640.279625</td>\n",
       "      <td>-2764.935183</td>\n",
       "      <td>17604.980941</td>\n",
       "      <td>-0.242379</td>\n",
       "      <td>-2.869481</td>\n",
       "      <td>-1.032661</td>\n",
       "    </tr>\n",
       "    <tr>\n",
       "      <th>801</th>\n",
       "      <td>-37222.004154</td>\n",
       "      <td>-17134.306183</td>\n",
       "      <td>11135.984105</td>\n",
       "      <td>0.783117</td>\n",
       "      <td>-2.603604</td>\n",
       "      <td>-1.431914</td>\n",
       "    </tr>\n",
       "    <tr>\n",
       "      <th>802</th>\n",
       "      <td>-30699.416577</td>\n",
       "      <td>-29154.049729</td>\n",
       "      <td>3087.546466</td>\n",
       "      <td>1.701144</td>\n",
       "      <td>-1.974296</td>\n",
       "      <td>-1.633559</td>\n",
       "    </tr>\n",
       "    <tr>\n",
       "      <th>803</th>\n",
       "      <td>-19981.800403</td>\n",
       "      <td>-37148.488205</td>\n",
       "      <td>-5420.909441</td>\n",
       "      <td>2.380643</td>\n",
       "      <td>-1.071344</td>\n",
       "      <td>-1.607049</td>\n",
       "    </tr>\n",
       "    <tr>\n",
       "      <th>804</th>\n",
       "      <td>-6568.003292</td>\n",
       "      <td>-40025.406603</td>\n",
       "      <td>-13203.492438</td>\n",
       "      <td>2.729043</td>\n",
       "      <td>-0.025797</td>\n",
       "      <td>-1.357603</td>\n",
       "    </tr>\n",
       "    <tr>\n",
       "      <th>...</th>\n",
       "      <td>...</td>\n",
       "      <td>...</td>\n",
       "      <td>...</td>\n",
       "      <td>...</td>\n",
       "      <td>...</td>\n",
       "      <td>...</td>\n",
       "    </tr>\n",
       "    <tr>\n",
       "      <th>995</th>\n",
       "      <td>38132.961517</td>\n",
       "      <td>21370.880108</td>\n",
       "      <td>-7532.333000</td>\n",
       "      <td>-0.876644</td>\n",
       "      <td>2.199413</td>\n",
       "      <td>1.750026</td>\n",
       "    </tr>\n",
       "    <tr>\n",
       "      <th>996</th>\n",
       "      <td>31399.515894</td>\n",
       "      <td>31233.289707</td>\n",
       "      <td>1828.575655</td>\n",
       "      <td>-1.692745</td>\n",
       "      <td>1.562118</td>\n",
       "      <td>1.820311</td>\n",
       "    </tr>\n",
       "    <tr>\n",
       "      <th>997</th>\n",
       "      <td>20906.077447</td>\n",
       "      <td>37238.565267</td>\n",
       "      <td>10967.804062</td>\n",
       "      <td>-2.312211</td>\n",
       "      <td>0.726117</td>\n",
       "      <td>1.664753</td>\n",
       "    </tr>\n",
       "    <tr>\n",
       "      <th>998</th>\n",
       "      <td>7871.245318</td>\n",
       "      <td>38575.122415</td>\n",
       "      <td>18731.818721</td>\n",
       "      <td>-2.661184</td>\n",
       "      <td>-0.221639</td>\n",
       "      <td>1.293445</td>\n",
       "    </tr>\n",
       "    <tr>\n",
       "      <th>999</th>\n",
       "      <td>-6142.526530</td>\n",
       "      <td>34919.272230</td>\n",
       "      <td>24066.202237</td>\n",
       "      <td>-2.681132</td>\n",
       "      <td>-1.179765</td>\n",
       "      <td>0.734721</td>\n",
       "    </tr>\n",
       "  </tbody>\n",
       "</table>\n",
       "<p>200 rows × 6 columns</p>\n",
       "</div>"
      ],
      "text/plain": [
       "                x             y             z      x_vv      y_vv      z_vv\n",
       "800 -38640.279625  -2764.935183  17604.980941 -0.242379 -2.869481 -1.032661\n",
       "801 -37222.004154 -17134.306183  11135.984105  0.783117 -2.603604 -1.431914\n",
       "802 -30699.416577 -29154.049729   3087.546466  1.701144 -1.974296 -1.633559\n",
       "803 -19981.800403 -37148.488205  -5420.909441  2.380643 -1.071344 -1.607049\n",
       "804  -6568.003292 -40025.406603 -13203.492438  2.729043 -0.025797 -1.357603\n",
       "..            ...           ...           ...       ...       ...       ...\n",
       "995  38132.961517  21370.880108  -7532.333000 -0.876644  2.199413  1.750026\n",
       "996  31399.515894  31233.289707   1828.575655 -1.692745  1.562118  1.820311\n",
       "997  20906.077447  37238.565267  10967.804062 -2.312211  0.726117  1.664753\n",
       "998   7871.245318  38575.122415  18731.818721 -2.661184 -0.221639  1.293445\n",
       "999  -6142.526530  34919.272230  24066.202237 -2.681132 -1.179765  0.734721\n",
       "\n",
       "[200 rows x 6 columns]"
      ]
     },
     "execution_count": 16,
     "metadata": {},
     "output_type": "execute_result"
    }
   ],
   "source": [
    "# Plot the data\n",
    "train = df[:train_size]\n",
    "test = df[train_size:]\n",
    "test"
   ]
  },
  {
   "cell_type": "code",
   "execution_count": 17,
   "id": "abandoned-backup",
   "metadata": {},
   "outputs": [
    {
     "data": {
      "text/html": [
       "<div>\n",
       "<style scoped>\n",
       "    .dataframe tbody tr th:only-of-type {\n",
       "        vertical-align: middle;\n",
       "    }\n",
       "\n",
       "    .dataframe tbody tr th {\n",
       "        vertical-align: top;\n",
       "    }\n",
       "\n",
       "    .dataframe thead th {\n",
       "        text-align: right;\n",
       "    }\n",
       "</style>\n",
       "<table border=\"1\" class=\"dataframe\">\n",
       "  <thead>\n",
       "    <tr style=\"text-align: right;\">\n",
       "      <th></th>\n",
       "      <th>testY</th>\n",
       "      <th>predictions</th>\n",
       "    </tr>\n",
       "  </thead>\n",
       "  <tbody>\n",
       "    <tr>\n",
       "      <th>0</th>\n",
       "      <td>-38640.279625</td>\n",
       "      <td>-37771.993293</td>\n",
       "    </tr>\n",
       "    <tr>\n",
       "      <th>1</th>\n",
       "      <td>-37222.004154</td>\n",
       "      <td>-36169.523748</td>\n",
       "    </tr>\n",
       "    <tr>\n",
       "      <th>2</th>\n",
       "      <td>-30699.416577</td>\n",
       "      <td>-29627.462763</td>\n",
       "    </tr>\n",
       "    <tr>\n",
       "      <th>3</th>\n",
       "      <td>-19981.800403</td>\n",
       "      <td>-19046.575637</td>\n",
       "    </tr>\n",
       "    <tr>\n",
       "      <th>4</th>\n",
       "      <td>-6568.003292</td>\n",
       "      <td>-5836.069973</td>\n",
       "    </tr>\n",
       "    <tr>\n",
       "      <th>...</th>\n",
       "      <td>...</td>\n",
       "      <td>...</td>\n",
       "    </tr>\n",
       "    <tr>\n",
       "      <th>195</th>\n",
       "      <td>38132.961517</td>\n",
       "      <td>37871.768024</td>\n",
       "    </tr>\n",
       "    <tr>\n",
       "      <th>196</th>\n",
       "      <td>31399.515894</td>\n",
       "      <td>30720.933330</td>\n",
       "    </tr>\n",
       "    <tr>\n",
       "      <th>197</th>\n",
       "      <td>20906.077447</td>\n",
       "      <td>19946.106818</td>\n",
       "    </tr>\n",
       "    <tr>\n",
       "      <th>198</th>\n",
       "      <td>7871.245318</td>\n",
       "      <td>6951.189439</td>\n",
       "    </tr>\n",
       "    <tr>\n",
       "      <th>199</th>\n",
       "      <td>-6142.526530</td>\n",
       "      <td>-6577.761341</td>\n",
       "    </tr>\n",
       "  </tbody>\n",
       "</table>\n",
       "<p>200 rows × 2 columns</p>\n",
       "</div>"
      ],
      "text/plain": [
       "            testY   predictions\n",
       "0   -38640.279625 -37771.993293\n",
       "1   -37222.004154 -36169.523748\n",
       "2   -30699.416577 -29627.462763\n",
       "3   -19981.800403 -19046.575637\n",
       "4    -6568.003292  -5836.069973\n",
       "..            ...           ...\n",
       "195  38132.961517  37871.768024\n",
       "196  31399.515894  30720.933330\n",
       "197  20906.077447  19946.106818\n",
       "198   7871.245318   6951.189439\n",
       "199  -6142.526530  -6577.761341\n",
       "\n",
       "[200 rows x 2 columns]"
      ]
     },
     "execution_count": 17,
     "metadata": {},
     "output_type": "execute_result"
    }
   ],
   "source": [
    "dataa = {'testY': testY, 'predictions': predictions}\n",
    "dff = pd.DataFrame.from_dict(dataa)\n",
    "dff"
   ]
  },
  {
   "cell_type": "markdown",
   "id": "meaningful-fountain",
   "metadata": {},
   "source": [
    "Plot:"
   ]
  },
  {
   "cell_type": "code",
   "execution_count": 18,
   "id": "curious-invention",
   "metadata": {},
   "outputs": [
    {
     "data": {
      "image/png": "[encoded data removed]",
      "text/plain": [
       "<Figure size 1152x576 with 1 Axes>"
      ]
     },
     "metadata": {
      "needs_background": "light"
     },
     "output_type": "display_data"
    }
   ],
   "source": [
    "plt.figure(figsize=(16,8))\n",
    "plt.title('Testing data')\n",
    "plt.xlabel('Date', fontsize=18)\n",
    "plt.ylabel('X-Coord', fontsize=18)\n",
    "plt.plot(dff.testY)\n",
    "plt.plot(dff.predictions)\n",
    "plt.legend(['TestY', 'Predictions'], loc='lower right')\n",
    "plt.show()"
   ]
  },
  {
   "cell_type": "markdown",
   "id": "living-egyptian",
   "metadata": {},
   "source": [
    "Error plot:"
   ]
  },
  {
   "cell_type": "code",
   "execution_count": 19,
   "id": "graphic-order",
   "metadata": {},
   "outputs": [
    {
     "data": {
      "text/plain": [
       "<AxesSubplot:>"
      ]
     },
     "execution_count": 19,
     "metadata": {},
     "output_type": "execute_result"
    },
    {
     "data": {
      "image/png": "[encoded data removed]",
      "text/plain": [
       "<Figure size 432x288 with 1 Axes>"
      ]
     },
     "metadata": {
      "needs_background": "light"
     },
     "output_type": "display_data"
    }
   ],
   "source": [
    "dff['Error']=abs(dff.predictions-dff.testY)/6738 # the normalization ct is taken as ISS semi-major axis\n",
    "dff.Error.plot()"
   ]
  },
  {
   "cell_type": "markdown",
   "id": "liquid-brain",
   "metadata": {},
   "source": [
    "## This is how we predict one of the coordinates based on the 6 features."
   ]
  }
 ],
 "metadata": {
  "kernelspec": {
   "display_name": "Python 3",
   "language": "python",
   "name": "python3"
  },
  "language_info": {
   "codemirror_mode": {
    "name": "ipython",
    "version": 3
   },
   "file_extension": ".py",
   "mimetype": "text/x-python",
   "name": "python",
   "nbconvert_exporter": "python",
   "pygments_lexer": "ipython3",
   "version": "3.7.9"
  }
 },
 "nbformat": 4,
 "nbformat_minor": 5
}
