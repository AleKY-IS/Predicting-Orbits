{
 "cells": [
  {
   "cell_type": "code",
   "execution_count": 1,
   "id": "dental-groove",
   "metadata": {},
   "outputs": [
    {
     "data": {
      "text/html": [
       "<div>\n",
       "<style scoped>\n",
       "    .dataframe tbody tr th:only-of-type {\n",
       "        vertical-align: middle;\n",
       "    }\n",
       "\n",
       "    .dataframe tbody tr th {\n",
       "        vertical-align: top;\n",
       "    }\n",
       "\n",
       "    .dataframe thead th {\n",
       "        text-align: right;\n",
       "    }\n",
       "</style>\n",
       "<table border=\"1\" class=\"dataframe\">\n",
       "  <thead>\n",
       "    <tr style=\"text-align: right;\">\n",
       "      <th></th>\n",
       "      <th>x</th>\n",
       "      <th>y</th>\n",
       "      <th>z</th>\n",
       "    </tr>\n",
       "  </thead>\n",
       "  <tbody>\n",
       "    <tr>\n",
       "      <th>0</th>\n",
       "      <td>42159.783600</td>\n",
       "      <td>0.000000</td>\n",
       "      <td>0.000000</td>\n",
       "    </tr>\n",
       "    <tr>\n",
       "      <th>1</th>\n",
       "      <td>39159.545914</td>\n",
       "      <td>15563.916303</td>\n",
       "      <td>266.913399</td>\n",
       "    </tr>\n",
       "    <tr>\n",
       "      <th>2</th>\n",
       "      <td>30572.229294</td>\n",
       "      <td>28909.053086</td>\n",
       "      <td>496.928223</td>\n",
       "    </tr>\n",
       "    <tr>\n",
       "      <th>3</th>\n",
       "      <td>17596.068412</td>\n",
       "      <td>38144.740319</td>\n",
       "      <td>671.356184</td>\n",
       "    </tr>\n",
       "    <tr>\n",
       "      <th>4</th>\n",
       "      <td>2068.446366</td>\n",
       "      <td>41949.706443</td>\n",
       "      <td>775.646554</td>\n",
       "    </tr>\n",
       "    <tr>\n",
       "      <th>...</th>\n",
       "      <td>...</td>\n",
       "      <td>...</td>\n",
       "      <td>...</td>\n",
       "    </tr>\n",
       "    <tr>\n",
       "      <th>995</th>\n",
       "      <td>38132.961517</td>\n",
       "      <td>21370.880108</td>\n",
       "      <td>-7532.333000</td>\n",
       "    </tr>\n",
       "    <tr>\n",
       "      <th>996</th>\n",
       "      <td>31399.515894</td>\n",
       "      <td>31233.289707</td>\n",
       "      <td>1828.575655</td>\n",
       "    </tr>\n",
       "    <tr>\n",
       "      <th>997</th>\n",
       "      <td>20906.077447</td>\n",
       "      <td>37238.565267</td>\n",
       "      <td>10967.804062</td>\n",
       "    </tr>\n",
       "    <tr>\n",
       "      <th>998</th>\n",
       "      <td>7871.245318</td>\n",
       "      <td>38575.122415</td>\n",
       "      <td>18731.818721</td>\n",
       "    </tr>\n",
       "    <tr>\n",
       "      <th>999</th>\n",
       "      <td>-6142.526530</td>\n",
       "      <td>34919.272230</td>\n",
       "      <td>24066.202237</td>\n",
       "    </tr>\n",
       "  </tbody>\n",
       "</table>\n",
       "<p>1000 rows × 3 columns</p>\n",
       "</div>"
      ],
      "text/plain": [
       "                x             y             z\n",
       "0    42159.783600      0.000000      0.000000\n",
       "1    39159.545914  15563.916303    266.913399\n",
       "2    30572.229294  28909.053086    496.928223\n",
       "3    17596.068412  38144.740319    671.356184\n",
       "4     2068.446366  41949.706443    775.646554\n",
       "..            ...           ...           ...\n",
       "995  38132.961517  21370.880108  -7532.333000\n",
       "996  31399.515894  31233.289707   1828.575655\n",
       "997  20906.077447  37238.565267  10967.804062\n",
       "998   7871.245318  38575.122415  18731.818721\n",
       "999  -6142.526530  34919.272230  24066.202237\n",
       "\n",
       "[1000 rows x 3 columns]"
      ]
     },
     "execution_count": 1,
     "metadata": {},
     "output_type": "execute_result"
    }
   ],
   "source": [
    "import pandas as pd\n",
    "import numpy as np\n",
    "import matplotlib.pyplot as plt\n",
    "#import seaborn as sns\n",
    "#sns.set_style('whitegrid')\n",
    "plt.style.use(\"fivethirtyeight\")\n",
    "%matplotlib inline\n",
    "\n",
    "df = pd.read_csv('Dataframes/3rdBodyPerturbationPoliastro.csv')\n",
    "\n",
    "df"
   ]
  },
  {
   "cell_type": "markdown",
   "id": "olive-magic",
   "metadata": {},
   "source": [
    "Now we want to predict X values (can change for Y, Z):"
   ]
  },
  {
   "cell_type": "code",
   "execution_count": 2,
   "id": "young-guyana",
   "metadata": {},
   "outputs": [
    {
     "data": {
      "text/plain": [
       "800"
      ]
     },
     "execution_count": 2,
     "metadata": {},
     "output_type": "execute_result"
    }
   ],
   "source": [
    "#Create a new dataframe with only the x column\n",
    "data = df.filter(['x']) # CHANGE FOR Y,Z\n",
    "\n",
    "#Convert the dataframe to a numpy array\n",
    "dataset = data.values\n",
    "\n",
    "#Get the number of rows to train the model on\n",
    "training_data_len = int(np.ceil( len(dataset) * 0.8 ))\n",
    "\n",
    "training_data_len"
   ]
  },
  {
   "cell_type": "code",
   "execution_count": 3,
   "id": "floating-malaysia",
   "metadata": {},
   "outputs": [],
   "source": [
    "#Scale the data\n",
    "from sklearn.preprocessing import MinMaxScaler\n",
    "\n",
    "scaler = MinMaxScaler()\n",
    "scaled_data = scaler.fit_transform(dataset)"
   ]
  },
  {
   "cell_type": "code",
   "execution_count": 4,
   "id": "important-thread",
   "metadata": {},
   "outputs": [],
   "source": [
    "# Set roll-back window\n",
    "window = 60 # default was set to 60 before"
   ]
  },
  {
   "cell_type": "code",
   "execution_count": 5,
   "id": "nearby-arrival",
   "metadata": {},
   "outputs": [
    {
     "data": {
      "text/plain": [
       "(740, 60, 1)"
      ]
     },
     "execution_count": 5,
     "metadata": {},
     "output_type": "execute_result"
    }
   ],
   "source": [
    "#Create the training data set\n",
    "#Create the scaled training data set\n",
    "train_data = scaled_data[0:int(training_data_len), :]\n",
    "\n",
    "#Split the data into x_train and y_train data sets\n",
    "x_train = []\n",
    "y_train = []\n",
    "\n",
    "for i in range(window, len(train_data)):\n",
    "    x_train.append(train_data[i-window:i, 0])\n",
    "    y_train.append(train_data[i, 0])\n",
    "\n",
    "# Convert the x_train and y_train to numpy arrays \n",
    "x_train, y_train = np.array(x_train), np.array(y_train)\n",
    "\n",
    "#Reshape the data\n",
    "x_train = np.reshape(x_train, (x_train.shape[0], x_train.shape[1], 1))\n",
    "x_train.shape"
   ]
  },
  {
   "cell_type": "code",
   "execution_count": 6,
   "id": "golden-donor",
   "metadata": {},
   "outputs": [
    {
     "data": {
      "text/plain": [
       "(200, 60, 1)"
      ]
     },
     "execution_count": 6,
     "metadata": {},
     "output_type": "execute_result"
    }
   ],
   "source": [
    "#Create the testing data set\n",
    "#Create a new array containing scaled values\n",
    "test_data = scaled_data[training_data_len - window: , :]\n",
    "\n",
    "#Create the data sets x_test and y_test\n",
    "x_test = []\n",
    "y_test = dataset[training_data_len:, :]\n",
    "for i in range(window, len(test_data)):\n",
    "    x_test.append(test_data[i-window:i, 0])\n",
    "    \n",
    "# Convert the data to a numpy array\n",
    "x_test = np.array(x_test)\n",
    "\n",
    "# Reshape the data\n",
    "x_test = np.reshape(x_test, (x_test.shape[0], x_test.shape[1], 1))\n",
    "x_test.shape"
   ]
  },
  {
   "cell_type": "markdown",
   "id": "spare-atmosphere",
   "metadata": {},
   "source": [
    "## Model 1: Uni-Variate"
   ]
  },
  {
   "cell_type": "code",
   "execution_count": 7,
   "id": "national-thumb",
   "metadata": {},
   "outputs": [
    {
     "name": "stdout",
     "output_type": "stream",
     "text": [
      "Epoch 1/10\n",
      "47/47 [==============================] - 3s 57ms/step - loss: 0.1128\n",
      "Epoch 2/10\n",
      "36/47 [=====================>........] - ETA: 0s - loss: 0.0036"
     ]
    },
    {
     "ename": "KeyboardInterrupt",
     "evalue": "",
     "output_type": "error",
     "traceback": [
      "\u001b[1;31m---------------------------------------------------------------------------\u001b[0m",
      "\u001b[1;31mKeyboardInterrupt\u001b[0m                         Traceback (most recent call last)",
      "\u001b[1;32m<ipython-input-7-34e1fb07256f>\u001b[0m in \u001b[0;36m<module>\u001b[1;34m\u001b[0m\n\u001b[0;32m     14\u001b[0m \u001b[1;33m\u001b[0m\u001b[0m\n\u001b[0;32m     15\u001b[0m \u001b[1;31m# Train the model\u001b[0m\u001b[1;33m\u001b[0m\u001b[1;33m\u001b[0m\u001b[1;33m\u001b[0m\u001b[0m\n\u001b[1;32m---> 16\u001b[1;33m \u001b[0mhistory\u001b[0m\u001b[1;33m=\u001b[0m\u001b[0mmodel\u001b[0m\u001b[1;33m.\u001b[0m\u001b[0mfit\u001b[0m\u001b[1;33m(\u001b[0m\u001b[0mx_train\u001b[0m\u001b[1;33m,\u001b[0m \u001b[0my_train\u001b[0m\u001b[1;33m,\u001b[0m \u001b[0mbatch_size\u001b[0m\u001b[1;33m=\u001b[0m\u001b[1;36m16\u001b[0m\u001b[1;33m,\u001b[0m \u001b[0mepochs\u001b[0m\u001b[1;33m=\u001b[0m\u001b[1;36m10\u001b[0m\u001b[1;33m)\u001b[0m\u001b[1;33m\u001b[0m\u001b[1;33m\u001b[0m\u001b[0m\n\u001b[0m\u001b[0;32m     17\u001b[0m \u001b[1;33m\u001b[0m\u001b[0m\n\u001b[0;32m     18\u001b[0m \u001b[1;31m# Plot Training Loss\u001b[0m\u001b[1;33m\u001b[0m\u001b[1;33m\u001b[0m\u001b[1;33m\u001b[0m\u001b[0m\n",
      "\u001b[1;32m~\\anaconda3\\envs\\poliastro\\lib\\site-packages\\tensorflow\\python\\keras\\engine\\training.py\u001b[0m in \u001b[0;36m_method_wrapper\u001b[1;34m(self, *args, **kwargs)\u001b[0m\n\u001b[0;32m    106\u001b[0m   \u001b[1;32mdef\u001b[0m \u001b[0m_method_wrapper\u001b[0m\u001b[1;33m(\u001b[0m\u001b[0mself\u001b[0m\u001b[1;33m,\u001b[0m \u001b[1;33m*\u001b[0m\u001b[0margs\u001b[0m\u001b[1;33m,\u001b[0m \u001b[1;33m**\u001b[0m\u001b[0mkwargs\u001b[0m\u001b[1;33m)\u001b[0m\u001b[1;33m:\u001b[0m\u001b[1;33m\u001b[0m\u001b[1;33m\u001b[0m\u001b[0m\n\u001b[0;32m    107\u001b[0m     \u001b[1;32mif\u001b[0m \u001b[1;32mnot\u001b[0m \u001b[0mself\u001b[0m\u001b[1;33m.\u001b[0m\u001b[0m_in_multi_worker_mode\u001b[0m\u001b[1;33m(\u001b[0m\u001b[1;33m)\u001b[0m\u001b[1;33m:\u001b[0m  \u001b[1;31m# pylint: disable=protected-access\u001b[0m\u001b[1;33m\u001b[0m\u001b[1;33m\u001b[0m\u001b[0m\n\u001b[1;32m--> 108\u001b[1;33m       \u001b[1;32mreturn\u001b[0m \u001b[0mmethod\u001b[0m\u001b[1;33m(\u001b[0m\u001b[0mself\u001b[0m\u001b[1;33m,\u001b[0m \u001b[1;33m*\u001b[0m\u001b[0margs\u001b[0m\u001b[1;33m,\u001b[0m \u001b[1;33m**\u001b[0m\u001b[0mkwargs\u001b[0m\u001b[1;33m)\u001b[0m\u001b[1;33m\u001b[0m\u001b[1;33m\u001b[0m\u001b[0m\n\u001b[0m\u001b[0;32m    109\u001b[0m \u001b[1;33m\u001b[0m\u001b[0m\n\u001b[0;32m    110\u001b[0m     \u001b[1;31m# Running inside `run_distribute_coordinator` already.\u001b[0m\u001b[1;33m\u001b[0m\u001b[1;33m\u001b[0m\u001b[1;33m\u001b[0m\u001b[0m\n",
      "\u001b[1;32m~\\anaconda3\\envs\\poliastro\\lib\\site-packages\\tensorflow\\python\\keras\\engine\\training.py\u001b[0m in \u001b[0;36mfit\u001b[1;34m(self, x, y, batch_size, epochs, verbose, callbacks, validation_split, validation_data, shuffle, class_weight, sample_weight, initial_epoch, steps_per_epoch, validation_steps, validation_batch_size, validation_freq, max_queue_size, workers, use_multiprocessing)\u001b[0m\n\u001b[0;32m   1096\u001b[0m                 batch_size=batch_size):\n\u001b[0;32m   1097\u001b[0m               \u001b[0mcallbacks\u001b[0m\u001b[1;33m.\u001b[0m\u001b[0mon_train_batch_begin\u001b[0m\u001b[1;33m(\u001b[0m\u001b[0mstep\u001b[0m\u001b[1;33m)\u001b[0m\u001b[1;33m\u001b[0m\u001b[1;33m\u001b[0m\u001b[0m\n\u001b[1;32m-> 1098\u001b[1;33m               \u001b[0mtmp_logs\u001b[0m \u001b[1;33m=\u001b[0m \u001b[0mtrain_function\u001b[0m\u001b[1;33m(\u001b[0m\u001b[0miterator\u001b[0m\u001b[1;33m)\u001b[0m\u001b[1;33m\u001b[0m\u001b[1;33m\u001b[0m\u001b[0m\n\u001b[0m\u001b[0;32m   1099\u001b[0m               \u001b[1;32mif\u001b[0m \u001b[0mdata_handler\u001b[0m\u001b[1;33m.\u001b[0m\u001b[0mshould_sync\u001b[0m\u001b[1;33m:\u001b[0m\u001b[1;33m\u001b[0m\u001b[1;33m\u001b[0m\u001b[0m\n\u001b[0;32m   1100\u001b[0m                 \u001b[0mcontext\u001b[0m\u001b[1;33m.\u001b[0m\u001b[0masync_wait\u001b[0m\u001b[1;33m(\u001b[0m\u001b[1;33m)\u001b[0m\u001b[1;33m\u001b[0m\u001b[1;33m\u001b[0m\u001b[0m\n",
      "\u001b[1;32m~\\anaconda3\\envs\\poliastro\\lib\\site-packages\\tensorflow\\python\\eager\\def_function.py\u001b[0m in \u001b[0;36m__call__\u001b[1;34m(self, *args, **kwds)\u001b[0m\n\u001b[0;32m    778\u001b[0m       \u001b[1;32melse\u001b[0m\u001b[1;33m:\u001b[0m\u001b[1;33m\u001b[0m\u001b[1;33m\u001b[0m\u001b[0m\n\u001b[0;32m    779\u001b[0m         \u001b[0mcompiler\u001b[0m \u001b[1;33m=\u001b[0m \u001b[1;34m\"nonXla\"\u001b[0m\u001b[1;33m\u001b[0m\u001b[1;33m\u001b[0m\u001b[0m\n\u001b[1;32m--> 780\u001b[1;33m         \u001b[0mresult\u001b[0m \u001b[1;33m=\u001b[0m \u001b[0mself\u001b[0m\u001b[1;33m.\u001b[0m\u001b[0m_call\u001b[0m\u001b[1;33m(\u001b[0m\u001b[1;33m*\u001b[0m\u001b[0margs\u001b[0m\u001b[1;33m,\u001b[0m \u001b[1;33m**\u001b[0m\u001b[0mkwds\u001b[0m\u001b[1;33m)\u001b[0m\u001b[1;33m\u001b[0m\u001b[1;33m\u001b[0m\u001b[0m\n\u001b[0m\u001b[0;32m    781\u001b[0m \u001b[1;33m\u001b[0m\u001b[0m\n\u001b[0;32m    782\u001b[0m       \u001b[0mnew_tracing_count\u001b[0m \u001b[1;33m=\u001b[0m \u001b[0mself\u001b[0m\u001b[1;33m.\u001b[0m\u001b[0m_get_tracing_count\u001b[0m\u001b[1;33m(\u001b[0m\u001b[1;33m)\u001b[0m\u001b[1;33m\u001b[0m\u001b[1;33m\u001b[0m\u001b[0m\n",
      "\u001b[1;32m~\\anaconda3\\envs\\poliastro\\lib\\site-packages\\tensorflow\\python\\eager\\def_function.py\u001b[0m in \u001b[0;36m_call\u001b[1;34m(self, *args, **kwds)\u001b[0m\n\u001b[0;32m    805\u001b[0m       \u001b[1;31m# In this case we have created variables on the first call, so we run the\u001b[0m\u001b[1;33m\u001b[0m\u001b[1;33m\u001b[0m\u001b[1;33m\u001b[0m\u001b[0m\n\u001b[0;32m    806\u001b[0m       \u001b[1;31m# defunned version which is guaranteed to never create variables.\u001b[0m\u001b[1;33m\u001b[0m\u001b[1;33m\u001b[0m\u001b[1;33m\u001b[0m\u001b[0m\n\u001b[1;32m--> 807\u001b[1;33m       \u001b[1;32mreturn\u001b[0m \u001b[0mself\u001b[0m\u001b[1;33m.\u001b[0m\u001b[0m_stateless_fn\u001b[0m\u001b[1;33m(\u001b[0m\u001b[1;33m*\u001b[0m\u001b[0margs\u001b[0m\u001b[1;33m,\u001b[0m \u001b[1;33m**\u001b[0m\u001b[0mkwds\u001b[0m\u001b[1;33m)\u001b[0m  \u001b[1;31m# pylint: disable=not-callable\u001b[0m\u001b[1;33m\u001b[0m\u001b[1;33m\u001b[0m\u001b[0m\n\u001b[0m\u001b[0;32m    808\u001b[0m     \u001b[1;32melif\u001b[0m \u001b[0mself\u001b[0m\u001b[1;33m.\u001b[0m\u001b[0m_stateful_fn\u001b[0m \u001b[1;32mis\u001b[0m \u001b[1;32mnot\u001b[0m \u001b[1;32mNone\u001b[0m\u001b[1;33m:\u001b[0m\u001b[1;33m\u001b[0m\u001b[1;33m\u001b[0m\u001b[0m\n\u001b[0;32m    809\u001b[0m       \u001b[1;31m# Release the lock early so that multiple threads can perform the call\u001b[0m\u001b[1;33m\u001b[0m\u001b[1;33m\u001b[0m\u001b[1;33m\u001b[0m\u001b[0m\n",
      "\u001b[1;32m~\\anaconda3\\envs\\poliastro\\lib\\site-packages\\tensorflow\\python\\eager\\function.py\u001b[0m in \u001b[0;36m__call__\u001b[1;34m(self, *args, **kwargs)\u001b[0m\n\u001b[0;32m   2827\u001b[0m     \u001b[1;32mwith\u001b[0m \u001b[0mself\u001b[0m\u001b[1;33m.\u001b[0m\u001b[0m_lock\u001b[0m\u001b[1;33m:\u001b[0m\u001b[1;33m\u001b[0m\u001b[1;33m\u001b[0m\u001b[0m\n\u001b[0;32m   2828\u001b[0m       \u001b[0mgraph_function\u001b[0m\u001b[1;33m,\u001b[0m \u001b[0margs\u001b[0m\u001b[1;33m,\u001b[0m \u001b[0mkwargs\u001b[0m \u001b[1;33m=\u001b[0m \u001b[0mself\u001b[0m\u001b[1;33m.\u001b[0m\u001b[0m_maybe_define_function\u001b[0m\u001b[1;33m(\u001b[0m\u001b[0margs\u001b[0m\u001b[1;33m,\u001b[0m \u001b[0mkwargs\u001b[0m\u001b[1;33m)\u001b[0m\u001b[1;33m\u001b[0m\u001b[1;33m\u001b[0m\u001b[0m\n\u001b[1;32m-> 2829\u001b[1;33m     \u001b[1;32mreturn\u001b[0m \u001b[0mgraph_function\u001b[0m\u001b[1;33m.\u001b[0m\u001b[0m_filtered_call\u001b[0m\u001b[1;33m(\u001b[0m\u001b[0margs\u001b[0m\u001b[1;33m,\u001b[0m \u001b[0mkwargs\u001b[0m\u001b[1;33m)\u001b[0m  \u001b[1;31m# pylint: disable=protected-access\u001b[0m\u001b[1;33m\u001b[0m\u001b[1;33m\u001b[0m\u001b[0m\n\u001b[0m\u001b[0;32m   2830\u001b[0m \u001b[1;33m\u001b[0m\u001b[0m\n\u001b[0;32m   2831\u001b[0m   \u001b[1;33m@\u001b[0m\u001b[0mproperty\u001b[0m\u001b[1;33m\u001b[0m\u001b[1;33m\u001b[0m\u001b[0m\n",
      "\u001b[1;32m~\\anaconda3\\envs\\poliastro\\lib\\site-packages\\tensorflow\\python\\eager\\function.py\u001b[0m in \u001b[0;36m_filtered_call\u001b[1;34m(self, args, kwargs, cancellation_manager)\u001b[0m\n\u001b[0;32m   1846\u001b[0m                            resource_variable_ops.BaseResourceVariable))],\n\u001b[0;32m   1847\u001b[0m         \u001b[0mcaptured_inputs\u001b[0m\u001b[1;33m=\u001b[0m\u001b[0mself\u001b[0m\u001b[1;33m.\u001b[0m\u001b[0mcaptured_inputs\u001b[0m\u001b[1;33m,\u001b[0m\u001b[1;33m\u001b[0m\u001b[1;33m\u001b[0m\u001b[0m\n\u001b[1;32m-> 1848\u001b[1;33m         cancellation_manager=cancellation_manager)\n\u001b[0m\u001b[0;32m   1849\u001b[0m \u001b[1;33m\u001b[0m\u001b[0m\n\u001b[0;32m   1850\u001b[0m   \u001b[1;32mdef\u001b[0m \u001b[0m_call_flat\u001b[0m\u001b[1;33m(\u001b[0m\u001b[0mself\u001b[0m\u001b[1;33m,\u001b[0m \u001b[0margs\u001b[0m\u001b[1;33m,\u001b[0m \u001b[0mcaptured_inputs\u001b[0m\u001b[1;33m,\u001b[0m \u001b[0mcancellation_manager\u001b[0m\u001b[1;33m=\u001b[0m\u001b[1;32mNone\u001b[0m\u001b[1;33m)\u001b[0m\u001b[1;33m:\u001b[0m\u001b[1;33m\u001b[0m\u001b[1;33m\u001b[0m\u001b[0m\n",
      "\u001b[1;32m~\\anaconda3\\envs\\poliastro\\lib\\site-packages\\tensorflow\\python\\eager\\function.py\u001b[0m in \u001b[0;36m_call_flat\u001b[1;34m(self, args, captured_inputs, cancellation_manager)\u001b[0m\n\u001b[0;32m   1922\u001b[0m       \u001b[1;31m# No tape is watching; skip to running the function.\u001b[0m\u001b[1;33m\u001b[0m\u001b[1;33m\u001b[0m\u001b[1;33m\u001b[0m\u001b[0m\n\u001b[0;32m   1923\u001b[0m       return self._build_call_outputs(self._inference_function.call(\n\u001b[1;32m-> 1924\u001b[1;33m           ctx, args, cancellation_manager=cancellation_manager))\n\u001b[0m\u001b[0;32m   1925\u001b[0m     forward_backward = self._select_forward_and_backward_functions(\n\u001b[0;32m   1926\u001b[0m         \u001b[0margs\u001b[0m\u001b[1;33m,\u001b[0m\u001b[1;33m\u001b[0m\u001b[1;33m\u001b[0m\u001b[0m\n",
      "\u001b[1;32m~\\anaconda3\\envs\\poliastro\\lib\\site-packages\\tensorflow\\python\\eager\\function.py\u001b[0m in \u001b[0;36mcall\u001b[1;34m(self, ctx, args, cancellation_manager)\u001b[0m\n\u001b[0;32m    548\u001b[0m               \u001b[0minputs\u001b[0m\u001b[1;33m=\u001b[0m\u001b[0margs\u001b[0m\u001b[1;33m,\u001b[0m\u001b[1;33m\u001b[0m\u001b[1;33m\u001b[0m\u001b[0m\n\u001b[0;32m    549\u001b[0m               \u001b[0mattrs\u001b[0m\u001b[1;33m=\u001b[0m\u001b[0mattrs\u001b[0m\u001b[1;33m,\u001b[0m\u001b[1;33m\u001b[0m\u001b[1;33m\u001b[0m\u001b[0m\n\u001b[1;32m--> 550\u001b[1;33m               ctx=ctx)\n\u001b[0m\u001b[0;32m    551\u001b[0m         \u001b[1;32melse\u001b[0m\u001b[1;33m:\u001b[0m\u001b[1;33m\u001b[0m\u001b[1;33m\u001b[0m\u001b[0m\n\u001b[0;32m    552\u001b[0m           outputs = execute.execute_with_cancellation(\n",
      "\u001b[1;32m~\\anaconda3\\envs\\poliastro\\lib\\site-packages\\tensorflow\\python\\eager\\execute.py\u001b[0m in \u001b[0;36mquick_execute\u001b[1;34m(op_name, num_outputs, inputs, attrs, ctx, name)\u001b[0m\n\u001b[0;32m     58\u001b[0m     \u001b[0mctx\u001b[0m\u001b[1;33m.\u001b[0m\u001b[0mensure_initialized\u001b[0m\u001b[1;33m(\u001b[0m\u001b[1;33m)\u001b[0m\u001b[1;33m\u001b[0m\u001b[1;33m\u001b[0m\u001b[0m\n\u001b[0;32m     59\u001b[0m     tensors = pywrap_tfe.TFE_Py_Execute(ctx._handle, device_name, op_name,\n\u001b[1;32m---> 60\u001b[1;33m                                         inputs, attrs, num_outputs)\n\u001b[0m\u001b[0;32m     61\u001b[0m   \u001b[1;32mexcept\u001b[0m \u001b[0mcore\u001b[0m\u001b[1;33m.\u001b[0m\u001b[0m_NotOkStatusException\u001b[0m \u001b[1;32mas\u001b[0m \u001b[0me\u001b[0m\u001b[1;33m:\u001b[0m\u001b[1;33m\u001b[0m\u001b[1;33m\u001b[0m\u001b[0m\n\u001b[0;32m     62\u001b[0m     \u001b[1;32mif\u001b[0m \u001b[0mname\u001b[0m \u001b[1;32mis\u001b[0m \u001b[1;32mnot\u001b[0m \u001b[1;32mNone\u001b[0m\u001b[1;33m:\u001b[0m\u001b[1;33m\u001b[0m\u001b[1;33m\u001b[0m\u001b[0m\n",
      "\u001b[1;31mKeyboardInterrupt\u001b[0m: "
     ]
    }
   ],
   "source": [
    "from keras.models import Sequential\n",
    "from keras.layers import Dense, LSTM\n",
    "\n",
    "#Build the LSTM model\n",
    "# Note: replace LSTM with GRU or RNN if you want to try those\n",
    "model = Sequential()\n",
    "model.add(LSTM(128, return_sequences=True, input_shape= (x_train.shape[1], 1))) # input_shape = (60,1)\n",
    "model.add(LSTM(64, return_sequences=False))\n",
    "model.add(Dense(25))\n",
    "model.add(Dense(1))\n",
    "\n",
    "# Compile the model\n",
    "model.compile(optimizer='adam', loss='mean_squared_error')\n",
    "\n",
    "# Train the model\n",
    "history=model.fit(x_train, y_train, batch_size=16, epochs=10)\n",
    "\n",
    "# Plot Training Loss\n",
    "plt.plot(history.history['loss']) # add validation loss\n",
    "plt.title('model loss')\n",
    "plt.ylabel('period')\n",
    "plt.xlabel('epoch')\n",
    "plt.legend(['training'], loc='upper right')\n",
    "plt.show()"
   ]
  },
  {
   "cell_type": "code",
   "execution_count": null,
   "id": "found-transmission",
   "metadata": {},
   "outputs": [],
   "source": [
    "# Get the models predicted price values \n",
    "predictions = model.predict(x_test)\n",
    "predictions = scaler.inverse_transform(predictions)\n",
    "\n",
    "# Get the root mean squared error (RMSE)\n",
    "rmse = np.sqrt(np.mean(((predictions - y_test) ** 2)))\n",
    "rmse"
   ]
  },
  {
   "cell_type": "code",
   "execution_count": null,
   "id": "german-tournament",
   "metadata": {},
   "outputs": [],
   "source": [
    "# Plot the data\n",
    "train = data[:training_data_len]\n",
    "valid = data[training_data_len:]\n",
    "valid['Predictions'] = predictions\n",
    "# Visualize the data\n",
    "plt.figure(figsize=(16,8))\n",
    "plt.title('Model')\n",
    "plt.xlabel('Date', fontsize=18)\n",
    "plt.ylabel('X-Coord', fontsize=18)\n",
    "plt.plot(train['x'])\n",
    "plt.plot(valid[['x', 'Predictions']])\n",
    "plt.legend(['Train', 'Val', 'Predictions'], loc='lower right')\n",
    "plt.show()"
   ]
  },
  {
   "cell_type": "markdown",
   "id": "checked-civilization",
   "metadata": {},
   "source": [
    "## Error plot:"
   ]
  },
  {
   "cell_type": "code",
   "execution_count": null,
   "id": "stainless-funds",
   "metadata": {},
   "outputs": [],
   "source": [
    "valid['Error']=abs(valid.Predictions-valid.x)/6738 # the normalization ct is taken as ISS semi-major axis\n",
    "valid.Error.plot()\n",
    "# add labels and units!!!"
   ]
  },
  {
   "cell_type": "markdown",
   "id": "included-allen",
   "metadata": {},
   "source": [
    "## Model 2: Multi-Variate"
   ]
  },
  {
   "cell_type": "code",
   "execution_count": 24,
   "id": "applicable-collective",
   "metadata": {},
   "outputs": [
    {
     "data": {
      "text/html": [
       "<div>\n",
       "<style scoped>\n",
       "    .dataframe tbody tr th:only-of-type {\n",
       "        vertical-align: middle;\n",
       "    }\n",
       "\n",
       "    .dataframe tbody tr th {\n",
       "        vertical-align: top;\n",
       "    }\n",
       "\n",
       "    .dataframe thead th {\n",
       "        text-align: right;\n",
       "    }\n",
       "</style>\n",
       "<table border=\"1\" class=\"dataframe\">\n",
       "  <thead>\n",
       "    <tr style=\"text-align: right;\">\n",
       "      <th></th>\n",
       "      <th>x</th>\n",
       "      <th>y</th>\n",
       "      <th>z</th>\n",
       "      <th>x_vv</th>\n",
       "      <th>y_vv</th>\n",
       "      <th>z_vv</th>\n",
       "    </tr>\n",
       "  </thead>\n",
       "  <tbody>\n",
       "    <tr>\n",
       "      <th>0</th>\n",
       "      <td>42159.783600</td>\n",
       "      <td>0.000000</td>\n",
       "      <td>0.000000</td>\n",
       "      <td>0.000000</td>\n",
       "      <td>3.074505</td>\n",
       "      <td>0.053666</td>\n",
       "    </tr>\n",
       "    <tr>\n",
       "      <th>1</th>\n",
       "      <td>39159.545914</td>\n",
       "      <td>15563.916303</td>\n",
       "      <td>266.913399</td>\n",
       "      <td>-1.142984</td>\n",
       "      <td>2.852848</td>\n",
       "      <td>0.048528</td>\n",
       "    </tr>\n",
       "    <tr>\n",
       "      <th>2</th>\n",
       "      <td>30572.229294</td>\n",
       "      <td>28909.053086</td>\n",
       "      <td>496.928223</td>\n",
       "      <td>-2.127756</td>\n",
       "      <td>2.228986</td>\n",
       "      <td>0.039518</td>\n",
       "    </tr>\n",
       "    <tr>\n",
       "      <th>3</th>\n",
       "      <td>17596.068412</td>\n",
       "      <td>38144.740319</td>\n",
       "      <td>671.356184</td>\n",
       "      <td>-2.813645</td>\n",
       "      <td>1.287415</td>\n",
       "      <td>0.027234</td>\n",
       "    </tr>\n",
       "    <tr>\n",
       "      <th>4</th>\n",
       "      <td>2068.446366</td>\n",
       "      <td>41949.706443</td>\n",
       "      <td>775.646554</td>\n",
       "      <td>-3.098444</td>\n",
       "      <td>0.161675</td>\n",
       "      <td>0.012698</td>\n",
       "    </tr>\n",
       "    <tr>\n",
       "      <th>...</th>\n",
       "      <td>...</td>\n",
       "      <td>...</td>\n",
       "      <td>...</td>\n",
       "      <td>...</td>\n",
       "      <td>...</td>\n",
       "      <td>...</td>\n",
       "    </tr>\n",
       "    <tr>\n",
       "      <th>995</th>\n",
       "      <td>38132.961517</td>\n",
       "      <td>21370.880108</td>\n",
       "      <td>-7532.333000</td>\n",
       "      <td>-0.876644</td>\n",
       "      <td>2.199413</td>\n",
       "      <td>1.750026</td>\n",
       "    </tr>\n",
       "    <tr>\n",
       "      <th>996</th>\n",
       "      <td>31399.515894</td>\n",
       "      <td>31233.289707</td>\n",
       "      <td>1828.575655</td>\n",
       "      <td>-1.692745</td>\n",
       "      <td>1.562118</td>\n",
       "      <td>1.820311</td>\n",
       "    </tr>\n",
       "    <tr>\n",
       "      <th>997</th>\n",
       "      <td>20906.077447</td>\n",
       "      <td>37238.565267</td>\n",
       "      <td>10967.804062</td>\n",
       "      <td>-2.312211</td>\n",
       "      <td>0.726117</td>\n",
       "      <td>1.664753</td>\n",
       "    </tr>\n",
       "    <tr>\n",
       "      <th>998</th>\n",
       "      <td>7871.245318</td>\n",
       "      <td>38575.122415</td>\n",
       "      <td>18731.818721</td>\n",
       "      <td>-2.661184</td>\n",
       "      <td>-0.221639</td>\n",
       "      <td>1.293445</td>\n",
       "    </tr>\n",
       "    <tr>\n",
       "      <th>999</th>\n",
       "      <td>-6142.526530</td>\n",
       "      <td>34919.272230</td>\n",
       "      <td>24066.202237</td>\n",
       "      <td>-2.681132</td>\n",
       "      <td>-1.179765</td>\n",
       "      <td>0.734721</td>\n",
       "    </tr>\n",
       "  </tbody>\n",
       "</table>\n",
       "<p>1000 rows × 6 columns</p>\n",
       "</div>"
      ],
      "text/plain": [
       "                x             y             z      x_vv      y_vv      z_vv\n",
       "0    42159.783600      0.000000      0.000000  0.000000  3.074505  0.053666\n",
       "1    39159.545914  15563.916303    266.913399 -1.142984  2.852848  0.048528\n",
       "2    30572.229294  28909.053086    496.928223 -2.127756  2.228986  0.039518\n",
       "3    17596.068412  38144.740319    671.356184 -2.813645  1.287415  0.027234\n",
       "4     2068.446366  41949.706443    775.646554 -3.098444  0.161675  0.012698\n",
       "..            ...           ...           ...       ...       ...       ...\n",
       "995  38132.961517  21370.880108  -7532.333000 -0.876644  2.199413  1.750026\n",
       "996  31399.515894  31233.289707   1828.575655 -1.692745  1.562118  1.820311\n",
       "997  20906.077447  37238.565267  10967.804062 -2.312211  0.726117  1.664753\n",
       "998   7871.245318  38575.122415  18731.818721 -2.661184 -0.221639  1.293445\n",
       "999  -6142.526530  34919.272230  24066.202237 -2.681132 -1.179765  0.734721\n",
       "\n",
       "[1000 rows x 6 columns]"
      ]
     },
     "execution_count": 24,
     "metadata": {},
     "output_type": "execute_result"
    }
   ],
   "source": [
    "import pandas as pd\n",
    "import numpy as np\n",
    "import matplotlib.pyplot as plt\n",
    "#import seaborn as sns\n",
    "#sns.set_style('whitegrid')\n",
    "plt.style.use(\"fivethirtyeight\")\n",
    "%matplotlib inline\n",
    "from sklearn.preprocessing import MinMaxScaler\n",
    "from keras.models import Sequential\n",
    "from keras.layers import Dense, LSTM\n",
    "\n",
    "df = pd.read_csv('Dataframes/3rdBodyPerturbationPoliastro.csv')\n",
    "df_v = pd.read_csv('Dataframes/3rdBodyPerturbationPoliastro_vv.csv')\n",
    "\n",
    "df['x_vv']=df_v.vv_x\n",
    "df['y_vv']=df_v.vv_y\n",
    "df['z_vv']=df_v.vv_z\n",
    "\n",
    "df"
   ]
  },
  {
   "cell_type": "code",
   "execution_count": 9,
   "id": "indie-publication",
   "metadata": {},
   "outputs": [],
   "source": [
    "# convert an array of values into a dataset matrix\n",
    "\n",
    "def create_dataset(dataset, look_back):\n",
    "    dataX = []\n",
    "    dataY = []\n",
    "    for i in range(len(dataset) - look_back -1):\n",
    "        a = dataset[i:(i + look_back), :]\n",
    "        dataX.append(a)\n",
    "        dataY.append(dataset[i + look_back, 2])\n",
    "    return np.array(dataX), np.array(dataY)"
   ]
  },
  {
   "cell_type": "code",
   "execution_count": 10,
   "id": "racial-boring",
   "metadata": {},
   "outputs": [],
   "source": [
    "# load the dataset\n",
    "dataset = df.values\n",
    "\n",
    "# normalize the dataset\n",
    "scaler = MinMaxScaler()\n",
    "dataset = scaler.fit_transform(dataset)"
   ]
  },
  {
   "cell_type": "code",
   "execution_count": 11,
   "id": "approximate-utilization",
   "metadata": {},
   "outputs": [],
   "source": [
    "# split into train and test sets\n",
    "train_size = int(len(dataset) * 0.8) \n",
    "test_size = len(dataset) - train_size\n",
    "train, test = dataset[0:train_size, :], dataset[train_size:len(dataset), :]\n",
    "\n",
    "# reshape into X=t and Y=t+1\n",
    "look_back = 60\n",
    "trainX, trainY = create_dataset(train, look_back)  \n",
    "testX, testY = create_dataset(test, look_back)\n",
    "\n",
    "# reshape input to be  [length of train/test data, window size (def=60), features]\n",
    "trainX = np.reshape(trainX, (trainX.shape[0], look_back, 6))\n",
    "testX = np.reshape(testX, (testX.shape[0],look_back, 6))"
   ]
  },
  {
   "cell_type": "code",
   "execution_count": 12,
   "id": "secret-example",
   "metadata": {},
   "outputs": [
    {
     "data": {
      "text/plain": [
       "(739, 60, 6)"
      ]
     },
     "execution_count": 12,
     "metadata": {},
     "output_type": "execute_result"
    }
   ],
   "source": [
    "trainX.shape"
   ]
  },
  {
   "cell_type": "code",
   "execution_count": 34,
   "id": "equivalent-secondary",
   "metadata": {},
   "outputs": [
    {
     "name": "stdout",
     "output_type": "stream",
     "text": [
      "[[1.         0.51268296 0.51384449 0.50642219 0.97543823 0.5308229 ]\n",
      " [0.96495741 0.68978874 0.51906179 0.32405106 0.94073231 0.52945835]\n",
      " [0.86465808 0.84164646 0.52355785 0.16692372 0.84305165 0.52706564]\n",
      " [0.71309733 0.94674171 0.52696736 0.05748543 0.69562577 0.5238032 ]\n",
      " [0.53173566 0.99003939 0.5290059  0.01204375 0.51936392 0.51994289]\n",
      " [0.34651968 0.96549699 0.52951684 0.0373734  0.34043631 0.51587671]\n",
      " [0.18377842 0.8772233  0.5285067  0.1285896  0.1855856  0.51205093]\n",
      " [0.06588722 0.73863033 0.52614518 0.27025402 0.07653767 0.50885445]\n",
      " [0.00799281 0.56973581 0.52272405 0.44059861 0.0262484  0.50652769]\n",
      " [0.01656767 0.39367318 0.51859402 0.61644663 0.03846296 0.50514181]\n",
      " [0.08955821 0.23352883 0.51410738 0.7764203  0.10957296 0.50464551]\n",
      " [0.21731751 0.10997278 0.50958579 0.90194669 0.23062062 0.50494354]\n",
      " [0.38368148 0.03942669 0.50531849 0.977321   0.38803569 0.50597231]\n",
      " [0.56718212 0.03226843 0.50158463 0.99062129 0.56323966 0.5077463 ]\n",
      " [0.74295892 0.09091244 0.49868316 0.93651854 0.73277871 0.5103468 ]\n",
      " [0.88596776 0.20839763 0.49694383 0.8198945  0.87113414 0.5138324 ]\n",
      " [0.97522611 0.36861856 0.49669282 0.65708569 0.95639186 0.51810513]\n",
      " [0.99768431 0.54878212 0.49817398 0.4726714  0.97566066 0.52282588]\n",
      " [0.95029358 0.72329815 0.50145789 0.29377395 0.92698713 0.52743982]\n",
      " [0.84001636 0.86772688 0.50637809 0.14540051 0.81807706 0.5312805 ]\n",
      " [0.68247793 0.96203062 0.51251219 0.04782723 0.66427015 0.53369568]\n",
      " [0.49980755 0.99314025 0.51921184 0.01468196 0.48691332 0.53417571]\n",
      " [0.31769906 0.95686114 0.52568142 0.05072453 0.31126555 0.53247861]\n",
      " [0.16167278 0.85870818 0.53109873 0.15014481 0.16278533 0.52871411]\n",
      " [0.05308586 0.71306665 0.5347503  0.29719316 0.06226284 0.52333001]\n",
      " [0.00595372 0.54064152 0.53614011 0.46975901 0.02198576 0.51698997]\n",
      " [0.02546109 0.36497073 0.53504047 0.6442153  0.04480393 0.51041074]\n",
      " [0.10813988 0.20912641 0.53148845 0.79906524 0.12579079 0.50425032]\n",
      " [0.24301494 0.09322898 0.52575667 0.91633487 0.25455062 0.49908853]\n",
      " [0.41295813 0.03266629 0.51833107 0.98159522 0.41646116 0.49547184]\n",
      " [0.59608049 0.03650997 0.50990731 0.98440316 0.59255824 0.49395416]\n",
      " [0.76761126 0.10582141 0.50138872 0.92057876 0.75945128 0.49505028]\n",
      " [0.90295758 0.23231585 0.49384088 0.79583451 0.89164641 0.49905428]\n",
      " [0.98194243 0.39856134 0.48835975 0.62762999 0.96729228 0.50579689]\n",
      " [0.99283942 0.58060354 0.48586762 0.44209302 0.9744661  0.51453893]\n",
      " [0.93445283 0.75231683 0.48691393 0.26733969 0.91353184 0.52410896]\n",
      " [0.81568654 0.88973724 0.49156027 0.1277762  0.79501583 0.5331655 ]\n",
      " [0.65357007 0.97423978 0.49935972 0.04154611 0.63619512 0.54041821]\n",
      " [0.47069303 0.99459436 0.5094073  0.0196679  0.4587085  0.54478137]\n",
      " [0.29232301 0.94827701 0.5204455  0.06499953 0.28674241 0.54552117]\n",
      " [0.1430616  0.84196049 0.5310289  0.17103246 0.14431203 0.54241108]\n",
      " [0.04324697 0.69072372 0.5397387  0.32206907 0.05125108 0.53582009]\n",
      " [0.0059099  0.51571165 0.54540241 0.49599026 0.01941265 0.5266433 ]\n",
      " [0.03517262 0.34074929 0.54725656 0.6688169  0.05114501 0.51608323]\n",
      " [0.12636918 0.18891563 0.54501552 0.81876602 0.14052342 0.50540521]\n",
      " [0.26731941 0.0798868  0.53886358 0.92820764 0.27582814 0.49579109]\n",
      " [0.43997815 0.02813023 0.52941552 0.98384724 0.4413293  0.48831753]\n",
      " [0.62206839 0.0414964  0.51768182 0.97680836 0.61763207 0.48398114]\n",
      " [0.78900726 0.11979971 0.50503199 0.90427495 0.78156886 0.48364285]\n",
      " [0.91681136 0.2536346  0.49310408 0.77280777 0.90801214 0.48779444]\n",
      " [0.98618743 0.42455734 0.48359877 0.60060756 0.97532689 0.49621944]\n",
      " [0.98664459 0.60773701 0.47796763 0.41486564 0.972262   0.50783635]\n",
      " [0.91859847 0.77663555 0.4771162  0.24448054 0.90099737 0.52093467]\n",
      " [0.79264352 0.90771502 0.48124852 0.11332818 0.77450147 0.53362574]\n",
      " [0.62700685 0.98361006 0.48987127 0.03760147 0.61181984 0.54418523]\n",
      " [0.44460536 0.99474243 0.50189055 0.02587418 0.43484315 0.55120908]\n",
      " [0.27019796 0.94006085 0.51575236 0.07921616 0.26666769 0.55371054]\n",
      " [0.12742846 0.82718717 0.52962683 0.19055982 0.1298001  0.55125832]\n",
      " [0.03565523 0.67165726 0.54164913 0.34452118 0.04309125 0.54411747]\n",
      " [0.00707249 0.49485043 0.55019395 0.5192794  0.01814205 0.53326341]]\n"
     ]
    }
   ],
   "source": [
    "print(trainX[0]) # (60 x 6 dimensions)"
   ]
  },
  {
   "cell_type": "code",
   "execution_count": 13,
   "id": "engaging-sterling",
   "metadata": {},
   "outputs": [
    {
     "data": {
      "text/plain": [
       "(139, 60, 6)"
      ]
     },
     "execution_count": 13,
     "metadata": {},
     "output_type": "execute_result"
    }
   ],
   "source": [
    "testX.shape"
   ]
  },
  {
   "cell_type": "code",
   "execution_count": 14,
   "id": "twenty-confidence",
   "metadata": {},
   "outputs": [
    {
     "name": "stdout",
     "output_type": "stream",
     "text": [
      "Epoch 1/10\n",
      "47/47 [==============================] - 8s 179ms/step - loss: 0.0249\n",
      "Epoch 2/10\n",
      "47/47 [==============================] - 4s 78ms/step - loss: 0.0053\n",
      "Epoch 3/10\n",
      "47/47 [==============================] - 3s 64ms/step - loss: 0.0023\n",
      "Epoch 4/10\n",
      "47/47 [==============================] - 3s 72ms/step - loss: 3.1728e-04\n",
      "Epoch 5/10\n",
      "47/47 [==============================] - 4s 78ms/step - loss: 1.6537e-04\n",
      "Epoch 6/10\n",
      "47/47 [==============================] - 3s 66ms/step - loss: 1.1716e-04\n",
      "Epoch 7/10\n",
      "47/47 [==============================] - 3s 55ms/step - loss: 1.0198e-04\n",
      "Epoch 8/10\n",
      "47/47 [==============================] - 3s 54ms/step - loss: 1.2805e-04\n",
      "Epoch 9/10\n",
      "47/47 [==============================] - 3s 58ms/step - loss: 1.0448e-04\n",
      "Epoch 10/10\n",
      "47/47 [==============================] - 3s 62ms/step - loss: 9.5609e-05\n"
     ]
    },
    {
     "data": {
      "image/png": "[encoded data removed]",
      "text/plain": [
       "<Figure size 432x288 with 1 Axes>"
      ]
     },
     "metadata": {
      "needs_background": "light"
     },
     "output_type": "display_data"
    }
   ],
   "source": [
    "from keras.models import Sequential\n",
    "from keras.layers import Dense, LSTM\n",
    "\n",
    "# Build the LSTM model\n",
    "# Note: replace LSTM with GRU or RNN if you want to try those\n",
    "model = Sequential()\n",
    "model.add(LSTM(128, return_sequences=True, input_shape= (look_back, 6)))\n",
    "model.add(LSTM(64, return_sequences=False))\n",
    "model.add(Dense(25))\n",
    "model.add(Dense(1))\n",
    "\n",
    "# Compile the model\n",
    "model.compile(optimizer='adam', loss='mean_squared_error')\n",
    "\n",
    "# Train the model\n",
    "history=model.fit(trainX, trainY, batch_size=16, epochs=10)\n",
    "\n",
    "# Plot Training Loss\n",
    "plt.plot(history.history['loss']) # add validation loss\n",
    "plt.title('model loss')\n",
    "plt.ylabel('period')\n",
    "plt.xlabel('epoch')\n",
    "plt.legend(['training'], loc='upper right')\n",
    "plt.show()"
   ]
  },
  {
   "cell_type": "code",
   "execution_count": 15,
   "id": "nominated-canvas",
   "metadata": {},
   "outputs": [],
   "source": [
    "# Get the models predicted price values \n",
    "predictions = model.predict(testX)\n",
    "#predictions = scaler.inverse_transform(predictions)\n",
    "\n",
    "# Get something which has as many features as dataset\n",
    "predict_ext = np.zeros((len(predictions), 6))\n",
    "# Put the predictions there\n",
    "predict_ext[:,2] = predictions[:,0]\n",
    "# Inverse transform it and select the 3rd column.\n",
    "predictions = scaler.inverse_transform(predict_ext)[:,2]\n",
    "\n",
    "testY_extended = np.zeros((len(testY),6))\n",
    "testY_extended[:,2]=testY\n",
    "testY=scaler.inverse_transform(testY_extended)[:,2]"
   ]
  },
  {
   "cell_type": "code",
   "execution_count": 16,
   "id": "massive-simpson",
   "metadata": {},
   "outputs": [
    {
     "data": {
      "text/plain": [
       "922.6374605257187"
      ]
     },
     "execution_count": 16,
     "metadata": {},
     "output_type": "execute_result"
    }
   ],
   "source": [
    "# RMSE\n",
    "rmse = np.sqrt(np.mean(((predictions - testY) ** 2)))\n",
    "rmse"
   ]
  },
  {
   "cell_type": "code",
   "execution_count": 17,
   "id": "present-struggle",
   "metadata": {},
   "outputs": [
    {
     "data": {
      "text/html": [
       "<div>\n",
       "<style scoped>\n",
       "    .dataframe tbody tr th:only-of-type {\n",
       "        vertical-align: middle;\n",
       "    }\n",
       "\n",
       "    .dataframe tbody tr th {\n",
       "        vertical-align: top;\n",
       "    }\n",
       "\n",
       "    .dataframe thead th {\n",
       "        text-align: right;\n",
       "    }\n",
       "</style>\n",
       "<table border=\"1\" class=\"dataframe\">\n",
       "  <thead>\n",
       "    <tr style=\"text-align: right;\">\n",
       "      <th></th>\n",
       "      <th>x</th>\n",
       "      <th>y</th>\n",
       "      <th>z</th>\n",
       "      <th>x_vv</th>\n",
       "      <th>y_vv</th>\n",
       "      <th>z_vv</th>\n",
       "    </tr>\n",
       "  </thead>\n",
       "  <tbody>\n",
       "    <tr>\n",
       "      <th>800</th>\n",
       "      <td>-38640.279625</td>\n",
       "      <td>-2764.935183</td>\n",
       "      <td>17604.980941</td>\n",
       "      <td>-0.242379</td>\n",
       "      <td>-2.869481</td>\n",
       "      <td>-1.032661</td>\n",
       "    </tr>\n",
       "    <tr>\n",
       "      <th>801</th>\n",
       "      <td>-37222.004154</td>\n",
       "      <td>-17134.306183</td>\n",
       "      <td>11135.984105</td>\n",
       "      <td>0.783117</td>\n",
       "      <td>-2.603604</td>\n",
       "      <td>-1.431914</td>\n",
       "    </tr>\n",
       "    <tr>\n",
       "      <th>802</th>\n",
       "      <td>-30699.416577</td>\n",
       "      <td>-29154.049729</td>\n",
       "      <td>3087.546466</td>\n",
       "      <td>1.701144</td>\n",
       "      <td>-1.974296</td>\n",
       "      <td>-1.633559</td>\n",
       "    </tr>\n",
       "    <tr>\n",
       "      <th>803</th>\n",
       "      <td>-19981.800403</td>\n",
       "      <td>-37148.488205</td>\n",
       "      <td>-5420.909441</td>\n",
       "      <td>2.380643</td>\n",
       "      <td>-1.071344</td>\n",
       "      <td>-1.607049</td>\n",
       "    </tr>\n",
       "    <tr>\n",
       "      <th>804</th>\n",
       "      <td>-6568.003292</td>\n",
       "      <td>-40025.406603</td>\n",
       "      <td>-13203.492438</td>\n",
       "      <td>2.729043</td>\n",
       "      <td>-0.025797</td>\n",
       "      <td>-1.357603</td>\n",
       "    </tr>\n",
       "    <tr>\n",
       "      <th>...</th>\n",
       "      <td>...</td>\n",
       "      <td>...</td>\n",
       "      <td>...</td>\n",
       "      <td>...</td>\n",
       "      <td>...</td>\n",
       "      <td>...</td>\n",
       "    </tr>\n",
       "    <tr>\n",
       "      <th>995</th>\n",
       "      <td>38132.961517</td>\n",
       "      <td>21370.880108</td>\n",
       "      <td>-7532.333000</td>\n",
       "      <td>-0.876644</td>\n",
       "      <td>2.199413</td>\n",
       "      <td>1.750026</td>\n",
       "    </tr>\n",
       "    <tr>\n",
       "      <th>996</th>\n",
       "      <td>31399.515894</td>\n",
       "      <td>31233.289707</td>\n",
       "      <td>1828.575655</td>\n",
       "      <td>-1.692745</td>\n",
       "      <td>1.562118</td>\n",
       "      <td>1.820311</td>\n",
       "    </tr>\n",
       "    <tr>\n",
       "      <th>997</th>\n",
       "      <td>20906.077447</td>\n",
       "      <td>37238.565267</td>\n",
       "      <td>10967.804062</td>\n",
       "      <td>-2.312211</td>\n",
       "      <td>0.726117</td>\n",
       "      <td>1.664753</td>\n",
       "    </tr>\n",
       "    <tr>\n",
       "      <th>998</th>\n",
       "      <td>7871.245318</td>\n",
       "      <td>38575.122415</td>\n",
       "      <td>18731.818721</td>\n",
       "      <td>-2.661184</td>\n",
       "      <td>-0.221639</td>\n",
       "      <td>1.293445</td>\n",
       "    </tr>\n",
       "    <tr>\n",
       "      <th>999</th>\n",
       "      <td>-6142.526530</td>\n",
       "      <td>34919.272230</td>\n",
       "      <td>24066.202237</td>\n",
       "      <td>-2.681132</td>\n",
       "      <td>-1.179765</td>\n",
       "      <td>0.734721</td>\n",
       "    </tr>\n",
       "  </tbody>\n",
       "</table>\n",
       "<p>200 rows × 6 columns</p>\n",
       "</div>"
      ],
      "text/plain": [
       "                x             y             z      x_vv      y_vv      z_vv\n",
       "800 -38640.279625  -2764.935183  17604.980941 -0.242379 -2.869481 -1.032661\n",
       "801 -37222.004154 -17134.306183  11135.984105  0.783117 -2.603604 -1.431914\n",
       "802 -30699.416577 -29154.049729   3087.546466  1.701144 -1.974296 -1.633559\n",
       "803 -19981.800403 -37148.488205  -5420.909441  2.380643 -1.071344 -1.607049\n",
       "804  -6568.003292 -40025.406603 -13203.492438  2.729043 -0.025797 -1.357603\n",
       "..            ...           ...           ...       ...       ...       ...\n",
       "995  38132.961517  21370.880108  -7532.333000 -0.876644  2.199413  1.750026\n",
       "996  31399.515894  31233.289707   1828.575655 -1.692745  1.562118  1.820311\n",
       "997  20906.077447  37238.565267  10967.804062 -2.312211  0.726117  1.664753\n",
       "998   7871.245318  38575.122415  18731.818721 -2.661184 -0.221639  1.293445\n",
       "999  -6142.526530  34919.272230  24066.202237 -2.681132 -1.179765  0.734721\n",
       "\n",
       "[200 rows x 6 columns]"
      ]
     },
     "execution_count": 17,
     "metadata": {},
     "output_type": "execute_result"
    }
   ],
   "source": [
    "# Plot the data\n",
    "train = df[:train_size]\n",
    "test = df[train_size:]\n",
    "test"
   ]
  },
  {
   "cell_type": "code",
   "execution_count": 18,
   "id": "abandoned-backup",
   "metadata": {},
   "outputs": [],
   "source": [
    "dataa = {'testY': testY, 'predictions': predictions}\n",
    "dff = pd.DataFrame.from_dict(dataa)"
   ]
  },
  {
   "cell_type": "code",
   "execution_count": 23,
   "id": "primary-combination",
   "metadata": {},
   "outputs": [
    {
     "data": {
      "text/plain": [
       "array([-11793.50028658,  -3221.14205141,   6006.85856377,  14640.47629883,\n",
       "        21388.0777961 ,  25170.82256535,  25380.32978058,  22007.738091  ,\n",
       "        15596.84047984,   7094.74031519,  -2298.89071669, -11269.61332466,\n",
       "       -18568.8887966 , -23230.91794566, -24719.30984475, -22938.18500613,\n",
       "       -18161.00594255, -10961.09591345,  -2176.47691874,   7112.44777012,\n",
       "        15646.27315626,  22145.97333374,  25567.31465   ,  25353.48348589,\n",
       "        21555.0743123 ,  14774.10095576,   6009.89264637,  -3494.73244543,\n",
       "       -12400.81537202, -19468.01401831, -23773.31757601, -24841.5310585 ,\n",
       "       -22638.49006676, -17492.77135742, -10025.33605016,  -1111.74262564,\n",
       "         8146.4326271 ,  16491.65395   ,  22671.98262882,  25690.31849315,\n",
       "        25046.68437172,  20848.52338051,  13749.74892987,   4795.95772254,\n",
       "        -4732.70828103, -13481.85290394, -20232.12447013, -24114.94422302,\n",
       "       -24722.35841167, -22083.03568615, -16580.05527525,  -8881.69883813,\n",
       "           99.09113034,   9241.85232042,  17298.35705157,  23057.46663488,\n",
       "        25585.58013219,  24452.38839749,  19828.41602093,  12421.04335185,\n",
       "         3322.24434153,  -6152.67266008, -14642.54272746, -20964.57144938,\n",
       "       -24320.85418265, -24381.91376091, -21245.19092848, -15351.72446805,\n",
       "        -7420.6355995 ,   1593.66192341,  10549.27358029,  18210.55779709,\n",
       "        23419.45250977,  25325.45405146,  23588.36400474,  18457.20584255,\n",
       "        10702.9048864 ,   1470.59709366,  -7887.6983109 , -16012.66810696,\n",
       "       -21776.36159447, -24471.698783  , -23863.0317012 , -20126.59557055,\n",
       "       -13768.58209535,  -5565.96646635,   3477.6747519 ,  12192.77056444,\n",
       "        19356.3463109 ,  23874.26301626,  25000.15770607,  22508.925846  ,\n",
       "        16749.70648684,   8573.28383373,   -810.27526365, -10008.39550153,\n",
       "       -17672.82662612, -22750.16679526, -24644.79452945, -23230.70773252,\n",
       "       -18774.25959671, -11855.99324016,  -3319.82901849,   5771.97483054,\n",
       "        14214.54598964,  20796.72442459,  24498.12528686,  24696.27679998,\n",
       "        21304.84330498,  14794.3942419 ,   6112.36840504,  -3454.10623187,\n",
       "       -12468.89774611, -19605.03334102, -23901.20625404, -24888.5830664 ,\n",
       "       -22561.42741803, -17284.66759597,  -9721.39720682,   -791.07363738,\n",
       "         8376.81555036,  16536.13146639,  22488.09282859,  25294.8570818 ,\n",
       "        24472.54751314,  20089.33187793,  12750.09952021,   3508.68033168,\n",
       "        -6264.64860402, -15091.89569693, -21677.35864064, -25161.73578638,\n",
       "       -25206.56912138, -21926.75718108, -15787.57653228,  -7538.89926034,\n",
       "         1818.94636816,  11084.52539231,  18968.79790894])"
      ]
     },
     "execution_count": 23,
     "metadata": {},
     "output_type": "execute_result"
    }
   ],
   "source": [
    "predictions"
   ]
  },
  {
   "cell_type": "code",
   "execution_count": 19,
   "id": "curious-invention",
   "metadata": {},
   "outputs": [
    {
     "data": {
      "image/png": "[encoded data removed]",
      "text/plain": [
       "<Figure size 1152x576 with 1 Axes>"
      ]
     },
     "metadata": {
      "needs_background": "light"
     },
     "output_type": "display_data"
    }
   ],
   "source": [
    "plt.figure(figsize=(16,8))\n",
    "plt.title('Testing data')\n",
    "plt.xlabel('Date', fontsize=18)\n",
    "plt.ylabel('X-Coord', fontsize=18)\n",
    "plt.plot(dff.testY)\n",
    "plt.plot(dff.predictions)\n",
    "plt.legend(['TestY', 'Predictions'], loc='lower right')\n",
    "plt.show()"
   ]
  },
  {
   "cell_type": "raw",
   "id": "frozen-serve",
   "metadata": {},
   "source": [
    "test['Predictions'] = predictions\n",
    "# Visualize the data\n",
    "plt.figure(figsize=(16,8))\n",
    "plt.title('Model')\n",
    "plt.xlabel('Date', fontsize=18)\n",
    "plt.ylabel('X-Coord', fontsize=18)\n",
    "plt.plot(train['x'])\n",
    "plt.plot(valid[['x', 'Predictions']])\n",
    "plt.legend(['Train', 'Val', 'Predictions'], loc='lower right')\n",
    "plt.show()"
   ]
  },
  {
   "cell_type": "code",
   "execution_count": 20,
   "id": "hidden-kentucky",
   "metadata": {},
   "outputs": [
    {
     "data": {
      "text/plain": [
       "array([-11793.50028658,  -3221.14205141,   6006.85856377,  14640.47629883,\n",
       "        21388.0777961 ,  25170.82256535,  25380.32978058,  22007.738091  ,\n",
       "        15596.84047984,   7094.74031519,  -2298.89071669, -11269.61332466,\n",
       "       -18568.8887966 , -23230.91794566, -24719.30984475, -22938.18500613,\n",
       "       -18161.00594255, -10961.09591345,  -2176.47691874,   7112.44777012,\n",
       "        15646.27315626,  22145.97333374,  25567.31465   ,  25353.48348589,\n",
       "        21555.0743123 ,  14774.10095576,   6009.89264637,  -3494.73244543,\n",
       "       -12400.81537202, -19468.01401831, -23773.31757601, -24841.5310585 ,\n",
       "       -22638.49006676, -17492.77135742, -10025.33605016,  -1111.74262564,\n",
       "         8146.4326271 ,  16491.65395   ,  22671.98262882,  25690.31849315,\n",
       "        25046.68437172,  20848.52338051,  13749.74892987,   4795.95772254,\n",
       "        -4732.70828103, -13481.85290394, -20232.12447013, -24114.94422302,\n",
       "       -24722.35841167, -22083.03568615, -16580.05527525,  -8881.69883813,\n",
       "           99.09113034,   9241.85232042,  17298.35705157,  23057.46663488,\n",
       "        25585.58013219,  24452.38839749,  19828.41602093,  12421.04335185,\n",
       "         3322.24434153,  -6152.67266008, -14642.54272746, -20964.57144938,\n",
       "       -24320.85418265, -24381.91376091, -21245.19092848, -15351.72446805,\n",
       "        -7420.6355995 ,   1593.66192341,  10549.27358029,  18210.55779709,\n",
       "        23419.45250977,  25325.45405146,  23588.36400474,  18457.20584255,\n",
       "        10702.9048864 ,   1470.59709366,  -7887.6983109 , -16012.66810696,\n",
       "       -21776.36159447, -24471.698783  , -23863.0317012 , -20126.59557055,\n",
       "       -13768.58209535,  -5565.96646635,   3477.6747519 ,  12192.77056444,\n",
       "        19356.3463109 ,  23874.26301626,  25000.15770607,  22508.925846  ,\n",
       "        16749.70648684,   8573.28383373,   -810.27526365, -10008.39550153,\n",
       "       -17672.82662612, -22750.16679526, -24644.79452945, -23230.70773252,\n",
       "       -18774.25959671, -11855.99324016,  -3319.82901849,   5771.97483054,\n",
       "        14214.54598964,  20796.72442459,  24498.12528686,  24696.27679998,\n",
       "        21304.84330498,  14794.3942419 ,   6112.36840504,  -3454.10623187,\n",
       "       -12468.89774611, -19605.03334102, -23901.20625404, -24888.5830664 ,\n",
       "       -22561.42741803, -17284.66759597,  -9721.39720682,   -791.07363738,\n",
       "         8376.81555036,  16536.13146639,  22488.09282859,  25294.8570818 ,\n",
       "        24472.54751314,  20089.33187793,  12750.09952021,   3508.68033168,\n",
       "        -6264.64860402, -15091.89569693, -21677.35864064, -25161.73578638,\n",
       "       -25206.56912138, -21926.75718108, -15787.57653228,  -7538.89926034,\n",
       "         1818.94636816,  11084.52539231,  18968.79790894])"
      ]
     },
     "execution_count": 20,
     "metadata": {},
     "output_type": "execute_result"
    }
   ],
   "source": [
    "predictions"
   ]
  },
  {
   "cell_type": "raw",
   "id": "obvious-sigma",
   "metadata": {},
   "source": [
    "import math\n",
    "from sklearn.metrics import mean_squared_error\n",
    "\n",
    "# make predictions\n",
    "trainPredict = model.predict(trainX)\n",
    "testPredict = model.predict(testX)\n",
    "\n",
    "# Get something which has as many features as dataset\n",
    "trainPredict_extended = np.zeros((len(trainPredict),6))\n",
    "# Put the predictions there\n",
    "trainPredict_extended[:,2] = trainPredict[:,0]\n",
    "# Inverse transform it and select the 3rd column.\n",
    "trainPredict = scaler.inverse_transform(trainPredict_extended) [:,2]  \n",
    "\n",
    "\n",
    "trainY_extended = np.zeros((len(trainY),6))\n",
    "trainY_extended[:,2]=trainY\n",
    "trainY=scaler.inverse_transform(trainY_extended)[:,2]\n",
    "\n",
    "\n",
    "testY_extended = np.zeros((len(testY),6))\n",
    "testY_extended[:,2]=testY\n",
    "testY=scaler.inverse_transform(testY_extended)[:,2]\n",
    "\n",
    "\n",
    "# calculate root mean squared error\n",
    "trainScore = math.sqrt(mean_squared_error(trainY, trainPredict))\n",
    "print('Train Score: %.2f RMSE' % (trainScore))\n",
    "testScore = math.sqrt(mean_squared_error(testY, testPredict))\n",
    "print('Test Score: %.2f RMSE' % (testScore))\n",
    "\n",
    "# shift train predictions for plotting\n",
    "trainPredictPlot = np.empty_like(dataset)\n",
    "trainPredictPlot[:, :] = np.nan\n",
    "trainPredictPlot[look_back:len(trainPredict)+look_back, 2] = trainPredict\n",
    "\n",
    "# shift test predictions for plotting\n",
    "testPredictPlot = np.empty_like(dataset)\n",
    "testPredictPlot[:, :] = np.nan\n",
    "testPredictPlot[len(trainPredict)+(look_back*2)+1:len(dataset)-1, 2] = testPredict[:,0]\n",
    "\n",
    "#plot\n",
    "\n",
    "serie,=plt.plot(scaler.inverse_transform(dataset)[:,2])  \n",
    "prediccion_entrenamiento,=plt.plot(trainPredictPlot[:,2],linestyle='--')  \n",
    "prediccion_test,=plt.plot(testPredictPlot[:,2],linestyle='--')\n",
    "plt.title('Consumo de agua')\n",
    "plt.ylabel('cosumo (m3)')\n",
    "plt.xlabel('dia')\n",
    "plt.legend([serie,prediccion_entrenamiento,prediccion_test],['serie','entrenamiento','test'], loc='upper right')"
   ]
  }
 ],
 "metadata": {
  "kernelspec": {
   "display_name": "Python 3",
   "language": "python",
   "name": "python3"
  },
  "language_info": {
   "codemirror_mode": {
    "name": "ipython",
    "version": 3
   },
   "file_extension": ".py",
   "mimetype": "text/x-python",
   "name": "python",
   "nbconvert_exporter": "python",
   "pygments_lexer": "ipython3",
   "version": "3.7.9"
  }
 },
 "nbformat": 4,
 "nbformat_minor": 5
}
