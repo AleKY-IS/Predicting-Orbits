{
 "cells": [
  {
   "cell_type": "code",
   "execution_count": null,
   "id": "dental-groove",
   "metadata": {},
   "outputs": [],
   "source": [
    "import pandas as pd\n",
    "import numpy as np\n",
    "import matplotlib.pyplot as plt\n",
    "#import seaborn as sns\n",
    "#sns.set_style('whitegrid')\n",
    "plt.style.use(\"fivethirtyeight\")\n",
    "%matplotlib inline\n",
    "\n",
    "df = pd.read_csv('Dataframes/3rdBodyPerturbationPoliastro.csv')\n",
    "\n",
    "df"
   ]
  },
  {
   "cell_type": "markdown",
   "id": "olive-magic",
   "metadata": {},
   "source": [
    "Now we want to predict X values (can change for Y, Z):"
   ]
  },
  {
   "cell_type": "code",
   "execution_count": null,
   "id": "young-guyana",
   "metadata": {},
   "outputs": [],
   "source": [
    "#Create a new dataframe with only the x column\n",
    "data = df.filter(['x']) # CHANGE FOR Y,Z\n",
    "\n",
    "#Convert the dataframe to a numpy array\n",
    "dataset = data.values\n",
    "\n",
    "#Get the number of rows to train the model on\n",
    "training_data_len = int(np.ceil( len(dataset) * 0.8 ))\n",
    "\n",
    "training_data_len"
   ]
  },
  {
   "cell_type": "code",
   "execution_count": null,
   "id": "floating-malaysia",
   "metadata": {},
   "outputs": [],
   "source": [
    "#Scale the data\n",
    "from sklearn.preprocessing import MinMaxScaler\n",
    "\n",
    "scaler = MinMaxScaler()\n",
    "scaled_data = scaler.fit_transform(dataset)"
   ]
  },
  {
   "cell_type": "code",
   "execution_count": null,
   "id": "important-thread",
   "metadata": {},
   "outputs": [],
   "source": [
    "# Set roll-back window\n",
    "window = 60 # default was set to 60 before"
   ]
  },
  {
   "cell_type": "code",
   "execution_count": null,
   "id": "nearby-arrival",
   "metadata": {},
   "outputs": [],
   "source": [
    "#Create the training data set\n",
    "#Create the scaled training data set\n",
    "train_data = scaled_data[0:int(training_data_len), :]\n",
    "\n",
    "#Split the data into x_train and y_train data sets\n",
    "x_train = []\n",
    "y_train = []\n",
    "\n",
    "for i in range(window, len(train_data)):\n",
    "    x_train.append(train_data[i-window:i, 0])\n",
    "    y_train.append(train_data[i, 0])\n",
    "\n",
    "# Convert the x_train and y_train to numpy arrays \n",
    "x_train, y_train = np.array(x_train), np.array(y_train)\n",
    "\n",
    "#Reshape the data\n",
    "x_train = np.reshape(x_train, (x_train.shape[0], x_train.shape[1], 1))\n",
    "x_train.shape"
   ]
  },
  {
   "cell_type": "code",
   "execution_count": null,
   "id": "golden-donor",
   "metadata": {},
   "outputs": [],
   "source": [
    "#Create the testing data set\n",
    "#Create a new array containing scaled values\n",
    "test_data = scaled_data[training_data_len - window: , :]\n",
    "\n",
    "#Create the data sets x_test and y_test\n",
    "x_test = []\n",
    "y_test = dataset[training_data_len:, :]\n",
    "for i in range(window, len(test_data)):\n",
    "    x_test.append(test_data[i-window:i, 0])\n",
    "    \n",
    "# Convert the data to a numpy array\n",
    "x_test = np.array(x_test)\n",
    "\n",
    "# Reshape the data\n",
    "x_test = np.reshape(x_test, (x_test.shape[0], x_test.shape[1], 1))\n",
    "x_test.shape"
   ]
  },
  {
   "cell_type": "markdown",
   "id": "spare-atmosphere",
   "metadata": {},
   "source": [
    "# Model 1: Uni-Variate"
   ]
  },
  {
   "cell_type": "code",
   "execution_count": null,
   "id": "national-thumb",
   "metadata": {},
   "outputs": [],
   "source": [
    "from keras.models import Sequential\n",
    "from keras.layers import Dense, LSTM\n",
    "\n",
    "#Build the LSTM model\n",
    "# Note: replace LSTM with GRU or RNN if you want to try those\n",
    "model = Sequential()\n",
    "model.add(LSTM(128, return_sequences=True, input_shape= (x_train.shape[1], 1))) # input_shape = (60,1)\n",
    "model.add(LSTM(64, return_sequences=False))\n",
    "model.add(Dense(25))\n",
    "model.add(Dense(1))\n",
    "\n",
    "# Compile the model\n",
    "model.compile(optimizer='adam', loss='mean_squared_error')\n",
    "\n",
    "# Train the model\n",
    "history=model.fit(x_train, y_train, batch_size=16, epochs=10)\n",
    "\n",
    "# Plot Training Loss\n",
    "plt.plot(history.history['loss']) # add validation loss\n",
    "plt.title('model loss')\n",
    "plt.ylabel('period')\n",
    "plt.xlabel('epoch')\n",
    "plt.legend(['training'], loc='upper right')\n",
    "plt.show()"
   ]
  },
  {
   "cell_type": "code",
   "execution_count": null,
   "id": "found-transmission",
   "metadata": {},
   "outputs": [],
   "source": [
    "# Get the models predicted price values \n",
    "predictions = model.predict(x_test)\n",
    "predictions = scaler.inverse_transform(predictions)\n",
    "\n",
    "# Get the root mean squared error (RMSE)\n",
    "rmse = np.sqrt(np.mean(((predictions - y_test) ** 2)))\n",
    "rmse"
   ]
  },
  {
   "cell_type": "markdown",
   "id": "functional-penalty",
   "metadata": {},
   "source": [
    "### Plot:"
   ]
  },
  {
   "cell_type": "code",
   "execution_count": null,
   "id": "german-tournament",
   "metadata": {},
   "outputs": [],
   "source": [
    "# Plot the data\n",
    "train = data[:training_data_len]\n",
    "valid = data[training_data_len:]\n",
    "valid['Predictions'] = predictions\n",
    "# Visualize the data\n",
    "plt.figure(figsize=(16,8))\n",
    "plt.title('Model')\n",
    "plt.xlabel('Date', fontsize=18)\n",
    "plt.ylabel('X-Coord', fontsize=18)\n",
    "plt.plot(train['x'])\n",
    "plt.plot(valid[['x', 'Predictions']])\n",
    "plt.legend(['Train', 'Val', 'Predictions'], loc='lower right')\n",
    "plt.show()"
   ]
  },
  {
   "cell_type": "markdown",
   "id": "checked-civilization",
   "metadata": {},
   "source": [
    "### Error plot:"
   ]
  },
  {
   "cell_type": "code",
   "execution_count": null,
   "id": "stainless-funds",
   "metadata": {},
   "outputs": [],
   "source": [
    "valid['Error']=abs(valid.Predictions-valid.x)/6738 # the normalization ct is taken as ISS semi-major axis\n",
    "valid.Error.plot()\n",
    "# add labels and units!!!"
   ]
  },
  {
   "cell_type": "markdown",
   "id": "included-allen",
   "metadata": {},
   "source": [
    "# Model 2: Multi-Variate"
   ]
  },
  {
   "cell_type": "code",
   "execution_count": 1,
   "id": "applicable-collective",
   "metadata": {},
   "outputs": [
    {
     "data": {
      "text/html": [
       "<div>\n",
       "<style scoped>\n",
       "    .dataframe tbody tr th:only-of-type {\n",
       "        vertical-align: middle;\n",
       "    }\n",
       "\n",
       "    .dataframe tbody tr th {\n",
       "        vertical-align: top;\n",
       "    }\n",
       "\n",
       "    .dataframe thead th {\n",
       "        text-align: right;\n",
       "    }\n",
       "</style>\n",
       "<table border=\"1\" class=\"dataframe\">\n",
       "  <thead>\n",
       "    <tr style=\"text-align: right;\">\n",
       "      <th></th>\n",
       "      <th>x</th>\n",
       "      <th>y</th>\n",
       "      <th>z</th>\n",
       "      <th>x_vv</th>\n",
       "      <th>y_vv</th>\n",
       "      <th>z_vv</th>\n",
       "    </tr>\n",
       "  </thead>\n",
       "  <tbody>\n",
       "    <tr>\n",
       "      <th>0</th>\n",
       "      <td>42159.783600</td>\n",
       "      <td>0.000000</td>\n",
       "      <td>0.000000</td>\n",
       "      <td>0.000000</td>\n",
       "      <td>3.074505</td>\n",
       "      <td>0.053666</td>\n",
       "    </tr>\n",
       "    <tr>\n",
       "      <th>1</th>\n",
       "      <td>39159.545914</td>\n",
       "      <td>15563.916303</td>\n",
       "      <td>266.913399</td>\n",
       "      <td>-1.142984</td>\n",
       "      <td>2.852848</td>\n",
       "      <td>0.048528</td>\n",
       "    </tr>\n",
       "    <tr>\n",
       "      <th>2</th>\n",
       "      <td>30572.229294</td>\n",
       "      <td>28909.053086</td>\n",
       "      <td>496.928223</td>\n",
       "      <td>-2.127756</td>\n",
       "      <td>2.228986</td>\n",
       "      <td>0.039518</td>\n",
       "    </tr>\n",
       "    <tr>\n",
       "      <th>3</th>\n",
       "      <td>17596.068412</td>\n",
       "      <td>38144.740319</td>\n",
       "      <td>671.356184</td>\n",
       "      <td>-2.813645</td>\n",
       "      <td>1.287415</td>\n",
       "      <td>0.027234</td>\n",
       "    </tr>\n",
       "    <tr>\n",
       "      <th>4</th>\n",
       "      <td>2068.446366</td>\n",
       "      <td>41949.706443</td>\n",
       "      <td>775.646554</td>\n",
       "      <td>-3.098444</td>\n",
       "      <td>0.161675</td>\n",
       "      <td>0.012698</td>\n",
       "    </tr>\n",
       "    <tr>\n",
       "      <th>...</th>\n",
       "      <td>...</td>\n",
       "      <td>...</td>\n",
       "      <td>...</td>\n",
       "      <td>...</td>\n",
       "      <td>...</td>\n",
       "      <td>...</td>\n",
       "    </tr>\n",
       "    <tr>\n",
       "      <th>995</th>\n",
       "      <td>38132.961517</td>\n",
       "      <td>21370.880108</td>\n",
       "      <td>-7532.333000</td>\n",
       "      <td>-0.876644</td>\n",
       "      <td>2.199413</td>\n",
       "      <td>1.750026</td>\n",
       "    </tr>\n",
       "    <tr>\n",
       "      <th>996</th>\n",
       "      <td>31399.515894</td>\n",
       "      <td>31233.289707</td>\n",
       "      <td>1828.575655</td>\n",
       "      <td>-1.692745</td>\n",
       "      <td>1.562118</td>\n",
       "      <td>1.820311</td>\n",
       "    </tr>\n",
       "    <tr>\n",
       "      <th>997</th>\n",
       "      <td>20906.077447</td>\n",
       "      <td>37238.565267</td>\n",
       "      <td>10967.804062</td>\n",
       "      <td>-2.312211</td>\n",
       "      <td>0.726117</td>\n",
       "      <td>1.664753</td>\n",
       "    </tr>\n",
       "    <tr>\n",
       "      <th>998</th>\n",
       "      <td>7871.245318</td>\n",
       "      <td>38575.122415</td>\n",
       "      <td>18731.818721</td>\n",
       "      <td>-2.661184</td>\n",
       "      <td>-0.221639</td>\n",
       "      <td>1.293445</td>\n",
       "    </tr>\n",
       "    <tr>\n",
       "      <th>999</th>\n",
       "      <td>-6142.526530</td>\n",
       "      <td>34919.272230</td>\n",
       "      <td>24066.202237</td>\n",
       "      <td>-2.681132</td>\n",
       "      <td>-1.179765</td>\n",
       "      <td>0.734721</td>\n",
       "    </tr>\n",
       "  </tbody>\n",
       "</table>\n",
       "<p>1000 rows × 6 columns</p>\n",
       "</div>"
      ],
      "text/plain": [
       "                x             y             z      x_vv      y_vv      z_vv\n",
       "0    42159.783600      0.000000      0.000000  0.000000  3.074505  0.053666\n",
       "1    39159.545914  15563.916303    266.913399 -1.142984  2.852848  0.048528\n",
       "2    30572.229294  28909.053086    496.928223 -2.127756  2.228986  0.039518\n",
       "3    17596.068412  38144.740319    671.356184 -2.813645  1.287415  0.027234\n",
       "4     2068.446366  41949.706443    775.646554 -3.098444  0.161675  0.012698\n",
       "..            ...           ...           ...       ...       ...       ...\n",
       "995  38132.961517  21370.880108  -7532.333000 -0.876644  2.199413  1.750026\n",
       "996  31399.515894  31233.289707   1828.575655 -1.692745  1.562118  1.820311\n",
       "997  20906.077447  37238.565267  10967.804062 -2.312211  0.726117  1.664753\n",
       "998   7871.245318  38575.122415  18731.818721 -2.661184 -0.221639  1.293445\n",
       "999  -6142.526530  34919.272230  24066.202237 -2.681132 -1.179765  0.734721\n",
       "\n",
       "[1000 rows x 6 columns]"
      ]
     },
     "execution_count": 1,
     "metadata": {},
     "output_type": "execute_result"
    }
   ],
   "source": [
    "import pandas as pd\n",
    "import numpy as np\n",
    "import matplotlib.pyplot as plt\n",
    "#import seaborn as sns\n",
    "#sns.set_style('whitegrid')\n",
    "plt.style.use(\"fivethirtyeight\")\n",
    "%matplotlib inline\n",
    "from sklearn.preprocessing import MinMaxScaler\n",
    "from keras.models import Sequential\n",
    "from keras.layers import Dense, LSTM\n",
    "\n",
    "df = pd.read_csv('Dataframes/3rdBodyPerturbationPoliastro.csv')\n",
    "df_v = pd.read_csv('Dataframes/3rdBodyPerturbationPoliastro_vv.csv')\n",
    "\n",
    "df['x_vv']=df_v.vv_x\n",
    "df['y_vv']=df_v.vv_y\n",
    "df['z_vv']=df_v.vv_z\n",
    "\n",
    "df"
   ]
  },
  {
   "cell_type": "code",
   "execution_count": 2,
   "id": "indie-publication",
   "metadata": {},
   "outputs": [],
   "source": [
    "# convert an array of values into a dataset matrix\n",
    "\n",
    "def create_dataset(dataset, look_back):\n",
    "    dataX = []\n",
    "    dataY = []\n",
    "    for i in range(len(dataset) - look_back):\n",
    "        a = dataset[i:(i + look_back), :]\n",
    "        dataX.append(a)\n",
    "        dataY.append(dataset[i + look_back, 2])\n",
    "    return np.array(dataX), np.array(dataY)"
   ]
  },
  {
   "cell_type": "code",
   "execution_count": 3,
   "id": "racial-boring",
   "metadata": {},
   "outputs": [],
   "source": [
    "# load the dataset\n",
    "dataset = df.values"
   ]
  },
  {
   "cell_type": "code",
   "execution_count": 4,
   "id": "static-rebecca",
   "metadata": {},
   "outputs": [],
   "source": [
    "# split into train and test sets\n",
    "train_size = int(len(dataset) * 0.8) \n",
    "test_size = len(dataset) - train_size\n",
    "\n",
    "train=dataset[0 : train_size]\n",
    "test=dataset[train_size - 60 : ]"
   ]
  },
  {
   "cell_type": "code",
   "execution_count": 5,
   "id": "sweet-discipline",
   "metadata": {},
   "outputs": [
    {
     "data": {
      "text/plain": [
       "(800, 6)"
      ]
     },
     "execution_count": 5,
     "metadata": {},
     "output_type": "execute_result"
    }
   ],
   "source": [
    "train.shape"
   ]
  },
  {
   "cell_type": "code",
   "execution_count": 6,
   "id": "approximate-utilization",
   "metadata": {},
   "outputs": [],
   "source": [
    "#Scale the data\n",
    "from sklearn.preprocessing import MinMaxScaler\n",
    "scaler = MinMaxScaler()\n",
    "train = scaler.fit_transform(train)\n",
    "test = scaler.transform(test)\n",
    "\n",
    "# reshape into X=t and Y=t+1\n",
    "look_back = 60\n",
    "trainX, trainY = create_dataset(train, look_back)  \n",
    "testX, testY = create_dataset(test, look_back)\n",
    "\n",
    "# reshape input to be  [length of train/test data, window size (def=60), features]\n",
    "trainX = np.reshape(trainX, (trainX.shape[0], look_back, 6))\n",
    "testX = np.reshape(testX, (testX.shape[0],look_back, 6))"
   ]
  },
  {
   "cell_type": "code",
   "execution_count": 7,
   "id": "secret-example",
   "metadata": {},
   "outputs": [
    {
     "data": {
      "text/plain": [
       "(740, 60, 6)"
      ]
     },
     "execution_count": 7,
     "metadata": {},
     "output_type": "execute_result"
    }
   ],
   "source": [
    "trainX.shape"
   ]
  },
  {
   "cell_type": "code",
   "execution_count": 8,
   "id": "engaging-funds",
   "metadata": {},
   "outputs": [
    {
     "data": {
      "text/plain": [
       "(200, 60, 6)"
      ]
     },
     "execution_count": 8,
     "metadata": {},
     "output_type": "execute_result"
    }
   ],
   "source": [
    "testX.shape"
   ]
  },
  {
   "cell_type": "code",
   "execution_count": 9,
   "id": "exposed-stomach",
   "metadata": {},
   "outputs": [
    {
     "data": {
      "text/plain": [
       "(200,)"
      ]
     },
     "execution_count": 9,
     "metadata": {},
     "output_type": "execute_result"
    }
   ],
   "source": [
    "testY.shape"
   ]
  },
  {
   "cell_type": "raw",
   "id": "broad-filename",
   "metadata": {},
   "source": [
    "print(trainX[0]) # (60 x 6 dimensions)"
   ]
  },
  {
   "cell_type": "code",
   "execution_count": 10,
   "id": "twenty-confidence",
   "metadata": {},
   "outputs": [
    {
     "name": "stdout",
     "output_type": "stream",
     "text": [
      "Epoch 1/10\n",
      "3/3 [==============================] - 0s 154ms/step - loss: 0.1913\n",
      "Epoch 2/10\n",
      "3/3 [==============================] - 0s 152ms/step - loss: 0.0626\n",
      "Epoch 3/10\n",
      "3/3 [==============================] - 0s 148ms/step - loss: 0.0573\n",
      "Epoch 4/10\n",
      "3/3 [==============================] - 0s 133ms/step - loss: 0.0435\n",
      "Epoch 5/10\n",
      "3/3 [==============================] - 0s 137ms/step - loss: 0.0425\n",
      "Epoch 6/10\n",
      "3/3 [==============================] - 0s 131ms/step - loss: 0.0383\n",
      "Epoch 7/10\n",
      "3/3 [==============================] - 0s 131ms/step - loss: 0.0308\n",
      "Epoch 8/10\n",
      "3/3 [==============================] - 0s 144ms/step - loss: 0.0266\n",
      "Epoch 9/10\n",
      "3/3 [==============================] - 0s 137ms/step - loss: 0.0239 0s - loss: 0.02\n",
      "Epoch 10/10\n",
      "3/3 [==============================] - 0s 147ms/step - loss: 0.0185\n"
     ]
    },
    {
     "data": {
      "image/png": "[encoded data removed]",
      "text/plain": [
       "<Figure size 432x288 with 1 Axes>"
      ]
     },
     "metadata": {
      "needs_background": "light"
     },
     "output_type": "display_data"
    }
   ],
   "source": [
    "from keras.models import Sequential\n",
    "from keras.layers import Dense, LSTM\n",
    "\n",
    "# Build the LSTM model\n",
    "# Note: replace LSTM with GRU or RNN if you want to try those\n",
    "model = Sequential()\n",
    "model.add(LSTM(128, return_sequences=True, input_shape= (look_back, 6)))\n",
    "model.add(LSTM(64, return_sequences=False))\n",
    "model.add(Dense(25))\n",
    "model.add(Dense(6))\n",
    "\n",
    "# Compile the model\n",
    "model.compile(optimizer='adam', loss='mean_squared_error')\n",
    "\n",
    "# Train the model\n",
    "history=model.fit(trainX, trainY, batch_size=256, epochs=10)\n",
    "\n",
    "# Plot Training Loss\n",
    "plt.plot(history.history['loss']) # add validation loss\n",
    "plt.title('model loss')\n",
    "plt.ylabel('period')\n",
    "plt.xlabel('epoch')\n",
    "plt.legend(['training'], loc='upper right')\n",
    "plt.show()"
   ]
  },
  {
   "cell_type": "code",
   "execution_count": 11,
   "id": "demanding-implement",
   "metadata": {},
   "outputs": [
    {
     "data": {
      "text/plain": [
       "(200, 6)"
      ]
     },
     "execution_count": 11,
     "metadata": {},
     "output_type": "execute_result"
    }
   ],
   "source": [
    "predictions = model.predict(testX)\n",
    "predictions.shape"
   ]
  },
  {
   "cell_type": "code",
   "execution_count": 12,
   "id": "federal-parameter",
   "metadata": {},
   "outputs": [
    {
     "data": {
      "text/plain": [
       "array([[0.6927103 , 0.67929655, 0.6199513 , 0.74119085, 0.6782881 ,\n",
       "        0.6616647 ],\n",
       "       [0.6507063 , 0.61661196, 0.5924159 , 0.68547803, 0.608634  ,\n",
       "        0.6053868 ],\n",
       "       [0.5895378 , 0.5343648 , 0.55454856, 0.60479945, 0.5241342 ,\n",
       "        0.5339387 ],\n",
       "       ...,\n",
       "       [0.54611987, 0.564657  , 0.5434963 , 0.5559024 , 0.6243147 ,\n",
       "        0.57862365],\n",
       "       [0.6207135 , 0.6472492 , 0.5872735 , 0.6506287 , 0.69661236,\n",
       "        0.6503057 ],\n",
       "       [0.680335  , 0.7067977 , 0.6216695 , 0.7274179 , 0.744677  ,\n",
       "        0.70065725]], dtype=float32)"
      ]
     },
     "execution_count": 12,
     "metadata": {},
     "output_type": "execute_result"
    }
   ],
   "source": [
    "predictions"
   ]
  },
  {
   "cell_type": "code",
   "execution_count": 13,
   "id": "decent-scene",
   "metadata": {},
   "outputs": [
    {
     "data": {
      "text/plain": [
       "array([[1.5850594e+04, 1.4641871e+04, 5.5734551e+03, 1.4713777e+00,\n",
       "        1.1766833e+00, 5.4795092e-01],\n",
       "       [1.2254343e+04, 9.1331982e+03, 4.3374272e+03, 1.1222060e+00,\n",
       "        7.3182034e-01, 3.6714116e-01],\n",
       "       [7.0172856e+03, 1.9053846e+03, 2.6376101e+03, 6.1656493e-01,\n",
       "        1.9214176e-01, 1.3759272e-01],\n",
       "       ...,\n",
       "       [3.2999773e+03, 4.5674351e+03, 2.1414888e+03, 3.1011003e-01,\n",
       "        8.3196914e-01, 2.8115654e-01],\n",
       "       [9.6864502e+03, 1.1825577e+04, 4.1065894e+03, 9.0379280e-01,\n",
       "        1.2937157e+00, 5.1145661e-01],\n",
       "       [1.4791059e+04, 1.7058652e+04, 5.6505811e+03, 1.3850577e+00,\n",
       "        1.6006924e+00, 6.7322612e-01]], dtype=float32)"
      ]
     },
     "execution_count": 13,
     "metadata": {},
     "output_type": "execute_result"
    }
   ],
   "source": [
    "pred = scaler.inverse_transform(predictions)\n",
    "pred"
   ]
  },
  {
   "cell_type": "code",
   "execution_count": 17,
   "id": "patent-edward",
   "metadata": {},
   "outputs": [
    {
     "data": {
      "text/plain": [
       "array([1.5850594e+04, 1.4641871e+04, 5.5734551e+03, 1.4713777e+00,\n",
       "       1.1766833e+00, 5.4795092e-01], dtype=float32)"
      ]
     },
     "execution_count": 17,
     "metadata": {},
     "output_type": "execute_result"
    }
   ],
   "source": [
    "pred[0]"
   ]
  },
  {
   "cell_type": "code",
   "execution_count": null,
   "id": "nominated-canvas",
   "metadata": {},
   "outputs": [],
   "source": [
    "# Get the models predicted price values \n",
    "predictions = model.predict(testX)\n",
    "#predictions = scaler.inverse_transform(predictions)\n",
    "\n",
    "# Get something which has as many features as dataset\n",
    "predict_ext = np.zeros((len(predictions), 6))\n",
    "# Put the predictions there\n",
    "predict_ext[:,2] = predictions[:,0]\n",
    "# Inverse transform it and select the 3rd column.\n",
    "predictions = scaler.inverse_transform(predict_ext)[:,2]\n",
    "\n",
    "testY_extended = np.zeros((len(testY),6))\n",
    "testY_extended[:,2]=testY\n",
    "testY=scaler.inverse_transform(testY_extended)[:,2]"
   ]
  },
  {
   "cell_type": "code",
   "execution_count": null,
   "id": "massive-simpson",
   "metadata": {},
   "outputs": [],
   "source": [
    "# RMSE\n",
    "rmse = np.sqrt(np.mean(((predictions - testY) ** 2)))\n",
    "rmse"
   ]
  },
  {
   "cell_type": "code",
   "execution_count": null,
   "id": "present-struggle",
   "metadata": {},
   "outputs": [],
   "source": [
    "# Plot the data\n",
    "train = df[:train_size]\n",
    "test = df[train_size:]\n",
    "test"
   ]
  },
  {
   "cell_type": "code",
   "execution_count": null,
   "id": "equal-injury",
   "metadata": {},
   "outputs": [],
   "source": [
    "testY_rescaled=scaler.inverse_transform(testY)"
   ]
  },
  {
   "cell_type": "code",
   "execution_count": null,
   "id": "abandoned-backup",
   "metadata": {},
   "outputs": [],
   "source": [
    "dataa = {'testY': scaler.inverse_transform(testY), 'predictions': scaler.inverse_transform(predictions.reshape(testY.shape))}\n",
    "dff = pd.DataFrame.from_dict(dataa)\n",
    "dff"
   ]
  },
  {
   "cell_type": "code",
   "execution_count": null,
   "id": "curious-invention",
   "metadata": {},
   "outputs": [],
   "source": [
    "plt.figure(figsize=(16,8))\n",
    "plt.title('Testing data')\n",
    "plt.xlabel('Date', fontsize=18)\n",
    "plt.ylabel('X-Coord', fontsize=18)\n",
    "plt.plot(dff.testY)\n",
    "plt.plot(dff.predictions)\n",
    "plt.legend(['TestY', 'Predictions'], loc='lower right')\n",
    "plt.show()"
   ]
  },
  {
   "cell_type": "raw",
   "id": "frozen-serve",
   "metadata": {},
   "source": [
    "test['Predictions'] = predictions\n",
    "# Visualize the data\n",
    "plt.figure(figsize=(16,8))\n",
    "plt.title('Model')\n",
    "plt.xlabel('Date', fontsize=18)\n",
    "plt.ylabel('X-Coord', fontsize=18)\n",
    "plt.plot(train['x'])\n",
    "plt.plot(valid[['x', 'Predictions']])\n",
    "plt.legend(['Train', 'Val', 'Predictions'], loc='lower right')\n",
    "plt.show()"
   ]
  },
  {
   "cell_type": "code",
   "execution_count": null,
   "id": "hidden-kentucky",
   "metadata": {},
   "outputs": [],
   "source": [
    "predictions"
   ]
  },
  {
   "cell_type": "raw",
   "id": "obvious-sigma",
   "metadata": {},
   "source": [
    "import math\n",
    "from sklearn.metrics import mean_squared_error\n",
    "\n",
    "# make predictions\n",
    "trainPredict = model.predict(trainX)\n",
    "testPredict = model.predict(testX)\n",
    "\n",
    "# Get something which has as many features as dataset\n",
    "trainPredict_extended = np.zeros((len(trainPredict),6))\n",
    "# Put the predictions there\n",
    "trainPredict_extended[:,2] = trainPredict[:,0]\n",
    "# Inverse transform it and select the 3rd column.\n",
    "trainPredict = scaler.inverse_transform(trainPredict_extended) [:,2]  \n",
    "\n",
    "\n",
    "trainY_extended = np.zeros((len(trainY),6))\n",
    "trainY_extended[:,2]=trainY\n",
    "trainY=scaler.inverse_transform(trainY_extended)[:,2]\n",
    "\n",
    "\n",
    "testY_extended = np.zeros((len(testY),6))\n",
    "testY_extended[:,2]=testY\n",
    "testY=scaler.inverse_transform(testY_extended)[:,2]\n",
    "\n",
    "\n",
    "# calculate root mean squared error\n",
    "trainScore = math.sqrt(mean_squared_error(trainY, trainPredict))\n",
    "print('Train Score: %.2f RMSE' % (trainScore))\n",
    "testScore = math.sqrt(mean_squared_error(testY, testPredict))\n",
    "print('Test Score: %.2f RMSE' % (testScore))\n",
    "\n",
    "# shift train predictions for plotting\n",
    "trainPredictPlot = np.empty_like(dataset)\n",
    "trainPredictPlot[:, :] = np.nan\n",
    "trainPredictPlot[look_back:len(trainPredict)+look_back, 2] = trainPredict\n",
    "\n",
    "# shift test predictions for plotting\n",
    "testPredictPlot = np.empty_like(dataset)\n",
    "testPredictPlot[:, :] = np.nan\n",
    "testPredictPlot[len(trainPredict)+(look_back*2)+1:len(dataset)-1, 2] = testPredict[:,0]\n",
    "\n",
    "#plot\n",
    "\n",
    "serie,=plt.plot(scaler.inverse_transform(dataset)[:,2])  \n",
    "prediccion_entrenamiento,=plt.plot(trainPredictPlot[:,2],linestyle='--')  \n",
    "prediccion_test,=plt.plot(testPredictPlot[:,2],linestyle='--')\n",
    "plt.title('Consumo de agua')\n",
    "plt.ylabel('cosumo (m3)')\n",
    "plt.xlabel('dia')\n",
    "plt.legend([serie,prediccion_entrenamiento,prediccion_test],['serie','entrenamiento','test'], loc='upper right')"
   ]
  }
 ],
 "metadata": {
  "kernelspec": {
   "display_name": "Python 3",
   "language": "python",
   "name": "python3"
  },
  "language_info": {
   "codemirror_mode": {
    "name": "ipython",
    "version": 3
   },
   "file_extension": ".py",
   "mimetype": "text/x-python",
   "name": "python",
   "nbconvert_exporter": "python",
   "pygments_lexer": "ipython3",
   "version": "3.7.9"
  }
 },
 "nbformat": 4,
 "nbformat_minor": 5
}
