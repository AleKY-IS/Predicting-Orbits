{
 "cells": [
  {
   "cell_type": "code",
   "execution_count": 1,
   "id": "polar-semiconductor",
   "metadata": {},
   "outputs": [],
   "source": [
    "# Function\n",
    "\n",
    "def transform_rv_to_oe(df): # df as input\n",
    "    df_p = []\n",
    "    df_ecc = []\n",
    "    df_inc = []\n",
    "    df_raan = []\n",
    "    df_argp = []\n",
    "    df_nu = []\n",
    "    \n",
    "    #Iterate all rows of R,V datapoints\n",
    "    for i in range(0,500):\n",
    "        \n",
    "        rrr = np.array([df.x[i],df.y[i],df.z[i]])\n",
    "        vvv = np.array([df.x_vv[i],df.y_vv[i],df.z_vv[i]])\n",
    "        p,ecc,inc,raan,argp,nu = rv2coe(k=Earth.k*1e-9, r=rrr, v=vvv)\n",
    "    \n",
    "        df_p.append(p)\n",
    "        df_ecc.append(ecc)\n",
    "        df_inc.append(inc)\n",
    "        df_raan.append(raan)\n",
    "        df_argp.append(argp)\n",
    "        df_nu.append(nu)\n",
    "    \n",
    "    # Write to DF with OE\n",
    "    df_OE = pd.DataFrame(\n",
    "        {'p': df_p,\n",
    "         'ecc': df_ecc,\n",
    "         'inc': df_inc,\n",
    "         'raan': df_raan,\n",
    "         'argp': df_argp,\n",
    "         'nu': df_nu,\n",
    "        })\n",
    "    \n",
    "    #print(df_OE.head())\n",
    "    return df_OE"
   ]
  },
  {
   "cell_type": "code",
   "execution_count": null,
   "id": "aboriginal-blair",
   "metadata": {},
   "outputs": [],
   "source": []
  }
 ],
 "metadata": {
  "kernelspec": {
   "display_name": "Python 3",
   "language": "python",
   "name": "python3"
  },
  "language_info": {
   "codemirror_mode": {
    "name": "ipython",
    "version": 3
   },
   "file_extension": ".py",
   "mimetype": "text/x-python",
   "name": "python",
   "nbconvert_exporter": "python",
   "pygments_lexer": "ipython3",
   "version": "3.7.9"
  }
 },
 "nbformat": 4,
 "nbformat_minor": 5
}
